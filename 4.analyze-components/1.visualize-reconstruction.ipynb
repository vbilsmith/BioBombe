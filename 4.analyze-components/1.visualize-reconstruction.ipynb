{
 "cells": [
  {
   "cell_type": "markdown",
   "metadata": {},
   "source": [
    "# Interpretation of Compression Models\n",
    "\n",
    "## Curating and Visualizing Reconstruction Loss\n",
    "\n",
    "**Gregory Way 2018**\n",
    "\n",
    "Compiling results of the z dimensionality sweep across algorithms and datasets.\n",
    "\n",
    "The data was generated first by running the script [2.ensemble-z-analysis/analysis.sh](https://github.com/greenelab/BioBombe/blob/master/2.ensemble-z-analysis/analysis.sh) as follows:\n",
    "\n",
    "```bash\n",
    "bash 2.ensemble-z-analysis/analysis.sh\n",
    "```\n",
    "\n",
    "## Structure:\n",
    "\n",
    "The notebook first curates all of the reconstruction loss results across datasets and outputs them in long format.\n",
    "Next, the results are visualized in a series of figures describing reconstruction loss.\n",
    "\n",
    "## Output:\n",
    "\n",
    "1. Curated reconstruction results across datasets in long matrix format.\n",
    "2. Reconstruction loss figures across algorithms and dimensions."
   ]
  },
  {
   "cell_type": "code",
   "execution_count": 1,
   "metadata": {},
   "outputs": [
    {
     "name": "stderr",
     "output_type": "stream",
     "text": [
      "Installing package into ‘/home/paperspace/R/x86_64-pc-linux-gnu-library/4.4’\n",
      "(as ‘lib’ is unspecified)\n",
      "\n",
      "Warning message in install.packages(\"ggplot2\"):\n",
      "“installation of package ‘ggplot2’ had non-zero exit status”\n"
     ]
    }
   ],
   "source": [
    "install.packages('ggplot2')"
   ]
  },
  {
   "cell_type": "code",
   "execution_count": 6,
   "metadata": {},
   "outputs": [],
   "source": [
    "suppressPackageStartupMessages(library(dplyr))\n",
    "suppressPackageStartupMessages(library(ggplot2))\n",
    "suppressPackageStartupMessages(library(cowplot))"
   ]
  },
  {
   "cell_type": "code",
   "execution_count": 7,
   "metadata": {},
   "outputs": [],
   "source": [
    "# Load helper functions\n",
    "source(file.path(\"scripts\", \"util.R\"))"
   ]
  },
  {
   "cell_type": "markdown",
   "metadata": {},
   "source": [
    "## TARGET Reconstruction Results"
   ]
  },
  {
   "cell_type": "code",
   "execution_count": 9,
   "metadata": {},
   "outputs": [
    {
     "name": "stderr",
     "output_type": "stream",
     "text": [
      "Warning message:\n",
      "“Unknown or uninitialised column: `num_comp`.”\n",
      "Warning message:\n",
      "“Unknown or uninitialised column: `num_comp`.”\n",
      "Warning message:\n",
      "“Unknown or uninitialised column: `algorithm`.”\n",
      "Warning message:\n",
      "“Unknown or uninitialised column: `reconstruction_cost`.”\n"
     ]
    },
    {
     "name": "stdout",
     "output_type": "stream",
     "text": [
      "\u001b[90m# A tibble: 0 × 3\u001b[39m\n",
      "\u001b[90m# ℹ 3 variables: num_comp <fct>, algorithm <fct>, reconstruction_cost <dbl>\u001b[39m\n"
     ]
    }
   ],
   "source": [
    "# Define the dataset to compile results for\n",
    "dataset <- 'TARGET'\n",
    "base_dir <- file.path(\"figures\", dataset)\n",
    "\n",
    "target_recon_cost_df <- compile_reconstruction_data(dataset)\n",
    "# print(target_recon_cost_df)\n",
    "recon_file <- file.path(\"results\", paste0(\"reconstruction_\", dataset, \".tsv\"))\n",
    "\n",
    "# Write results to file\n",
    "readr::write_tsv(target_recon_cost_df, path = recon_file)"
   ]
  },
  {
   "cell_type": "code",
   "execution_count": 5,
   "metadata": {},
   "outputs": [
    {
     "ename": "ERROR",
     "evalue": "\u001b[1m\u001b[33mError\u001b[39m in `combine_vars()`:\u001b[22m\n\u001b[1m\u001b[22m\u001b[33m!\u001b[39m Faceting variables must have at least one value.\n",
     "output_type": "error",
     "traceback": [
      "\u001b[1m\u001b[33mError\u001b[39m in `combine_vars()`:\u001b[22m\n\u001b[1m\u001b[22m\u001b[33m!\u001b[39m Faceting variables must have at least one value.\nTraceback:\n",
      "1. save_png_pdf(p = target_recon_gg, path_prefix = target_path, \n .     height = 70, width = 170)",
      "2. cowplot::save_plot(filename = full_path, plot = p, base_height = height, \n .     base_width = width, unit = \"mm\")",
      "3. cowplot::ggsave2(filename = filename, plot = plot, width = base_width * \n .     cols, height = base_height * rows, ...)",
      "4. do.call(ggplot2::ggsave, args, envir = parent.frame())",
      "5. (function (filename, plot = last_plot(), device = NULL, path = NULL, \n .     scale = 1, width = NA, height = NA, units = c(\"in\", \"cm\", \n .         \"mm\", \"px\"), dpi = 300, limitsize = TRUE, bg = NULL, \n .     create.dir = FALSE, ...) \n . {\n .     filename <- check_path(path, filename, create.dir)\n .     dpi <- parse_dpi(dpi)\n .     dev <- plot_dev(device, filename, dpi = dpi)\n .     dim <- plot_dim(c(width, height), scale = scale, units = units, \n .         limitsize = limitsize, dpi = dpi)\n .     if (is_null(bg)) {\n .         bg <- calc_element(\"plot.background\", plot_theme(plot))$fill %||% \n .             \"transparent\"\n .     }\n .     old_dev <- grDevices::dev.cur()\n .     dev(filename = filename, width = dim[1], height = dim[2], \n .         bg = bg, ...)\n .     on.exit(utils::capture.output({\n .         grDevices::dev.off()\n .         if (old_dev > 1) grDevices::dev.set(old_dev)\n .     }))\n .     grid.draw(plot)\n .     invisible(filename)\n . })(filename = \"figures/TARGET/reconstruction_cost_TARGET.png\", \n .     plot = plot, width = base_width * cols, height = base_height * \n .         rows, units = \"mm\", device = \"png\")",
      "6. grid.draw(plot)",
      "7. grid.draw.ggplot(plot)",
      "8. print(x)",
      "9. print.ggplot(x)",
      "10. ggplot_build(x)",
      "11. ggplot_build.ggplot(x)",
      "12. layout$setup(data, plot$data, plot$plot_env)",
      "13. setup(..., self = self)",
      "14. self$facet$compute_layout(data, self$facet_params)",
      "15. compute_layout(..., self = self)",
      "16. combine_vars(data, params$plot_env, cols, drop = params$drop)",
      "17. cli::cli_abort(\"Faceting variables must have at least one value.\")",
      "18. rlang::abort(message, ..., call = call, use_cli_format = TRUE, \n  .     .frame = .frame)",
      "19. signal_abort(cnd, .file)"
     ]
    }
   ],
   "source": [
    "target_recon_gg <- plot_reconstruction_loss(target_recon_cost_df)\n",
    "\n",
    "target_path <- file.path(base_dir, paste0(\"reconstruction_cost_\", dataset))\n",
    "\n",
    "save_png_pdf(p = target_recon_gg,\n",
    "             path_prefix = target_path,\n",
    "             height = 70,\n",
    "             width = 170)\n",
    "\n",
    "target_recon_gg"
   ]
  },
  {
   "cell_type": "code",
   "execution_count": null,
   "metadata": {},
   "outputs": [],
   "source": [
    "# Compile VAE specific reconstruction loss\n",
    "target_vae_recon_cost_df <- compile_reconstruction_data(dataset, data_focus = \"vae\")\n",
    "\n",
    "target_vae_loss_gg <- plot_vae_training(target_vae_recon_cost_df)\n",
    "\n",
    "target_path <- file.path(base_dir, paste0(\"vae_training_reconstruction_\", dataset))\n",
    "\n",
    "save_png_pdf(p = target_vae_loss_gg,\n",
    "             path_prefix = target_path,\n",
    "             height = 130,\n",
    "             width = 100)\n",
    "\n",
    "target_vae_loss_gg"
   ]
  },
  {
   "cell_type": "markdown",
   "metadata": {},
   "source": [
    "## TCGA Reconstruction Results"
   ]
  },
  {
   "cell_type": "code",
   "execution_count": null,
   "metadata": {},
   "outputs": [],
   "source": [
    "# Define the dataset to compile results for\n",
    "dataset <- 'TCGA'\n",
    "base_dir <- file.path(\"figures\", dataset)\n",
    "\n",
    "tcga_recon_cost_df <- compile_reconstruction_data(dataset)\n",
    "recon_file <- file.path(\"results\", paste0(\"reconstruction_\", dataset, \".tsv\"))\n",
    "\n",
    "# Write results to file\n",
    "readr::write_tsv(tcga_recon_cost_df, path = recon_file)"
   ]
  },
  {
   "cell_type": "code",
   "execution_count": null,
   "metadata": {},
   "outputs": [],
   "source": [
    "tcga_recon_gg <- plot_reconstruction_loss(tcga_recon_cost_df)\n",
    "\n",
    "tcga_path <- file.path(base_dir, paste0(\"reconstruction_cost_\", dataset))\n",
    "\n",
    "save_png_pdf(p = tcga_recon_gg,\n",
    "             path_prefix = tcga_path,\n",
    "             height = 70,\n",
    "             width = 170)\n",
    "\n",
    "tcga_recon_gg"
   ]
  },
  {
   "cell_type": "code",
   "execution_count": null,
   "metadata": {},
   "outputs": [],
   "source": [
    "# Compile VAE specific reconstruction loss\n",
    "tcga_vae_recon_cost_df <- compile_reconstruction_data(dataset, data_focus = \"vae\")\n",
    "\n",
    "tcga_vae_loss_gg <- plot_vae_training(tcga_vae_recon_cost_df)\n",
    "\n",
    "tcga_path <- file.path(base_dir, paste0(\"vae_training_reconstruction_\", dataset))\n",
    "\n",
    "save_png_pdf(p = tcga_vae_loss_gg,\n",
    "             path_prefix = tcga_path,\n",
    "             height = 130,\n",
    "             width = 100)\n",
    "\n",
    "tcga_vae_loss_gg"
   ]
  },
  {
   "cell_type": "markdown",
   "metadata": {},
   "source": [
    "## Filter TCGA Results to Iterations that Converged"
   ]
  },
  {
   "cell_type": "code",
   "execution_count": null,
   "metadata": {},
   "outputs": [],
   "source": [
    "# Subset to iterations that may have converged\n",
    "tcga_recon_cost_df <- tcga_recon_cost_df %>% dplyr::filter(reconstruction_cost < 4000)"
   ]
  },
  {
   "cell_type": "code",
   "execution_count": null,
   "metadata": {},
   "outputs": [],
   "source": [
    "tcga_recon_filter_gg <- plot_reconstruction_loss(tcga_recon_cost_df)\n",
    "\n",
    "tcga_path <- file.path(base_dir, paste0(\"reconstruction_cost_subset_converge_\", dataset))\n",
    "\n",
    "save_png_pdf(p = tcga_recon_filter_gg,\n",
    "             path_prefix = tcga_path,\n",
    "             height = 70,\n",
    "             width = 170)\n",
    "\n",
    "tcga_recon_filter_gg"
   ]
  },
  {
   "cell_type": "code",
   "execution_count": null,
   "metadata": {},
   "outputs": [],
   "source": [
    "# Subset to testing non-shuffled data\n",
    "tcga_recon_cost_df <- tcga_recon_cost_df %>%\n",
    "    dplyr::filter(data_type == 'testing', shuffled == 'False')"
   ]
  },
  {
   "cell_type": "code",
   "execution_count": null,
   "metadata": {},
   "outputs": [],
   "source": [
    "tcga_recon_filter_test_gg <- plot_reconstruction_loss(tcga_recon_cost_df)\n",
    "\n",
    "tcga_path <- file.path(base_dir, paste0(\"reconstruction_cost_subset_converge_testing_\", dataset))\n",
    "\n",
    "save_png_pdf(p = tcga_recon_filter_test_gg,\n",
    "             path_prefix = tcga_path,\n",
    "             height = 70,\n",
    "             width = 170)\n",
    "\n",
    "tcga_recon_filter_test_gg"
   ]
  },
  {
   "cell_type": "code",
   "execution_count": null,
   "metadata": {},
   "outputs": [],
   "source": [
    "# Remove shuffled data and replot\n",
    "tcga_vae_recon_cost_df <- tcga_vae_recon_cost_df %>% dplyr::filter(shuffle == \"False\")\n",
    "\n",
    "tcga_vae_loss_filter_test_gg <- plot_vae_training(tcga_vae_recon_cost_df)\n",
    "\n",
    "tcga_path <- file.path(base_dir, paste0(\"vae_training_reconstruction_subset_converge_\", dataset))\n",
    "\n",
    "save_png_pdf(p = tcga_vae_loss_filter_test_gg,\n",
    "             path_prefix = tcga_path,\n",
    "             height = 130,\n",
    "             width = 100)\n",
    "\n",
    "tcga_vae_loss_filter_test_gg"
   ]
  },
  {
   "cell_type": "markdown",
   "metadata": {},
   "source": [
    "## GTEx Reconstruction Results"
   ]
  },
  {
   "cell_type": "code",
   "execution_count": null,
   "metadata": {},
   "outputs": [],
   "source": [
    "# Define the dataset to compile results for\n",
    "dataset <- \"GTEX\"\n",
    "base_dir <- file.path(\"figures\", dataset)\n",
    "\n",
    "gtex_recon_cost_df <- compile_reconstruction_data(dataset)\n",
    "\n",
    "recon_file <- file.path(\"results\", paste0(\"reconstruction_\", dataset, \".tsv\"))\n",
    "\n",
    "# Write results to file\n",
    "readr::write_tsv(gtex_recon_cost_df, path = recon_file)"
   ]
  },
  {
   "cell_type": "code",
   "execution_count": null,
   "metadata": {},
   "outputs": [],
   "source": [
    "gtex_recon_gg <- plot_reconstruction_loss(gtex_recon_cost_df)\n",
    "\n",
    "gtex_path <- file.path(base_dir, paste0(\"reconstruction_cost_\", dataset))\n",
    "\n",
    "save_png_pdf(p = gtex_recon_gg,\n",
    "             path_prefix = gtex_path,\n",
    "             height = 70,\n",
    "             width = 170)\n",
    "\n",
    "gtex_recon_gg"
   ]
  },
  {
   "cell_type": "code",
   "execution_count": null,
   "metadata": {},
   "outputs": [],
   "source": [
    "# Define the dataset to compile results for\n",
    "gtex_vae_recon_cost_df <- compile_reconstruction_data(dataset, data_focus = \"vae\")\n",
    "\n",
    "gtex_vae_loss_gg <- plot_vae_training(gtex_vae_recon_cost_df)\n",
    "\n",
    "gtex_path <- file.path(base_dir, paste0(\"vae_training_reconstruction_\", dataset))\n",
    "\n",
    "save_png_pdf(p = gtex_vae_loss_gg,\n",
    "             path_prefix = gtex_path,\n",
    "             height = 130,\n",
    "             width = 100)\n",
    "\n",
    "gtex_vae_loss_gg"
   ]
  },
  {
   "cell_type": "markdown",
   "metadata": {},
   "source": [
    "## Filter GTEx Results"
   ]
  },
  {
   "cell_type": "code",
   "execution_count": null,
   "metadata": {},
   "outputs": [],
   "source": [
    "# Subset to iterations that may have converged\n",
    "gtex_recon_cost_df <- gtex_recon_cost_df %>% dplyr::filter(reconstruction_cost < 5000)"
   ]
  },
  {
   "cell_type": "code",
   "execution_count": null,
   "metadata": {},
   "outputs": [],
   "source": [
    "gtex_recon_filter_gg <- plot_reconstruction_loss(gtex_recon_cost_df)\n",
    "\n",
    "gtex_path <- file.path(base_dir, paste0(\"reconstruction_cost_subset_converge_\", dataset))\n",
    "\n",
    "save_png_pdf(p = gtex_recon_filter_gg,\n",
    "             path_prefix = gtex_path,\n",
    "             height = 70,\n",
    "             width = 170)\n",
    "\n",
    "gtex_recon_filter_gg"
   ]
  },
  {
   "cell_type": "code",
   "execution_count": null,
   "metadata": {},
   "outputs": [],
   "source": [
    "# Subset to testing non-shuffled data\n",
    "gtex_recon_cost_df <- gtex_recon_cost_df %>%\n",
    "    dplyr::filter(data_type == 'testing', shuffled == 'False')"
   ]
  },
  {
   "cell_type": "code",
   "execution_count": null,
   "metadata": {},
   "outputs": [],
   "source": [
    "gtex_recon_filter_test_gg <- plot_reconstruction_loss(gtex_recon_cost_df)\n",
    "\n",
    "gtex_path <- file.path(base_dir, paste0(\"reconstruction_cost_subset_converge_testing_\", dataset))\n",
    "\n",
    "save_png_pdf(p = gtex_recon_filter_test_gg,\n",
    "             path_prefix = gtex_path,\n",
    "             height = 70,\n",
    "             width = 170)\n",
    "\n",
    "gtex_recon_filter_test_gg"
   ]
  },
  {
   "cell_type": "code",
   "execution_count": null,
   "metadata": {},
   "outputs": [],
   "source": [
    "# Remove shuffled data and replot\n",
    "gtex_vae_recon_cost_df <- gtex_vae_recon_cost_df %>% dplyr::filter(shuffle == \"False\")\n",
    "\n",
    "gtex_vae_loss_filter_test_gg <- plot_vae_training(gtex_vae_recon_cost_df)\n",
    "\n",
    "gtex_path <- file.path(base_dir, paste0(\"vae_training_reconstruction_subset_converge_\", dataset))\n",
    "\n",
    "save_png_pdf(p = gtex_vae_loss_filter_test_gg,\n",
    "             path_prefix = gtex_path,\n",
    "             height = 130,\n",
    "             width = 100)\n",
    "\n",
    "gtex_vae_loss_filter_test_gg"
   ]
  },
  {
   "cell_type": "markdown",
   "metadata": {},
   "source": [
    "## Create Supplementary Figure Describing Algorithm Loss across Dimensions"
   ]
  },
  {
   "cell_type": "code",
   "execution_count": null,
   "metadata": {},
   "outputs": [],
   "source": [
    "legend <- get_legend(target_recon_gg) \n",
    "\n",
    "main_plot <- (\n",
    "    cowplot::plot_grid(\n",
    "        gtex_recon_filter_test_gg + ggtitle('GTEX') + xlab('') +\n",
    "            theme(plot.margin = margin(t = 0.5, r = 0.2, b = 0, l = 0.4),\n",
    "                  legend.position = \"none\",\n",
    "                  panel.grid.major = element_line(size = 0.25),\n",
    "                  panel.grid.minor = element_line(size = 0.175)),\n",
    "        tcga_recon_filter_test_gg + ggtitle('TCGA') + xlab('') +\n",
    "            theme(plot.margin = margin(t = 0, r = 0.2, b = 0, l = 0.4),\n",
    "                  legend.position = \"none\",\n",
    "                  panel.grid.major = element_line(size = 0.25),\n",
    "                  panel.grid.minor = element_line(size = 0.175)),\n",
    "        target_recon_gg + ggtitle('TARGET') +\n",
    "            theme(plot.margin = margin(t = 0, r = 0.2, b = 0.3, l = 0.4),\n",
    "                  legend.position = \"none\",\n",
    "                  panel.grid.major = element_line(size = 0.25),\n",
    "                  panel.grid.minor = element_line(size = 0.175)),\n",
    "        labels = c(\"a\", \"b\", \"c\"),\n",
    "        ncol = 1,\n",
    "        nrow = 3\n",
    "    )\n",
    ")\n",
    "\n",
    "main_plot = cowplot::plot_grid(main_plot, legend, rel_widths = c(1, 0.15), ncol = 2)\n",
    "main_plot"
   ]
  },
  {
   "cell_type": "code",
   "execution_count": null,
   "metadata": {},
   "outputs": [],
   "source": [
    "main_path <- file.path(\"figures\", \"reconstruction_summary\")\n",
    "\n",
    "save_png_pdf(p = main_plot,\n",
    "             path_prefix = main_path,\n",
    "             height = 130,\n",
    "             width = 170)"
   ]
  }
 ],
 "metadata": {
  "kernelspec": {
   "display_name": "R 4.4",
   "language": "R",
   "name": "ir44"
  },
  "language_info": {
   "codemirror_mode": "r",
   "file_extension": ".r",
   "mimetype": "text/x-r-source",
   "name": "R",
   "pygments_lexer": "r",
   "version": "4.4.1"
  }
 },
 "nbformat": 4,
 "nbformat_minor": 2
}
