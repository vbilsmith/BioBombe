{
 "cells": [
  {
   "cell_type": "code",
   "execution_count": null,
   "id": "6067bdcc",
   "metadata": {
    "ExecuteTime": {
     "end_time": "2024-07-08T17:43:23.184640Z",
     "start_time": "2024-07-08T17:43:22.996866Z"
    }
   },
   "outputs": [],
   "source": [
    "# To install the grein_loader package\n",
    "#!pip install grein_loader\n",
    "!pwd"
   ]
  },
  {
   "cell_type": "code",
   "execution_count": 1,
   "id": "331a0f21",
   "metadata": {
    "ExecuteTime": {
     "end_time": "2024-07-12T16:54:48.746158Z",
     "start_time": "2024-07-12T16:54:48.387365Z"
    }
   },
   "outputs": [],
   "source": [
    "import grein_loader as loader\n",
    "import pandas as pd\n",
    "import os\n",
    "import time"
   ]
  },
  {
   "cell_type": "code",
   "execution_count": 2,
   "id": "269899538ef2705f",
   "metadata": {
    "ExecuteTime": {
     "end_time": "2024-07-12T17:11:10.752547Z",
     "start_time": "2024-07-12T17:11:10.749678Z"
    }
   },
   "outputs": [],
   "source": [
    "# Load log file from disk to see if this data has already been added\n",
    "def load_log(logFile):\n",
    "    log = pd.read_csv(logFile, names=[\"GSE\", \"status\"])\n",
    "    log = log[log[\"status\"] == \"end\"]\n",
    "    return set(log[\"GSE\"].unique())"
   ]
  },
  {
   "cell_type": "code",
   "execution_count": 3,
   "id": "19c8219892618b53",
   "metadata": {
    "ExecuteTime": {
     "end_time": "2024-07-12T17:07:56.561516Z",
     "start_time": "2024-07-12T17:07:56.559187Z"
    },
    "collapsed": false,
    "jupyter": {
     "outputs_hidden": false
    }
   },
   "outputs": [],
   "source": [
    "def load_data(geo_accession, count_matrix_df):\n",
    "    description, metadata, count_matrix = loader.load_dataset(geo_accession)\n",
    "        \n",
    "    # Merge in to existing count matrix DF\n",
    "    if count_matrix_df.empty:\n",
    "        return count_matrix\n",
    "    else:\n",
    "        return pd.merge(count_matrix_df, count_matrix,  how='left', on=[\"gene\", \"gene_symbol\"], suffixes=None)"
   ]
  },
  {
   "cell_type": "code",
   "execution_count": 4,
   "id": "d7c098d1",
   "metadata": {
    "ExecuteTime": {
     "end_time": "2024-07-12T17:13:13.465724Z",
     "start_time": "2024-07-12T17:13:08.745057Z"
    }
   },
   "outputs": [],
   "source": [
    "# Loading grein overview\n",
    "\n",
    "# loading a subset of the data\n",
    "# number_of_datasets = 1000\n",
    "# overview = loader.load_overview(number_of_datasets)\n",
    "\n",
    "# loading all the data\n",
    "overview = loader.load_overview()\n",
    "\n",
    "# Accessing the geo_accession ID and study species from overview\n",
    "geo_accession_ids = []\n",
    "species = []\n",
    "for i in range(len(overview)):\n",
    "    geo_accession_ids.append(overview[i]['geo_accession'])\n",
    "    species.append(overview[i]['species'])"
   ]
  },
  {
   "cell_type": "code",
   "execution_count": 5,
   "id": "404ed391",
   "metadata": {
    "ExecuteTime": {
     "end_time": "2024-07-12T17:13:14.699046Z",
     "start_time": "2024-07-12T17:13:14.694038Z"
    }
   },
   "outputs": [],
   "source": [
    "# saving the species in each GSE\n",
    "GSE_species = {'geo_accession_id': geo_accession_ids, 'species': species}\n",
    "GSE_species_df = pd.DataFrame.from_dict(GSE_species)"
   ]
  },
  {
   "cell_type": "code",
   "execution_count": 6,
   "id": "3237f570",
   "metadata": {
    "ExecuteTime": {
     "end_time": "2024-07-12T17:13:19.920023Z",
     "start_time": "2024-07-12T17:13:19.891577Z"
    }
   },
   "outputs": [
    {
     "name": "stdout",
     "output_type": "stream",
     "text": [
      "...loading human data\n"
     ]
    }
   ],
   "source": [
    "# Prepare to download human data\n",
    "\n",
    "# Filter dataframe for human data only\n",
    "GSE_species_df_filtered = GSE_species_df[GSE_species_df['species'] == 'Homo sapiens']\n",
    "\n",
    "GSE_species_df_filtered\n",
    "\n",
    "# Check if there is already expression data downloaded or whether we are starting fresh\n",
    "humanLog = \"greinLoadHuman.log\"\n",
    "humanData = \"download/grein_count_matrix_human.pkl\"\n",
    "if os.path.exists(humanLog) and os.path.exists(humanData): \n",
    "    print(\"...loading human data\")\n",
    "    count_matrix_human_df = pd.read_pickle(humanData)\n",
    "    completed = load_log(humanLog)\n",
    "else:\n",
    "    print(\"starting human download from scratch\")\n",
    "    count_matrix_human_df = pd.DataFrame()\n",
    "    completed = set()\n",
    "    !touch {humanLog}"
   ]
  },
  {
   "cell_type": "code",
   "execution_count": 7,
   "id": "d7e11f7f",
   "metadata": {
    "ExecuteTime": {
     "end_time": "2024-07-12T17:13:26.243195Z",
     "start_time": "2024-07-12T17:13:23.524572Z"
    }
   },
   "outputs": [
    {
     "name": "stdout",
     "output_type": "stream",
     "text": [
      "Already done: GSE100007\n",
      "Already done: GSE100027\n",
      "Already done: GSE100040\n",
      "Already done: GSE100075\n",
      "Already done: GSE100081\n",
      "Already done: GSE100092\n",
      "Already done: GSE100099\n",
      "Already done: GSE100118\n",
      "Already done: GSE100183\n",
      "Already done: GSE100206\n",
      "Already done: GSE100210\n",
      "Already done: GSE100223\n",
      "Already done: GSE100258\n",
      "Already done: GSE100266\n",
      "Already done: GSE100268\n",
      "Already done: GSE100291\n",
      "********* | GSE100297 | ***********\n",
      "********* | GSE100327 | ***********\n"
     ]
    },
    {
     "name": "stderr",
     "output_type": "stream",
     "text": [
      "/home/zplumridge/micromamba/envs/biobombe/lib/python3.12/site-packages/grein_loader/load_dataset.py:288: SyntaxWarning: invalid escape sequence '\\.'\n",
      "  \"https?://(www\\.)?[-a-zA-Z0-9@:%._+~#=]{1,256}\\.[a-zA-Z0-9()]{1,6}([-a-zA-Z0-9()@:%_+.~#?&/=]*)\",\n"
     ]
    },
    {
     "ename": "KeyboardInterrupt",
     "evalue": "",
     "output_type": "error",
     "traceback": [
      "\u001b[0;31m---------------------------------------------------------------------------\u001b[0m",
      "\u001b[0;31mKeyboardInterrupt\u001b[0m                         Traceback (most recent call last)",
      "Cell \u001b[0;32mIn[7], line 14\u001b[0m\n\u001b[1;32m     11\u001b[0m \u001b[38;5;28mprint\u001b[39m(\u001b[38;5;124m\"\u001b[39m\u001b[38;5;124m********* |\u001b[39m\u001b[38;5;124m\"\u001b[39m, geo_accession, \u001b[38;5;124m\"\u001b[39m\u001b[38;5;124m| ***********\u001b[39m\u001b[38;5;124m\"\u001b[39m)\n\u001b[1;32m     12\u001b[0m logfile\u001b[38;5;241m.\u001b[39mwrite(geo_accession \u001b[38;5;241m+\u001b[39m \u001b[38;5;124m\"\u001b[39m\u001b[38;5;124m,start\u001b[39m\u001b[38;5;130;01m\\n\u001b[39;00m\u001b[38;5;124m\"\u001b[39m)\n\u001b[0;32m---> 14\u001b[0m count_matrix_human_df \u001b[38;5;241m=\u001b[39m \u001b[43mload_data\u001b[49m\u001b[43m(\u001b[49m\u001b[43mgeo_accession\u001b[49m\u001b[43m,\u001b[49m\u001b[43m \u001b[49m\u001b[43mcount_matrix_human_df\u001b[49m\u001b[43m)\u001b[49m\n\u001b[1;32m     16\u001b[0m logfile\u001b[38;5;241m.\u001b[39mwrite(geo_accession \u001b[38;5;241m+\u001b[39m \u001b[38;5;124m\"\u001b[39m\u001b[38;5;124m,write\u001b[39m\u001b[38;5;130;01m\\n\u001b[39;00m\u001b[38;5;124m\"\u001b[39m)\n\u001b[1;32m     17\u001b[0m count_matrix_human_df\u001b[38;5;241m.\u001b[39mto_pickle(humanData)\n",
      "Cell \u001b[0;32mIn[3], line 2\u001b[0m, in \u001b[0;36mload_data\u001b[0;34m(geo_accession, count_matrix_df)\u001b[0m\n\u001b[1;32m      1\u001b[0m \u001b[38;5;28;01mdef\u001b[39;00m \u001b[38;5;21mload_data\u001b[39m(geo_accession, count_matrix_df):\n\u001b[0;32m----> 2\u001b[0m     description, metadata, count_matrix \u001b[38;5;241m=\u001b[39m \u001b[43mloader\u001b[49m\u001b[38;5;241;43m.\u001b[39;49m\u001b[43mload_dataset\u001b[49m\u001b[43m(\u001b[49m\u001b[43mgeo_accession\u001b[49m\u001b[43m)\u001b[49m\n\u001b[1;32m      4\u001b[0m     \u001b[38;5;66;03m# Merge in to existing count matrix DF\u001b[39;00m\n\u001b[1;32m      5\u001b[0m     \u001b[38;5;28;01mif\u001b[39;00m count_matrix_df\u001b[38;5;241m.\u001b[39mempty:\n",
      "File \u001b[0;32m~/micromamba/envs/biobombe/lib/python3.12/site-packages/grein_loader/load_dataset.py:83\u001b[0m, in \u001b[0;36mload_dataset\u001b[0;34m(gse_id, download_type)\u001b[0m\n\u001b[1;32m     81\u001b[0m config \u001b[38;5;241m=\u001b[39m \u001b[38;5;28;01mNone\u001b[39;00m\n\u001b[1;32m     82\u001b[0m ACK_flag \u001b[38;5;241m=\u001b[39m \u001b[38;5;28;01mFalse\u001b[39;00m\n\u001b[0;32m---> 83\u001b[0m \u001b[43m\u001b[49m\u001b[38;5;28;43;01mfor\u001b[39;49;00m\u001b[43m \u001b[49m\u001b[43mline\u001b[49m\u001b[43m \u001b[49m\u001b[38;5;129;43;01min\u001b[39;49;00m\u001b[43m \u001b[49m\u001b[43mlines\u001b[49m\u001b[43m:\u001b[49m\n\u001b[1;32m     84\u001b[0m \u001b[43m    \u001b[49m\u001b[43mline_content\u001b[49m\u001b[43m \u001b[49m\u001b[38;5;241;43m=\u001b[39;49m\u001b[43m \u001b[49m\u001b[43mline\u001b[49m\u001b[38;5;241;43m.\u001b[39;49m\u001b[43mdecode\u001b[49m\u001b[43m(\u001b[49m\u001b[43m)\u001b[49m\n\u001b[1;32m     85\u001b[0m \u001b[43m    \u001b[49m\u001b[38;5;28;43;01mif\u001b[39;49;00m\u001b[43m \u001b[49m\u001b[43mline_content\u001b[49m\u001b[38;5;241;43m.\u001b[39;49m\u001b[43mstartswith\u001b[49m\u001b[43m(\u001b[49m\u001b[38;5;124;43m'\u001b[39;49m\u001b[38;5;124;43ma[\u001b[39;49m\u001b[38;5;124;43m\"\u001b[39;49m\u001b[38;5;124;43m0#0|m|\u001b[39;49m\u001b[38;5;124;43m'\u001b[39;49m\u001b[43m)\u001b[49m\u001b[43m:\u001b[49m\u001b[43m  \u001b[49m\u001b[38;5;66;43;03m# search for config parameter to parse sessionId\u001b[39;49;00m\n",
      "File \u001b[0;32m~/micromamba/envs/biobombe/lib/python3.12/site-packages/requests/models.py:869\u001b[0m, in \u001b[0;36mResponse.iter_lines\u001b[0;34m(self, chunk_size, decode_unicode, delimiter)\u001b[0m\n\u001b[1;32m    860\u001b[0m \u001b[38;5;250m\u001b[39m\u001b[38;5;124;03m\"\"\"Iterates over the response data, one line at a time.  When\u001b[39;00m\n\u001b[1;32m    861\u001b[0m \u001b[38;5;124;03mstream=True is set on the request, this avoids reading the\u001b[39;00m\n\u001b[1;32m    862\u001b[0m \u001b[38;5;124;03mcontent at once into memory for large responses.\u001b[39;00m\n\u001b[1;32m    863\u001b[0m \n\u001b[1;32m    864\u001b[0m \u001b[38;5;124;03m.. note:: This method is not reentrant safe.\u001b[39;00m\n\u001b[1;32m    865\u001b[0m \u001b[38;5;124;03m\"\"\"\u001b[39;00m\n\u001b[1;32m    867\u001b[0m pending \u001b[38;5;241m=\u001b[39m \u001b[38;5;28;01mNone\u001b[39;00m\n\u001b[0;32m--> 869\u001b[0m \u001b[43m\u001b[49m\u001b[38;5;28;43;01mfor\u001b[39;49;00m\u001b[43m \u001b[49m\u001b[43mchunk\u001b[49m\u001b[43m \u001b[49m\u001b[38;5;129;43;01min\u001b[39;49;00m\u001b[43m \u001b[49m\u001b[38;5;28;43mself\u001b[39;49m\u001b[38;5;241;43m.\u001b[39;49m\u001b[43miter_content\u001b[49m\u001b[43m(\u001b[49m\n\u001b[1;32m    870\u001b[0m \u001b[43m    \u001b[49m\u001b[43mchunk_size\u001b[49m\u001b[38;5;241;43m=\u001b[39;49m\u001b[43mchunk_size\u001b[49m\u001b[43m,\u001b[49m\u001b[43m \u001b[49m\u001b[43mdecode_unicode\u001b[49m\u001b[38;5;241;43m=\u001b[39;49m\u001b[43mdecode_unicode\u001b[49m\n\u001b[1;32m    871\u001b[0m \u001b[43m\u001b[49m\u001b[43m)\u001b[49m\u001b[43m:\u001b[49m\n\u001b[1;32m    872\u001b[0m \u001b[43m    \u001b[49m\u001b[38;5;28;43;01mif\u001b[39;49;00m\u001b[43m \u001b[49m\u001b[43mpending\u001b[49m\u001b[43m \u001b[49m\u001b[38;5;129;43;01mis\u001b[39;49;00m\u001b[43m \u001b[49m\u001b[38;5;129;43;01mnot\u001b[39;49;00m\u001b[43m \u001b[49m\u001b[38;5;28;43;01mNone\u001b[39;49;00m\u001b[43m:\u001b[49m\n\u001b[1;32m    873\u001b[0m \u001b[43m        \u001b[49m\u001b[43mchunk\u001b[49m\u001b[43m \u001b[49m\u001b[38;5;241;43m=\u001b[39;49m\u001b[43m \u001b[49m\u001b[43mpending\u001b[49m\u001b[43m \u001b[49m\u001b[38;5;241;43m+\u001b[39;49m\u001b[43m \u001b[49m\u001b[43mchunk\u001b[49m\n",
      "File \u001b[0;32m~/micromamba/envs/biobombe/lib/python3.12/site-packages/requests/models.py:820\u001b[0m, in \u001b[0;36mResponse.iter_content.<locals>.generate\u001b[0;34m()\u001b[0m\n\u001b[1;32m    818\u001b[0m \u001b[38;5;28;01mif\u001b[39;00m \u001b[38;5;28mhasattr\u001b[39m(\u001b[38;5;28mself\u001b[39m\u001b[38;5;241m.\u001b[39mraw, \u001b[38;5;124m\"\u001b[39m\u001b[38;5;124mstream\u001b[39m\u001b[38;5;124m\"\u001b[39m):\n\u001b[1;32m    819\u001b[0m     \u001b[38;5;28;01mtry\u001b[39;00m:\n\u001b[0;32m--> 820\u001b[0m         \u001b[38;5;28;01myield from\u001b[39;00m \u001b[38;5;28mself\u001b[39m\u001b[38;5;241m.\u001b[39mraw\u001b[38;5;241m.\u001b[39mstream(chunk_size, decode_content\u001b[38;5;241m=\u001b[39m\u001b[38;5;28;01mTrue\u001b[39;00m)\n\u001b[1;32m    821\u001b[0m     \u001b[38;5;28;01mexcept\u001b[39;00m ProtocolError \u001b[38;5;28;01mas\u001b[39;00m e:\n\u001b[1;32m    822\u001b[0m         \u001b[38;5;28;01mraise\u001b[39;00m ChunkedEncodingError(e)\n",
      "File \u001b[0;32m~/micromamba/envs/biobombe/lib/python3.12/site-packages/urllib3/response.py:1057\u001b[0m, in \u001b[0;36mHTTPResponse.stream\u001b[0;34m(self, amt, decode_content)\u001b[0m\n\u001b[1;32m   1041\u001b[0m \u001b[38;5;250m\u001b[39m\u001b[38;5;124;03m\"\"\"\u001b[39;00m\n\u001b[1;32m   1042\u001b[0m \u001b[38;5;124;03mA generator wrapper for the read() method. A call will block until\u001b[39;00m\n\u001b[1;32m   1043\u001b[0m \u001b[38;5;124;03m``amt`` bytes have been read from the connection or until the\u001b[39;00m\n\u001b[0;32m   (...)\u001b[0m\n\u001b[1;32m   1054\u001b[0m \u001b[38;5;124;03m    'content-encoding' header.\u001b[39;00m\n\u001b[1;32m   1055\u001b[0m \u001b[38;5;124;03m\"\"\"\u001b[39;00m\n\u001b[1;32m   1056\u001b[0m \u001b[38;5;28;01mif\u001b[39;00m \u001b[38;5;28mself\u001b[39m\u001b[38;5;241m.\u001b[39mchunked \u001b[38;5;129;01mand\u001b[39;00m \u001b[38;5;28mself\u001b[39m\u001b[38;5;241m.\u001b[39msupports_chunked_reads():\n\u001b[0;32m-> 1057\u001b[0m     \u001b[38;5;28;01myield from\u001b[39;00m \u001b[38;5;28mself\u001b[39m\u001b[38;5;241m.\u001b[39mread_chunked(amt, decode_content\u001b[38;5;241m=\u001b[39mdecode_content)\n\u001b[1;32m   1058\u001b[0m \u001b[38;5;28;01melse\u001b[39;00m:\n\u001b[1;32m   1059\u001b[0m     \u001b[38;5;28;01mwhile\u001b[39;00m \u001b[38;5;129;01mnot\u001b[39;00m is_fp_closed(\u001b[38;5;28mself\u001b[39m\u001b[38;5;241m.\u001b[39m_fp) \u001b[38;5;129;01mor\u001b[39;00m \u001b[38;5;28mlen\u001b[39m(\u001b[38;5;28mself\u001b[39m\u001b[38;5;241m.\u001b[39m_decoded_buffer) \u001b[38;5;241m>\u001b[39m \u001b[38;5;241m0\u001b[39m:\n",
      "File \u001b[0;32m~/micromamba/envs/biobombe/lib/python3.12/site-packages/urllib3/response.py:1206\u001b[0m, in \u001b[0;36mHTTPResponse.read_chunked\u001b[0;34m(self, amt, decode_content)\u001b[0m\n\u001b[1;32m   1203\u001b[0m     amt \u001b[38;5;241m=\u001b[39m \u001b[38;5;28;01mNone\u001b[39;00m\n\u001b[1;32m   1205\u001b[0m \u001b[38;5;28;01mwhile\u001b[39;00m \u001b[38;5;28;01mTrue\u001b[39;00m:\n\u001b[0;32m-> 1206\u001b[0m     \u001b[38;5;28;43mself\u001b[39;49m\u001b[38;5;241;43m.\u001b[39;49m\u001b[43m_update_chunk_length\u001b[49m\u001b[43m(\u001b[49m\u001b[43m)\u001b[49m\n\u001b[1;32m   1207\u001b[0m     \u001b[38;5;28;01mif\u001b[39;00m \u001b[38;5;28mself\u001b[39m\u001b[38;5;241m.\u001b[39mchunk_left \u001b[38;5;241m==\u001b[39m \u001b[38;5;241m0\u001b[39m:\n\u001b[1;32m   1208\u001b[0m         \u001b[38;5;28;01mbreak\u001b[39;00m\n",
      "File \u001b[0;32m~/micromamba/envs/biobombe/lib/python3.12/site-packages/urllib3/response.py:1125\u001b[0m, in \u001b[0;36mHTTPResponse._update_chunk_length\u001b[0;34m(self)\u001b[0m\n\u001b[1;32m   1123\u001b[0m \u001b[38;5;28;01mif\u001b[39;00m \u001b[38;5;28mself\u001b[39m\u001b[38;5;241m.\u001b[39mchunk_left \u001b[38;5;129;01mis\u001b[39;00m \u001b[38;5;129;01mnot\u001b[39;00m \u001b[38;5;28;01mNone\u001b[39;00m:\n\u001b[1;32m   1124\u001b[0m     \u001b[38;5;28;01mreturn\u001b[39;00m \u001b[38;5;28;01mNone\u001b[39;00m\n\u001b[0;32m-> 1125\u001b[0m line \u001b[38;5;241m=\u001b[39m \u001b[38;5;28;43mself\u001b[39;49m\u001b[38;5;241;43m.\u001b[39;49m\u001b[43m_fp\u001b[49m\u001b[38;5;241;43m.\u001b[39;49m\u001b[43mfp\u001b[49m\u001b[38;5;241;43m.\u001b[39;49m\u001b[43mreadline\u001b[49m\u001b[43m(\u001b[49m\u001b[43m)\u001b[49m  \u001b[38;5;66;03m# type: ignore[union-attr]\u001b[39;00m\n\u001b[1;32m   1126\u001b[0m line \u001b[38;5;241m=\u001b[39m line\u001b[38;5;241m.\u001b[39msplit(\u001b[38;5;124mb\u001b[39m\u001b[38;5;124m\"\u001b[39m\u001b[38;5;124m;\u001b[39m\u001b[38;5;124m\"\u001b[39m, \u001b[38;5;241m1\u001b[39m)[\u001b[38;5;241m0\u001b[39m]\n\u001b[1;32m   1127\u001b[0m \u001b[38;5;28;01mtry\u001b[39;00m:\n",
      "File \u001b[0;32m~/micromamba/envs/biobombe/lib/python3.12/socket.py:708\u001b[0m, in \u001b[0;36mSocketIO.readinto\u001b[0;34m(self, b)\u001b[0m\n\u001b[1;32m    706\u001b[0m \u001b[38;5;28;01mwhile\u001b[39;00m \u001b[38;5;28;01mTrue\u001b[39;00m:\n\u001b[1;32m    707\u001b[0m     \u001b[38;5;28;01mtry\u001b[39;00m:\n\u001b[0;32m--> 708\u001b[0m         \u001b[38;5;28;01mreturn\u001b[39;00m \u001b[38;5;28;43mself\u001b[39;49m\u001b[38;5;241;43m.\u001b[39;49m\u001b[43m_sock\u001b[49m\u001b[38;5;241;43m.\u001b[39;49m\u001b[43mrecv_into\u001b[49m\u001b[43m(\u001b[49m\u001b[43mb\u001b[49m\u001b[43m)\u001b[49m\n\u001b[1;32m    709\u001b[0m     \u001b[38;5;28;01mexcept\u001b[39;00m timeout:\n\u001b[1;32m    710\u001b[0m         \u001b[38;5;28mself\u001b[39m\u001b[38;5;241m.\u001b[39m_timeout_occurred \u001b[38;5;241m=\u001b[39m \u001b[38;5;28;01mTrue\u001b[39;00m\n",
      "\u001b[0;31mKeyboardInterrupt\u001b[0m: "
     ]
    }
   ],
   "source": [
    "# Saving human gene expression data\n",
    "with open(humanLog, \"a\") as logfile:\n",
    "    for geo_accession in GSE_species_df_filtered['geo_accession_id']:\n",
    "        \n",
    "        # Check if this data was logged as loaded\n",
    "        if geo_accession in completed:\n",
    "            print(\"Already done: {0}\".format(geo_accession))\n",
    "            continue\n",
    "            \n",
    "        # If new data, download data and add to df\n",
    "        print(\"********* |\", geo_accession, \"| ***********\")\n",
    "        logfile.write(geo_accession + \",start\\n\")\n",
    "        \n",
    "        count_matrix_human_df = load_data(geo_accession, count_matrix_human_df)\n",
    "        \n",
    "        logfile.write(geo_accession + \",write\\n\")\n",
    "        count_matrix_human_df.to_pickle(humanData)\n",
    "        logfile.write(geo_accession + \",end\\n\")\n",
    "        \n"
   ]
  },
  {
   "cell_type": "code",
   "execution_count": 8,
   "id": "8035da339504313c",
   "metadata": {
    "ExecuteTime": {
     "end_time": "2024-07-12T17:12:04.989606Z",
     "start_time": "2024-07-12T17:12:04.931187Z"
    },
    "collapsed": false,
    "jupyter": {
     "outputs_hidden": false
    }
   },
   "outputs": [
    {
     "data": {
      "text/html": [
       "<div>\n",
       "<style scoped>\n",
       "    .dataframe tbody tr th:only-of-type {\n",
       "        vertical-align: middle;\n",
       "    }\n",
       "\n",
       "    .dataframe tbody tr th {\n",
       "        vertical-align: top;\n",
       "    }\n",
       "\n",
       "    .dataframe thead th {\n",
       "        text-align: right;\n",
       "    }\n",
       "</style>\n",
       "<table border=\"1\" class=\"dataframe\">\n",
       "  <thead>\n",
       "    <tr style=\"text-align: right;\">\n",
       "      <th></th>\n",
       "      <th>gene</th>\n",
       "      <th>gene_symbol</th>\n",
       "      <th>GSM2667747</th>\n",
       "      <th>GSM2667748</th>\n",
       "      <th>GSM2667749</th>\n",
       "      <th>GSM2667750</th>\n",
       "      <th>GSM2667751</th>\n",
       "      <th>GSM2667752</th>\n",
       "      <th>GSM2667753</th>\n",
       "      <th>GSM2667754</th>\n",
       "      <th>...</th>\n",
       "      <th>GSM2677508</th>\n",
       "      <th>GSM2677509</th>\n",
       "      <th>GSM2677510</th>\n",
       "      <th>GSM2677511</th>\n",
       "      <th>GSM2677512</th>\n",
       "      <th>GSM2677513</th>\n",
       "      <th>GSM2677514</th>\n",
       "      <th>GSM2677515</th>\n",
       "      <th>GSM2677516</th>\n",
       "      <th>GSM2677517</th>\n",
       "    </tr>\n",
       "  </thead>\n",
       "  <tbody>\n",
       "    <tr>\n",
       "      <th>0</th>\n",
       "      <td>ENSG00000000003</td>\n",
       "      <td>TSPAN6</td>\n",
       "      <td>1766.0677</td>\n",
       "      <td>420.8206</td>\n",
       "      <td>300.8009</td>\n",
       "      <td>3142.8439</td>\n",
       "      <td>2207.8392</td>\n",
       "      <td>4367.5056</td>\n",
       "      <td>228.5759</td>\n",
       "      <td>650.3287</td>\n",
       "      <td>...</td>\n",
       "      <td>1609</td>\n",
       "      <td>816</td>\n",
       "      <td>2861</td>\n",
       "      <td>2587</td>\n",
       "      <td>2351</td>\n",
       "      <td>557</td>\n",
       "      <td>2373</td>\n",
       "      <td>1190</td>\n",
       "      <td>1439</td>\n",
       "      <td>1442</td>\n",
       "    </tr>\n",
       "    <tr>\n",
       "      <th>1</th>\n",
       "      <td>ENSG00000000005</td>\n",
       "      <td>TNMD</td>\n",
       "      <td>43.9280</td>\n",
       "      <td>18.0091</td>\n",
       "      <td>0.0000</td>\n",
       "      <td>115.8917</td>\n",
       "      <td>63.5936</td>\n",
       "      <td>39.7803</td>\n",
       "      <td>11.7588</td>\n",
       "      <td>1.0153</td>\n",
       "      <td>...</td>\n",
       "      <td>95</td>\n",
       "      <td>38</td>\n",
       "      <td>39</td>\n",
       "      <td>46</td>\n",
       "      <td>50</td>\n",
       "      <td>35</td>\n",
       "      <td>59</td>\n",
       "      <td>38</td>\n",
       "      <td>48</td>\n",
       "      <td>41</td>\n",
       "    </tr>\n",
       "    <tr>\n",
       "      <th>2</th>\n",
       "      <td>ENSG00000000419</td>\n",
       "      <td>DPM1</td>\n",
       "      <td>1097.7855</td>\n",
       "      <td>367.2333</td>\n",
       "      <td>316.5226</td>\n",
       "      <td>3895.0588</td>\n",
       "      <td>1536.1375</td>\n",
       "      <td>1084.5276</td>\n",
       "      <td>127.7205</td>\n",
       "      <td>245.1014</td>\n",
       "      <td>...</td>\n",
       "      <td>613</td>\n",
       "      <td>364</td>\n",
       "      <td>1063</td>\n",
       "      <td>913</td>\n",
       "      <td>776</td>\n",
       "      <td>315</td>\n",
       "      <td>955</td>\n",
       "      <td>660</td>\n",
       "      <td>717</td>\n",
       "      <td>663</td>\n",
       "    </tr>\n",
       "    <tr>\n",
       "      <th>3</th>\n",
       "      <td>ENSG00000000457</td>\n",
       "      <td>SCYL3</td>\n",
       "      <td>601.4702</td>\n",
       "      <td>270.9239</td>\n",
       "      <td>163.6869</td>\n",
       "      <td>1177.2241</td>\n",
       "      <td>873.9074</td>\n",
       "      <td>845.1423</td>\n",
       "      <td>229.8548</td>\n",
       "      <td>134.4694</td>\n",
       "      <td>...</td>\n",
       "      <td>944</td>\n",
       "      <td>843</td>\n",
       "      <td>1117</td>\n",
       "      <td>936</td>\n",
       "      <td>1004</td>\n",
       "      <td>740</td>\n",
       "      <td>1370</td>\n",
       "      <td>1165</td>\n",
       "      <td>1039</td>\n",
       "      <td>1099</td>\n",
       "    </tr>\n",
       "    <tr>\n",
       "      <th>4</th>\n",
       "      <td>ENSG00000000460</td>\n",
       "      <td>C1orf112</td>\n",
       "      <td>1040.8861</td>\n",
       "      <td>349.1418</td>\n",
       "      <td>298.1800</td>\n",
       "      <td>1967.3975</td>\n",
       "      <td>2115.2425</td>\n",
       "      <td>980.9359</td>\n",
       "      <td>253.4457</td>\n",
       "      <td>145.7038</td>\n",
       "      <td>...</td>\n",
       "      <td>314</td>\n",
       "      <td>186</td>\n",
       "      <td>493</td>\n",
       "      <td>365</td>\n",
       "      <td>406</td>\n",
       "      <td>231</td>\n",
       "      <td>546</td>\n",
       "      <td>304</td>\n",
       "      <td>302</td>\n",
       "      <td>270</td>\n",
       "    </tr>\n",
       "    <tr>\n",
       "      <th>...</th>\n",
       "      <td>...</td>\n",
       "      <td>...</td>\n",
       "      <td>...</td>\n",
       "      <td>...</td>\n",
       "      <td>...</td>\n",
       "      <td>...</td>\n",
       "      <td>...</td>\n",
       "      <td>...</td>\n",
       "      <td>...</td>\n",
       "      <td>...</td>\n",
       "      <td>...</td>\n",
       "      <td>...</td>\n",
       "      <td>...</td>\n",
       "      <td>...</td>\n",
       "      <td>...</td>\n",
       "      <td>...</td>\n",
       "      <td>...</td>\n",
       "      <td>...</td>\n",
       "      <td>...</td>\n",
       "      <td>...</td>\n",
       "      <td>...</td>\n",
       "    </tr>\n",
       "    <tr>\n",
       "      <th>27985</th>\n",
       "      <td>ENSG00000283688</td>\n",
       "      <td>MIR6715B</td>\n",
       "      <td>0.0000</td>\n",
       "      <td>0.0000</td>\n",
       "      <td>0.0000</td>\n",
       "      <td>0.0000</td>\n",
       "      <td>0.0000</td>\n",
       "      <td>0.0000</td>\n",
       "      <td>0.0000</td>\n",
       "      <td>0.0000</td>\n",
       "      <td>...</td>\n",
       "      <td>1</td>\n",
       "      <td>1</td>\n",
       "      <td>0</td>\n",
       "      <td>0</td>\n",
       "      <td>2</td>\n",
       "      <td>0</td>\n",
       "      <td>3</td>\n",
       "      <td>0</td>\n",
       "      <td>3</td>\n",
       "      <td>2</td>\n",
       "    </tr>\n",
       "    <tr>\n",
       "      <th>27986</th>\n",
       "      <td>ENSG00000283690</td>\n",
       "      <td>MIR3116-2</td>\n",
       "      <td>0.0000</td>\n",
       "      <td>0.0000</td>\n",
       "      <td>0.0000</td>\n",
       "      <td>0.0000</td>\n",
       "      <td>0.0000</td>\n",
       "      <td>0.0000</td>\n",
       "      <td>0.0000</td>\n",
       "      <td>0.0000</td>\n",
       "      <td>...</td>\n",
       "      <td>0</td>\n",
       "      <td>2</td>\n",
       "      <td>0</td>\n",
       "      <td>0</td>\n",
       "      <td>0</td>\n",
       "      <td>0</td>\n",
       "      <td>0</td>\n",
       "      <td>0</td>\n",
       "      <td>0</td>\n",
       "      <td>0</td>\n",
       "    </tr>\n",
       "    <tr>\n",
       "      <th>27987</th>\n",
       "      <td>ENSG00000283694</td>\n",
       "      <td>MIR3202-2</td>\n",
       "      <td>0.0000</td>\n",
       "      <td>0.0000</td>\n",
       "      <td>0.0000</td>\n",
       "      <td>0.0000</td>\n",
       "      <td>0.0000</td>\n",
       "      <td>0.0000</td>\n",
       "      <td>0.0000</td>\n",
       "      <td>0.0000</td>\n",
       "      <td>...</td>\n",
       "      <td>0</td>\n",
       "      <td>0</td>\n",
       "      <td>0</td>\n",
       "      <td>2</td>\n",
       "      <td>2</td>\n",
       "      <td>2</td>\n",
       "      <td>1</td>\n",
       "      <td>0</td>\n",
       "      <td>2</td>\n",
       "      <td>0</td>\n",
       "    </tr>\n",
       "    <tr>\n",
       "      <th>27988</th>\n",
       "      <td>ENSG00000283697</td>\n",
       "      <td>LOC101928917</td>\n",
       "      <td>1.7315</td>\n",
       "      <td>0.0000</td>\n",
       "      <td>0.0000</td>\n",
       "      <td>0.0000</td>\n",
       "      <td>2.0039</td>\n",
       "      <td>3.9899</td>\n",
       "      <td>2.5184</td>\n",
       "      <td>4.1298</td>\n",
       "      <td>...</td>\n",
       "      <td>33</td>\n",
       "      <td>0</td>\n",
       "      <td>46</td>\n",
       "      <td>57</td>\n",
       "      <td>31</td>\n",
       "      <td>15</td>\n",
       "      <td>25</td>\n",
       "      <td>56</td>\n",
       "      <td>0</td>\n",
       "      <td>10</td>\n",
       "    </tr>\n",
       "    <tr>\n",
       "      <th>27989</th>\n",
       "      <td>ENSG00000283699</td>\n",
       "      <td>MIR4481</td>\n",
       "      <td>0.0000</td>\n",
       "      <td>1.1301</td>\n",
       "      <td>0.0000</td>\n",
       "      <td>1.3192</td>\n",
       "      <td>0.0000</td>\n",
       "      <td>0.0000</td>\n",
       "      <td>0.0000</td>\n",
       "      <td>0.0000</td>\n",
       "      <td>...</td>\n",
       "      <td>3</td>\n",
       "      <td>2</td>\n",
       "      <td>4</td>\n",
       "      <td>1</td>\n",
       "      <td>1</td>\n",
       "      <td>0</td>\n",
       "      <td>2</td>\n",
       "      <td>9</td>\n",
       "      <td>2</td>\n",
       "      <td>3</td>\n",
       "    </tr>\n",
       "  </tbody>\n",
       "</table>\n",
       "<p>27990 rows × 399 columns</p>\n",
       "</div>"
      ],
      "text/plain": [
       "                  gene   gene_symbol  GSM2667747  GSM2667748  GSM2667749  \\\n",
       "0      ENSG00000000003        TSPAN6   1766.0677    420.8206    300.8009   \n",
       "1      ENSG00000000005          TNMD     43.9280     18.0091      0.0000   \n",
       "2      ENSG00000000419          DPM1   1097.7855    367.2333    316.5226   \n",
       "3      ENSG00000000457         SCYL3    601.4702    270.9239    163.6869   \n",
       "4      ENSG00000000460      C1orf112   1040.8861    349.1418    298.1800   \n",
       "...                ...           ...         ...         ...         ...   \n",
       "27985  ENSG00000283688      MIR6715B      0.0000      0.0000      0.0000   \n",
       "27986  ENSG00000283690     MIR3116-2      0.0000      0.0000      0.0000   \n",
       "27987  ENSG00000283694     MIR3202-2      0.0000      0.0000      0.0000   \n",
       "27988  ENSG00000283697  LOC101928917      1.7315      0.0000      0.0000   \n",
       "27989  ENSG00000283699       MIR4481      0.0000      1.1301      0.0000   \n",
       "\n",
       "       GSM2667750  GSM2667751  GSM2667752  GSM2667753  GSM2667754  ...  \\\n",
       "0       3142.8439   2207.8392   4367.5056    228.5759    650.3287  ...   \n",
       "1        115.8917     63.5936     39.7803     11.7588      1.0153  ...   \n",
       "2       3895.0588   1536.1375   1084.5276    127.7205    245.1014  ...   \n",
       "3       1177.2241    873.9074    845.1423    229.8548    134.4694  ...   \n",
       "4       1967.3975   2115.2425    980.9359    253.4457    145.7038  ...   \n",
       "...           ...         ...         ...         ...         ...  ...   \n",
       "27985      0.0000      0.0000      0.0000      0.0000      0.0000  ...   \n",
       "27986      0.0000      0.0000      0.0000      0.0000      0.0000  ...   \n",
       "27987      0.0000      0.0000      0.0000      0.0000      0.0000  ...   \n",
       "27988      0.0000      2.0039      3.9899      2.5184      4.1298  ...   \n",
       "27989      1.3192      0.0000      0.0000      0.0000      0.0000  ...   \n",
       "\n",
       "       GSM2677508  GSM2677509  GSM2677510  GSM2677511  GSM2677512  GSM2677513  \\\n",
       "0            1609         816        2861        2587        2351         557   \n",
       "1              95          38          39          46          50          35   \n",
       "2             613         364        1063         913         776         315   \n",
       "3             944         843        1117         936        1004         740   \n",
       "4             314         186         493         365         406         231   \n",
       "...           ...         ...         ...         ...         ...         ...   \n",
       "27985           1           1           0           0           2           0   \n",
       "27986           0           2           0           0           0           0   \n",
       "27987           0           0           0           2           2           2   \n",
       "27988          33           0          46          57          31          15   \n",
       "27989           3           2           4           1           1           0   \n",
       "\n",
       "       GSM2677514  GSM2677515  GSM2677516  GSM2677517  \n",
       "0            2373        1190        1439        1442  \n",
       "1              59          38          48          41  \n",
       "2             955         660         717         663  \n",
       "3            1370        1165        1039        1099  \n",
       "4             546         304         302         270  \n",
       "...           ...         ...         ...         ...  \n",
       "27985           3           0           3           2  \n",
       "27986           0           0           0           0  \n",
       "27987           1           0           2           0  \n",
       "27988          25          56           0          10  \n",
       "27989           2           9           2           3  \n",
       "\n",
       "[27990 rows x 399 columns]"
      ]
     },
     "execution_count": 8,
     "metadata": {},
     "output_type": "execute_result"
    }
   ],
   "source": [
    "pd.read_pickle(humanData)"
   ]
  },
  {
   "cell_type": "code",
   "execution_count": null,
   "id": "9b33c4bc-9dd3-4bad-9761-53ed454ca456",
   "metadata": {},
   "outputs": [],
   "source": [
    "# Prepare to download mouse data\n",
    "\n",
    "# Filter dataframe for mouse data only\n",
    "GSE_species_df_filtered = GSE_species_df[GSE_species_df['species'] == 'Mus musculus']\n",
    "\n",
    "GSE_species_df_filtered\n",
    "\n",
    "# Check if there is already expression data downloaded or whether we are starting fresh\n",
    "miceLog = \"greinLoadMice.log\"\n",
    "miceData = \"download/grein_count_matrix_mice.pkl\"\n",
    "if os.path.exists(miceLog) and os.path.exists(miceData): \n",
    "    print(\"...loading mouse data\")\n",
    "    count_matrix_mice_df = pd.read_pickle(miceData)\n",
    "    completed = load_log(miceLog)\n",
    "else:\n",
    "    print(\"starting mouse download from scratch\")\n",
    "    count_matrix_mice_df = pd.DataFrame()\n",
    "    completed = set()\n",
    "    !touch {miceLog}"
   ]
  },
  {
   "cell_type": "code",
   "execution_count": null,
   "id": "3b457521-5564-4b4d-9e70-25aa48da177f",
   "metadata": {},
   "outputs": [],
   "source": [
    "# Saving mouse gene expression data\n",
    "with open(miceLog, \"a\") as logfile:\n",
    "    for geo_accession in GSE_species_df_filtered['geo_accession_id']:\n",
    "        \n",
    "        # Check if this data was logged as loaded\n",
    "        if geo_accession in completed:\n",
    "            print(\"Already done: {0}\".format(geo_accession))\n",
    "            continue\n",
    "            \n",
    "        # If new data, download data and add to df\n",
    "        print(\"********* |\", geo_accession, \"| ***********\")\n",
    "        logfile.write(geo_accession + \",start\\n\")\n",
    "        \n",
    "        count_matrix_mice_df = load_data(geo_accession, count_matrix_mice_df)\n",
    "        \n",
    "        logfile.write(geo_accession + \",write\\n\")\n",
    "        count_matrix_mice_df.to_pickle(miceData)\n",
    "        logfile.write(geo_accession + \",end\\n\")"
   ]
  },
  {
   "cell_type": "code",
   "execution_count": null,
   "id": "f785e872",
   "metadata": {},
   "outputs": [],
   "source": [
    "pd.read_pickle(\"download/grein_count_matrix_mice.pkl\")\n"
   ]
  },
  {
   "cell_type": "code",
   "execution_count": 9,
   "id": "14c48bb9",
   "metadata": {},
   "outputs": [
    {
     "name": "stdout",
     "output_type": "stream",
     "text": [
      "********* | GSE100297 | ***********\n"
     ]
    },
    {
     "ename": "NameError",
     "evalue": "name 'count_matrix_df' is not defined",
     "output_type": "error",
     "traceback": [
      "\u001b[0;31m---------------------------------------------------------------------------\u001b[0m",
      "\u001b[0;31mNameError\u001b[0m                                 Traceback (most recent call last)",
      "Cell \u001b[0;32mIn[9], line 18\u001b[0m\n\u001b[1;32m     14\u001b[0m description, metadata, count_matrix \u001b[38;5;241m=\u001b[39m loader\u001b[38;5;241m.\u001b[39mload_dataset(geo_accession)\n\u001b[1;32m     15\u001b[0m \u001b[38;5;66;03m# print(\"Description: \", description)\u001b[39;00m\n\u001b[1;32m     16\u001b[0m \n\u001b[1;32m     17\u001b[0m \u001b[38;5;66;03m# Merge in to existing count matrix DF\u001b[39;00m\n\u001b[0;32m---> 18\u001b[0m \u001b[38;5;28;01mif\u001b[39;00m \u001b[43mcount_matrix_df\u001b[49m\u001b[38;5;241m.\u001b[39mempty:\n\u001b[1;32m     19\u001b[0m     count_matrix_df \u001b[38;5;241m=\u001b[39m count_matrix\n\u001b[1;32m     20\u001b[0m \u001b[38;5;28;01melse\u001b[39;00m:\n",
      "\u001b[0;31mNameError\u001b[0m: name 'count_matrix_df' is not defined"
     ]
    }
   ],
   "source": [
    "# Loading data from the data sets using the geo_accession IDs\n",
    "# NOTE this does not save/pickle the description or metadata at all\n",
    "\n",
    "with open(\"greinLoad.log\", \"a\") as logfile:\n",
    "    for geo_accession in geo_accession_ids:\n",
    "        \n",
    "        # Check if this data was succesfully pickled\n",
    "        if geo_accession in completed:\n",
    "            continue\n",
    "            \n",
    "        # If new data, download data and add to df\n",
    "        print(\"********* |\", geo_accession, \"| ***********\")\n",
    "        logfile.write(geo_accession + \",start\\n\")\n",
    "        description, metadata, count_matrix = loader.load_dataset(geo_accession)\n",
    "        # print(\"Description: \", description)\n",
    "        \n",
    "        # Merge in to existing count matrix DF\n",
    "        if count_matrix_df.empty:\n",
    "            count_matrix_df = count_matrix\n",
    "        else:\n",
    "            count_matrix_df = pd.merge(count_matrix_df, count_matrix,  how='left', on=[\"gene\", \"gene_symbol\"], suffixes=[None,\"y\"])\n",
    "        \n",
    "        logfile.write(geo_accession + \",write\\n\")\n",
    "        count_matrix_df.to_pickle(\"download/grein_count_matrix.pkl\")\n",
    "        logfile.write(geo_accession + \",end\\n\")\n",
    "        \n",
    "        break"
   ]
  },
  {
   "cell_type": "code",
   "execution_count": null,
   "id": "7ab50fdd-e162-4f5f-8382-7a96c93c5902",
   "metadata": {},
   "outputs": [],
   "source": [
    "# Timimg the loading of data sets\n",
    "start = time.time()\n",
    "print(loader.load_overview(10))\n",
    "end = time.time()\n",
    "print(end-start)"
   ]
  },
  {
   "cell_type": "markdown",
   "id": "07d59c22",
   "metadata": {},
   "source": [
    "## Save the data loaded above"
   ]
  },
  {
   "cell_type": "code",
   "execution_count": null,
   "id": "80d0f997",
   "metadata": {},
   "outputs": [],
   "source": [
    "import random\n",
    "from sklearn.model_selection import train_test_split\n",
    "import json\n",
    "import sys"
   ]
  },
  {
   "cell_type": "markdown",
   "id": "9ba973b3",
   "metadata": {},
   "source": [
    "**Count_matrix**"
   ]
  },
  {
   "cell_type": "code",
   "execution_count": null,
   "id": "d7dda5ce",
   "metadata": {},
   "outputs": [],
   "source": [
    "# still relevant??\n",
    "# path = os.path.join(os.getcwd(), 'download', 'count_matrix.tsv')\n",
    "# with open(path, 'w') as file:\n",
    "#     count_matrix_df.to_csv(path, sep=\"\\t\") "
   ]
  },
  {
   "cell_type": "markdown",
   "id": "339e5023",
   "metadata": {},
   "source": [
    "**Description**"
   ]
  },
  {
   "cell_type": "code",
   "execution_count": null,
   "id": "f15f8b9a",
   "metadata": {},
   "outputs": [],
   "source": [
    "# still relevant??\n",
    "# Save description. Currently saves description for only one data set at a time\n",
    "# path = os.path.join('download', 'description.json')\n",
    "# with open(path, 'w') as file:\n",
    "#     # Serialize and write the variable to the file\n",
    "#     json.dump(description, file)"
   ]
  },
  {
   "cell_type": "markdown",
   "id": "724557b3",
   "metadata": {},
   "source": [
    "**Metadata**"
   ]
  },
  {
   "cell_type": "code",
   "execution_count": null,
   "id": "eec21cf5",
   "metadata": {},
   "outputs": [],
   "source": [
    "# still relevant??\n",
    "\n",
    "# # Create a dataframe from metadata\n",
    "# metadata_df = pd.DataFrame.from_dict(metadata)\n",
    "\n",
    "# # list of row names in metadata_df\n",
    "# row_names = list(metadata_df.index)\n",
    "\n",
    "# # Creating a list of rows that we do not require to process this data set\n",
    "# unneeded_rows = ['Consent', ' ', 'channel_count', 'organism_ch1', 'relation', 'status']\n",
    "# for index in row_names:\n",
    "#     if ('contact' in index) or ('date' in index) or ('data_processing' in index) or ('Hash' in index) or ('Date' in index) or ('library' in index):\n",
    "#         unneeded_rows.append(index)\n",
    "        \n",
    "# # remove unnecessary roles from count_matrix\n",
    "# metadata_df.drop(unneeded_rows, axis = 0)"
   ]
  }
 ],
 "metadata": {
  "kernelspec": {
   "display_name": "Python 3 (ipykernel)",
   "language": "python",
   "name": "python3"
  },
  "language_info": {
   "codemirror_mode": {
    "name": "ipython",
    "version": 3
   },
   "file_extension": ".py",
   "mimetype": "text/x-python",
   "name": "python",
   "nbconvert_exporter": "python",
   "pygments_lexer": "ipython3",
   "version": "3.12.4"
  }
 },
 "nbformat": 4,
 "nbformat_minor": 5
}
