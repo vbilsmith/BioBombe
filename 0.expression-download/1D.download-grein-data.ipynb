{
 "cells": [
  {
   "cell_type": "code",
   "execution_count": 1,
   "id": "6067bdcc",
   "metadata": {
    "ExecuteTime": {
     "end_time": "2024-07-08T17:43:23.184640Z",
     "start_time": "2024-07-08T17:43:22.996866Z"
    }
   },
   "outputs": [
    {
     "name": "stdout",
     "output_type": "stream",
     "text": [
      "/home/zplumridge/biobombe/0.expression-download\n"
     ]
    }
   ],
   "source": [
    "# To install the grein_loader package\n",
    "#!pip install grein_loader\n",
    "!pwd"
   ]
  },
  {
   "cell_type": "code",
   "execution_count": 2,
   "id": "331a0f21",
   "metadata": {
    "ExecuteTime": {
     "end_time": "2024-07-12T16:54:48.746158Z",
     "start_time": "2024-07-12T16:54:48.387365Z"
    }
   },
   "outputs": [],
   "source": [
    "import grein_loader as loader\n",
    "import pandas as pd\n",
    "import os\n",
    "import time"
   ]
  },
  {
   "cell_type": "code",
   "execution_count": 3,
   "id": "269899538ef2705f",
   "metadata": {
    "ExecuteTime": {
     "end_time": "2024-07-12T17:11:10.752547Z",
     "start_time": "2024-07-12T17:11:10.749678Z"
    }
   },
   "outputs": [],
   "source": [
    "# Load log file from disk to see if this data has already been added\n",
    "def load_log(logFile):\n",
    "    log = pd.read_csv(logFile, names=[\"GSE\", \"status\"])\n",
    "    log = log[log[\"status\"] == \"end\"]\n",
    "    return set(log[\"GSE\"].unique())"
   ]
  },
  {
   "cell_type": "code",
   "execution_count": 4,
   "id": "19c8219892618b53",
   "metadata": {
    "ExecuteTime": {
     "end_time": "2024-07-12T17:07:56.561516Z",
     "start_time": "2024-07-12T17:07:56.559187Z"
    },
    "collapsed": false,
    "jupyter": {
     "outputs_hidden": false
    }
   },
   "outputs": [],
   "source": [
    "def load_data(geo_accession, count_matrix_df):\n",
    "    description, metadata, count_matrix = loader.load_dataset(geo_accession)\n",
    "        \n",
    "    # Merge in to existing count matrix DF\n",
    "    if count_matrix_df.empty:\n",
    "        return count_matrix\n",
    "    else:\n",
    "        return pd.merge(count_matrix_df, count_matrix,  how='left', on=[\"gene\", \"gene_symbol\"])"
   ]
  },
  {
   "cell_type": "code",
   "execution_count": 5,
   "id": "d7c098d1",
   "metadata": {
    "ExecuteTime": {
     "end_time": "2024-07-12T17:13:13.465724Z",
     "start_time": "2024-07-12T17:13:08.745057Z"
    }
   },
   "outputs": [],
   "source": [
    "# Loading grein overview\n",
    "\n",
    "# loading a subset of the data\n",
    "# number_of_datasets = 1000\n",
    "# overview = loader.load_overview(number_of_datasets)\n",
    "\n",
    "# loading all the data\n",
    "overview = loader.load_overview(5)\n",
    "\n",
    "# Accessing the geo_accession ID and study species from overview\n",
    "geo_accession_ids = []\n",
    "species = []\n",
    "for i in range(len(overview)):\n",
    "    geo_accession_ids.append(overview[i]['geo_accession'])\n",
    "    species.append(overview[i]['species'])"
   ]
  },
  {
   "cell_type": "code",
   "execution_count": 6,
   "id": "404ed391",
   "metadata": {
    "ExecuteTime": {
     "end_time": "2024-07-12T17:13:14.699046Z",
     "start_time": "2024-07-12T17:13:14.694038Z"
    }
   },
   "outputs": [],
   "source": [
    "# saving the species in each GSE\n",
    "GSE_species = {'geo_accession_id': geo_accession_ids, 'species': species}\n",
    "GSE_species_df = pd.DataFrame.from_dict(GSE_species)"
   ]
  },
  {
   "cell_type": "code",
   "execution_count": null,
   "id": "3237f570",
   "metadata": {
    "ExecuteTime": {
     "end_time": "2024-07-12T17:13:19.920023Z",
     "start_time": "2024-07-12T17:13:19.891577Z"
    }
   },
   "outputs": [],
   "source": [
    "# Prepare to download human data\n",
    "\n",
    "# Filter dataframe for human data only\n",
    "GSE_species_df_filtered = GSE_species_df[GSE_species_df['species'] == 'Homo sapiens']\n",
    "\n",
    "GSE_species_df_filtered\n",
    "\n",
    "# Check if there is already expression data downloaded or whether we are starting fresh\n",
    "humanLog = \"greinLoadHuman.log\"\n",
    "humanData = \"download/grein_count_matrix_human.pkl\"\n",
    "if os.path.exists(humanLog) and os.path.exists(humanData): \n",
    "    print(\"...loading human data\")\n",
    "    count_matrix_human_df = pd.read_pickle(humanData)\n",
    "    completed = load_log(humanLog)\n",
    "else:\n",
    "    print(\"starting human download from scratch\")\n",
    "    count_matrix_human_df = pd.DataFrame()\n",
    "    completed = set()\n",
    "    !touch {humanLog}"
   ]
  },
  {
   "cell_type": "code",
   "execution_count": null,
   "id": "d7e11f7f",
   "metadata": {
    "ExecuteTime": {
     "end_time": "2024-07-12T17:13:26.243195Z",
     "start_time": "2024-07-12T17:13:23.524572Z"
    }
   },
   "outputs": [],
   "source": [
    "# Saving human gene expression data\n",
    "with open(humanLog, \"a\") as logfile:\n",
    "    for geo_accession in GSE_species_df_filtered['geo_accession_id']:\n",
    "        \n",
    "        # Check if this data was logged as loaded\n",
    "        if geo_accession in completed:\n",
    "            print(\"Already done: {0}\".format(geo_accession))\n",
    "            continue\n",
    "            \n",
    "        # If new data, download data and add to df\n",
    "        print(\"********* |\", geo_accession, \"| ***********\")\n",
    "        logfile.write(geo_accession + \",start\\n\")\n",
    "        \n",
    "        count_matrix_human_df = load_data(geo_accession, count_matrix_human_df)\n",
    "        \n",
    "        logfile.write(geo_accession + \",write\\n\")\n",
    "        count_matrix_human_df.to_pickle(humanData)\n",
    "        logfile.write(geo_accession + \",end\\n\")\n",
    "        \n"
   ]
  },
  {
   "cell_type": "code",
   "execution_count": null,
   "id": "8035da339504313c",
   "metadata": {
    "ExecuteTime": {
     "end_time": "2024-07-12T17:12:04.989606Z",
     "start_time": "2024-07-12T17:12:04.931187Z"
    },
    "collapsed": false,
    "jupyter": {
     "outputs_hidden": false
    }
   },
   "outputs": [],
   "source": [
    "pd.read_pickle(humanData)"
   ]
  },
  {
   "cell_type": "code",
   "execution_count": 8,
   "id": "9b33c4bc-9dd3-4bad-9761-53ed454ca456",
   "metadata": {},
   "outputs": [
    {
     "name": "stdout",
     "output_type": "stream",
     "text": [
      "...loading mouse data\n"
     ]
    }
   ],
   "source": [
    "# Prepare to download mouse data\n",
    "\n",
    "# Filter dataframe for mouse data only\n",
    "GSE_species_df_filtered = GSE_species_df[GSE_species_df['species'] == 'Mus musculus']\n",
    "\n",
    "GSE_species_df_filtered\n",
    "\n",
    "# Check if there is already expression data downloaded or whether we are starting fresh\n",
    "miceLog = \"greinLoadMice.log\"\n",
    "miceData = \"download/grein_count_matrix_mice.pkl\"\n",
    "if os.path.exists(miceLog) and os.path.exists(miceData): \n",
    "    print(\"...loading mouse data\")\n",
    "    count_matrix_mice_df = pd.read_pickle(miceData)\n",
    "    completed = load_log(miceLog)\n",
    "else:\n",
    "    print(\"starting mouse download from scratch\")\n",
    "    count_matrix_mice_df = pd.DataFrame()\n",
    "    completed = set()\n",
    "    !touch {miceLog}"
   ]
  },
  {
   "cell_type": "code",
   "execution_count": 10,
   "id": "3b457521-5564-4b4d-9e70-25aa48da177f",
   "metadata": {},
   "outputs": [],
   "source": [
    "# Saving mouse gene expression data\n",
    "with open(miceLog, \"a\") as logfile:\n",
    "    for geo_accession in GSE_species_df_filtered['geo_accession_id']:\n",
    "        \n",
    "        # Check if this data was logged as loaded\n",
    "        if geo_accession in completed:\n",
    "            print(\"Already done: {0}\".format(geo_accession))\n",
    "            continue\n",
    "            \n",
    "        # If new data, download data and add to df\n",
    "        print(\"********* |\", geo_accession, \"| ***********\")\n",
    "        logfile.write(geo_accession + \",start\\n\")\n",
    "        \n",
    "        count_matrix_mice_df = load_data(geo_accession, count_matrix_mice_df)\n",
    "        \n",
    "        logfile.write(geo_accession + \",write\\n\")\n",
    "        count_matrix_mice_df.to_pickle(miceData)\n",
    "        logfile.write(geo_accession + \",end\\n\")"
   ]
  },
  {
   "cell_type": "code",
   "execution_count": 11,
   "id": "2e20187b",
   "metadata": {},
   "outputs": [],
   "source": [
    "# # Saving mice gene expression data\n",
    "\n",
    "# # Check if there is already data downloaded or whether we are starting fresh\n",
    "# if os.path.exists(\"greinLoadMice.log\") and os.path.exists(\"download/grein_count_matrix_mice.pkl\"): \n",
    "#     count_matrix_mice_df = pd.read_pickle(\"download/grein_count_matrix_mice.pkl\")\n",
    "#     completed = load_log(\"Mice\")\n",
    "\n",
    "# else:\n",
    "#     count_matrix_mice_df = pd.DataFrame()\n",
    "#     completed = set()\n",
    "#     os.system(\"touch greinLoadMice.log\")\n",
    "\n",
    "# with open(\"greinLoadMice.log\", \"a\") as logfile:\n",
    "#     for geo_accession in geo_accession_ids:\n",
    "        \n",
    "#         # Check if this data was succesfully pickled\n",
    "#         if geo_accession in completed:\n",
    "#             continue\n",
    "            \n",
    "#         # If new data, download data and add to df\n",
    "#         print(\"********* |\", geo_accession, \"| ***********\")\n",
    "#         logfile.write(geo_accession + \",start\\n\")\n",
    "#         description, metadata, count_matrix = loader.load_dataset(geo_accession)\n",
    "#         # print(\"Description: \", description)\n",
    "        \n",
    "#         # Merge in to existing count matrix DF\n",
    "#         if count_matrix_mice_df.empty:\n",
    "#             count_matrix_mice_df = count_matrix\n",
    "#         else:\n",
    "#             count_matrix_mice_df = pd.merge(count_matrix_mice_df, count_matrix,  how='left', on=[\"gene\", \"gene_symbol\"])\n",
    "        \n",
    "#         logfile.write(geo_accession + \",write\\n\")\n",
    "#         count_matrix_mice_df.to_pickle(\"download/grein_count_matrix_mice.pkl\")\n",
    "#         logfile.write(geo_accession + \",end\\n\")"
   ]
  },
  {
   "cell_type": "code",
   "execution_count": 12,
   "id": "f785e872",
   "metadata": {},
   "outputs": [
    {
     "data": {
      "text/html": [
       "<div>\n",
       "<style scoped>\n",
       "    .dataframe tbody tr th:only-of-type {\n",
       "        vertical-align: middle;\n",
       "    }\n",
       "\n",
       "    .dataframe tbody tr th {\n",
       "        vertical-align: top;\n",
       "    }\n",
       "\n",
       "    .dataframe thead th {\n",
       "        text-align: right;\n",
       "    }\n",
       "</style>\n",
       "<table border=\"1\" class=\"dataframe\">\n",
       "  <thead>\n",
       "    <tr style=\"text-align: right;\">\n",
       "      <th></th>\n",
       "      <th>gene</th>\n",
       "      <th>gene_symbol</th>\n",
       "      <th>GSM2667747</th>\n",
       "      <th>GSM2667748</th>\n",
       "      <th>GSM2667749</th>\n",
       "      <th>GSM2667750</th>\n",
       "      <th>GSM2667751</th>\n",
       "      <th>GSM2667752</th>\n",
       "      <th>GSM2667753</th>\n",
       "      <th>GSM2667754</th>\n",
       "      <th>...</th>\n",
       "      <th>GSM2670935</th>\n",
       "      <th>GSM2670936</th>\n",
       "      <th>GSM2670937</th>\n",
       "      <th>GSM2670938</th>\n",
       "      <th>GSM2670939</th>\n",
       "      <th>GSM2670940</th>\n",
       "      <th>GSM2670941</th>\n",
       "      <th>GSM2670942</th>\n",
       "      <th>GSM2670943</th>\n",
       "      <th>GSM2670944</th>\n",
       "    </tr>\n",
       "  </thead>\n",
       "  <tbody>\n",
       "    <tr>\n",
       "      <th>0</th>\n",
       "      <td>ENSG00000000003</td>\n",
       "      <td>TSPAN6</td>\n",
       "      <td>1766.0677</td>\n",
       "      <td>420.8206</td>\n",
       "      <td>300.8009</td>\n",
       "      <td>3142.8439</td>\n",
       "      <td>2207.8392</td>\n",
       "      <td>4367.5056</td>\n",
       "      <td>228.5759</td>\n",
       "      <td>650.3287</td>\n",
       "      <td>...</td>\n",
       "      <td>1078.6717</td>\n",
       "      <td>1636.3871</td>\n",
       "      <td>1146.7951</td>\n",
       "      <td>844.6351</td>\n",
       "      <td>1360.4983</td>\n",
       "      <td>1025.6808</td>\n",
       "      <td>1664.7458</td>\n",
       "      <td>1107.4764</td>\n",
       "      <td>1324.9486</td>\n",
       "      <td>2157.1619</td>\n",
       "    </tr>\n",
       "    <tr>\n",
       "      <th>1</th>\n",
       "      <td>ENSG00000000005</td>\n",
       "      <td>TNMD</td>\n",
       "      <td>43.9280</td>\n",
       "      <td>18.0091</td>\n",
       "      <td>0.0000</td>\n",
       "      <td>115.8917</td>\n",
       "      <td>63.5936</td>\n",
       "      <td>39.7803</td>\n",
       "      <td>11.7588</td>\n",
       "      <td>1.0153</td>\n",
       "      <td>...</td>\n",
       "      <td>0.0000</td>\n",
       "      <td>0.0000</td>\n",
       "      <td>0.0000</td>\n",
       "      <td>0.0000</td>\n",
       "      <td>0.0000</td>\n",
       "      <td>0.0000</td>\n",
       "      <td>0.0000</td>\n",
       "      <td>0.0000</td>\n",
       "      <td>0.0000</td>\n",
       "      <td>3.0003</td>\n",
       "    </tr>\n",
       "    <tr>\n",
       "      <th>2</th>\n",
       "      <td>ENSG00000000419</td>\n",
       "      <td>DPM1</td>\n",
       "      <td>1097.7855</td>\n",
       "      <td>367.2333</td>\n",
       "      <td>316.5226</td>\n",
       "      <td>3895.0588</td>\n",
       "      <td>1536.1375</td>\n",
       "      <td>1084.5276</td>\n",
       "      <td>127.7205</td>\n",
       "      <td>245.1014</td>\n",
       "      <td>...</td>\n",
       "      <td>1315.4751</td>\n",
       "      <td>2311.7178</td>\n",
       "      <td>1772.0056</td>\n",
       "      <td>1517.0711</td>\n",
       "      <td>2425.5313</td>\n",
       "      <td>1314.7251</td>\n",
       "      <td>1999.5618</td>\n",
       "      <td>1292.2135</td>\n",
       "      <td>1069.4558</td>\n",
       "      <td>1557.9238</td>\n",
       "    </tr>\n",
       "    <tr>\n",
       "      <th>3</th>\n",
       "      <td>ENSG00000000457</td>\n",
       "      <td>SCYL3</td>\n",
       "      <td>601.4702</td>\n",
       "      <td>270.9239</td>\n",
       "      <td>163.6869</td>\n",
       "      <td>1177.2241</td>\n",
       "      <td>873.9074</td>\n",
       "      <td>845.1423</td>\n",
       "      <td>229.8548</td>\n",
       "      <td>134.4694</td>\n",
       "      <td>...</td>\n",
       "      <td>566.1269</td>\n",
       "      <td>1030.9259</td>\n",
       "      <td>606.1132</td>\n",
       "      <td>503.6953</td>\n",
       "      <td>650.6035</td>\n",
       "      <td>342.3705</td>\n",
       "      <td>819.3018</td>\n",
       "      <td>625.1210</td>\n",
       "      <td>603.4636</td>\n",
       "      <td>906.1349</td>\n",
       "    </tr>\n",
       "    <tr>\n",
       "      <th>4</th>\n",
       "      <td>ENSG00000000460</td>\n",
       "      <td>C1orf112</td>\n",
       "      <td>1040.8861</td>\n",
       "      <td>349.1418</td>\n",
       "      <td>298.1800</td>\n",
       "      <td>1967.3975</td>\n",
       "      <td>2115.2425</td>\n",
       "      <td>980.9359</td>\n",
       "      <td>253.4457</td>\n",
       "      <td>145.7038</td>\n",
       "      <td>...</td>\n",
       "      <td>802.7717</td>\n",
       "      <td>1575.0268</td>\n",
       "      <td>1654.0489</td>\n",
       "      <td>1611.0739</td>\n",
       "      <td>1550.6762</td>\n",
       "      <td>542.8404</td>\n",
       "      <td>1086.6086</td>\n",
       "      <td>779.8898</td>\n",
       "      <td>345.4098</td>\n",
       "      <td>522.6700</td>\n",
       "    </tr>\n",
       "    <tr>\n",
       "      <th>...</th>\n",
       "      <td>...</td>\n",
       "      <td>...</td>\n",
       "      <td>...</td>\n",
       "      <td>...</td>\n",
       "      <td>...</td>\n",
       "      <td>...</td>\n",
       "      <td>...</td>\n",
       "      <td>...</td>\n",
       "      <td>...</td>\n",
       "      <td>...</td>\n",
       "      <td>...</td>\n",
       "      <td>...</td>\n",
       "      <td>...</td>\n",
       "      <td>...</td>\n",
       "      <td>...</td>\n",
       "      <td>...</td>\n",
       "      <td>...</td>\n",
       "      <td>...</td>\n",
       "      <td>...</td>\n",
       "      <td>...</td>\n",
       "      <td>...</td>\n",
       "    </tr>\n",
       "    <tr>\n",
       "      <th>27985</th>\n",
       "      <td>ENSG00000283688</td>\n",
       "      <td>MIR6715B</td>\n",
       "      <td>0.0000</td>\n",
       "      <td>0.0000</td>\n",
       "      <td>0.0000</td>\n",
       "      <td>0.0000</td>\n",
       "      <td>0.0000</td>\n",
       "      <td>0.0000</td>\n",
       "      <td>0.0000</td>\n",
       "      <td>0.0000</td>\n",
       "      <td>...</td>\n",
       "      <td>0.0000</td>\n",
       "      <td>0.0000</td>\n",
       "      <td>0.0000</td>\n",
       "      <td>0.0000</td>\n",
       "      <td>0.0000</td>\n",
       "      <td>0.0000</td>\n",
       "      <td>0.0000</td>\n",
       "      <td>0.0000</td>\n",
       "      <td>0.0000</td>\n",
       "      <td>0.0000</td>\n",
       "    </tr>\n",
       "    <tr>\n",
       "      <th>27986</th>\n",
       "      <td>ENSG00000283690</td>\n",
       "      <td>MIR3116-2</td>\n",
       "      <td>0.0000</td>\n",
       "      <td>0.0000</td>\n",
       "      <td>0.0000</td>\n",
       "      <td>0.0000</td>\n",
       "      <td>0.0000</td>\n",
       "      <td>0.0000</td>\n",
       "      <td>0.0000</td>\n",
       "      <td>0.0000</td>\n",
       "      <td>...</td>\n",
       "      <td>0.0000</td>\n",
       "      <td>0.0000</td>\n",
       "      <td>0.0000</td>\n",
       "      <td>0.0000</td>\n",
       "      <td>0.0000</td>\n",
       "      <td>0.0000</td>\n",
       "      <td>0.0000</td>\n",
       "      <td>0.0000</td>\n",
       "      <td>0.0000</td>\n",
       "      <td>0.0000</td>\n",
       "    </tr>\n",
       "    <tr>\n",
       "      <th>27987</th>\n",
       "      <td>ENSG00000283694</td>\n",
       "      <td>MIR3202-2</td>\n",
       "      <td>0.0000</td>\n",
       "      <td>0.0000</td>\n",
       "      <td>0.0000</td>\n",
       "      <td>0.0000</td>\n",
       "      <td>0.0000</td>\n",
       "      <td>0.0000</td>\n",
       "      <td>0.0000</td>\n",
       "      <td>0.0000</td>\n",
       "      <td>...</td>\n",
       "      <td>0.0000</td>\n",
       "      <td>0.0000</td>\n",
       "      <td>0.0000</td>\n",
       "      <td>0.0000</td>\n",
       "      <td>0.0000</td>\n",
       "      <td>0.0000</td>\n",
       "      <td>0.0000</td>\n",
       "      <td>0.0000</td>\n",
       "      <td>0.0000</td>\n",
       "      <td>0.0000</td>\n",
       "    </tr>\n",
       "    <tr>\n",
       "      <th>27988</th>\n",
       "      <td>ENSG00000283697</td>\n",
       "      <td>LOC101928917</td>\n",
       "      <td>1.7315</td>\n",
       "      <td>0.0000</td>\n",
       "      <td>0.0000</td>\n",
       "      <td>0.0000</td>\n",
       "      <td>2.0039</td>\n",
       "      <td>3.9899</td>\n",
       "      <td>2.5184</td>\n",
       "      <td>4.1298</td>\n",
       "      <td>...</td>\n",
       "      <td>NaN</td>\n",
       "      <td>NaN</td>\n",
       "      <td>NaN</td>\n",
       "      <td>NaN</td>\n",
       "      <td>NaN</td>\n",
       "      <td>NaN</td>\n",
       "      <td>NaN</td>\n",
       "      <td>NaN</td>\n",
       "      <td>NaN</td>\n",
       "      <td>NaN</td>\n",
       "    </tr>\n",
       "    <tr>\n",
       "      <th>27989</th>\n",
       "      <td>ENSG00000283699</td>\n",
       "      <td>MIR4481</td>\n",
       "      <td>0.0000</td>\n",
       "      <td>1.1301</td>\n",
       "      <td>0.0000</td>\n",
       "      <td>1.3192</td>\n",
       "      <td>0.0000</td>\n",
       "      <td>0.0000</td>\n",
       "      <td>0.0000</td>\n",
       "      <td>0.0000</td>\n",
       "      <td>...</td>\n",
       "      <td>0.0000</td>\n",
       "      <td>2.0415</td>\n",
       "      <td>0.0000</td>\n",
       "      <td>0.0000</td>\n",
       "      <td>0.0000</td>\n",
       "      <td>0.0000</td>\n",
       "      <td>0.0000</td>\n",
       "      <td>0.0000</td>\n",
       "      <td>0.0000</td>\n",
       "      <td>0.0000</td>\n",
       "    </tr>\n",
       "  </tbody>\n",
       "</table>\n",
       "<p>27990 rows × 88 columns</p>\n",
       "</div>"
      ],
      "text/plain": [
       "                  gene   gene_symbol  GSM2667747  GSM2667748  GSM2667749  \\\n",
       "0      ENSG00000000003        TSPAN6   1766.0677    420.8206    300.8009   \n",
       "1      ENSG00000000005          TNMD     43.9280     18.0091      0.0000   \n",
       "2      ENSG00000000419          DPM1   1097.7855    367.2333    316.5226   \n",
       "3      ENSG00000000457         SCYL3    601.4702    270.9239    163.6869   \n",
       "4      ENSG00000000460      C1orf112   1040.8861    349.1418    298.1800   \n",
       "...                ...           ...         ...         ...         ...   \n",
       "27985  ENSG00000283688      MIR6715B      0.0000      0.0000      0.0000   \n",
       "27986  ENSG00000283690     MIR3116-2      0.0000      0.0000      0.0000   \n",
       "27987  ENSG00000283694     MIR3202-2      0.0000      0.0000      0.0000   \n",
       "27988  ENSG00000283697  LOC101928917      1.7315      0.0000      0.0000   \n",
       "27989  ENSG00000283699       MIR4481      0.0000      1.1301      0.0000   \n",
       "\n",
       "       GSM2667750  GSM2667751  GSM2667752  GSM2667753  GSM2667754  ...  \\\n",
       "0       3142.8439   2207.8392   4367.5056    228.5759    650.3287  ...   \n",
       "1        115.8917     63.5936     39.7803     11.7588      1.0153  ...   \n",
       "2       3895.0588   1536.1375   1084.5276    127.7205    245.1014  ...   \n",
       "3       1177.2241    873.9074    845.1423    229.8548    134.4694  ...   \n",
       "4       1967.3975   2115.2425    980.9359    253.4457    145.7038  ...   \n",
       "...           ...         ...         ...         ...         ...  ...   \n",
       "27985      0.0000      0.0000      0.0000      0.0000      0.0000  ...   \n",
       "27986      0.0000      0.0000      0.0000      0.0000      0.0000  ...   \n",
       "27987      0.0000      0.0000      0.0000      0.0000      0.0000  ...   \n",
       "27988      0.0000      2.0039      3.9899      2.5184      4.1298  ...   \n",
       "27989      1.3192      0.0000      0.0000      0.0000      0.0000  ...   \n",
       "\n",
       "       GSM2670935  GSM2670936  GSM2670937  GSM2670938  GSM2670939  GSM2670940  \\\n",
       "0       1078.6717   1636.3871   1146.7951    844.6351   1360.4983   1025.6808   \n",
       "1          0.0000      0.0000      0.0000      0.0000      0.0000      0.0000   \n",
       "2       1315.4751   2311.7178   1772.0056   1517.0711   2425.5313   1314.7251   \n",
       "3        566.1269   1030.9259    606.1132    503.6953    650.6035    342.3705   \n",
       "4        802.7717   1575.0268   1654.0489   1611.0739   1550.6762    542.8404   \n",
       "...           ...         ...         ...         ...         ...         ...   \n",
       "27985      0.0000      0.0000      0.0000      0.0000      0.0000      0.0000   \n",
       "27986      0.0000      0.0000      0.0000      0.0000      0.0000      0.0000   \n",
       "27987      0.0000      0.0000      0.0000      0.0000      0.0000      0.0000   \n",
       "27988         NaN         NaN         NaN         NaN         NaN         NaN   \n",
       "27989      0.0000      2.0415      0.0000      0.0000      0.0000      0.0000   \n",
       "\n",
       "       GSM2670941  GSM2670942  GSM2670943  GSM2670944  \n",
       "0       1664.7458   1107.4764   1324.9486   2157.1619  \n",
       "1          0.0000      0.0000      0.0000      3.0003  \n",
       "2       1999.5618   1292.2135   1069.4558   1557.9238  \n",
       "3        819.3018    625.1210    603.4636    906.1349  \n",
       "4       1086.6086    779.8898    345.4098    522.6700  \n",
       "...           ...         ...         ...         ...  \n",
       "27985      0.0000      0.0000      0.0000      0.0000  \n",
       "27986      0.0000      0.0000      0.0000      0.0000  \n",
       "27987      0.0000      0.0000      0.0000      0.0000  \n",
       "27988         NaN         NaN         NaN         NaN  \n",
       "27989      0.0000      0.0000      0.0000      0.0000  \n",
       "\n",
       "[27990 rows x 88 columns]"
      ]
     },
     "execution_count": 12,
     "metadata": {},
     "output_type": "execute_result"
    }
   ],
   "source": [
    "pd.read_pickle(\"download/grein_count_matrix_mice.pkl\")\n"
   ]
  },
  {
   "cell_type": "code",
   "execution_count": null,
   "id": "14c48bb9",
   "metadata": {},
   "outputs": [],
   "source": [
    "# Loading data from the data sets using the geo_accession IDs\n",
    "# NOTE this does not save/pickle the description or metadata at all\n",
    "\n",
    "with open(\"greinLoad.log\", \"a\") as logfile:\n",
    "    for geo_accession in geo_accession_ids:\n",
    "        \n",
    "        # Check if this data was succesfully pickled\n",
    "        if geo_accession in completed:\n",
    "            continue\n",
    "            \n",
    "        # If new data, download data and add to df\n",
    "        print(\"********* |\", geo_accession, \"| ***********\")\n",
    "        logfile.write(geo_accession + \",start\\n\")\n",
    "        description, metadata, count_matrix = loader.load_dataset(geo_accession)\n",
    "        # print(\"Description: \", description)\n",
    "        \n",
    "        # Merge in to existing count matrix DF\n",
    "        if count_matrix_df.empty:\n",
    "            count_matrix_df = count_matrix\n",
    "        else:\n",
    "            count_matrix_df = pd.merge(count_matrix_df, count_matrix,  how='left', on=[\"gene\", \"gene_symbol\"])\n",
    "        \n",
    "        logfile.write(geo_accession + \",write\\n\")\n",
    "        count_matrix_df.to_pickle(\"download/grein_count_matrix.pkl\")\n",
    "        logfile.write(geo_accession + \",end\\n\")\n",
    "        \n",
    "        break"
   ]
  },
  {
   "cell_type": "code",
   "execution_count": null,
   "id": "7ab50fdd-e162-4f5f-8382-7a96c93c5902",
   "metadata": {},
   "outputs": [],
   "source": [
    "# Timimg the loading of data sets\n",
    "start = time.time()\n",
    "print(loader.load_overview(10))\n",
    "end = time.time()\n",
    "print(end-start)"
   ]
  },
  {
   "cell_type": "markdown",
   "id": "07d59c22",
   "metadata": {},
   "source": [
    "## Save the data loaded above"
   ]
  },
  {
   "cell_type": "code",
   "execution_count": null,
   "id": "80d0f997",
   "metadata": {},
   "outputs": [],
   "source": [
    "import random\n",
    "from sklearn.model_selection import train_test_split\n",
    "import json\n",
    "import sys"
   ]
  },
  {
   "cell_type": "markdown",
   "id": "9ba973b3",
   "metadata": {},
   "source": [
    "**Count_matrix**"
   ]
  },
  {
   "cell_type": "code",
   "execution_count": null,
   "id": "d7dda5ce",
   "metadata": {},
   "outputs": [],
   "source": [
    "path = os.path.join(os.getcwd(), 'download', 'count_matrix.tsv')\n",
    "with open(path, 'w') as file:\n",
    "    count_matrix_df.to_csv(path, sep=\"\\t\") "
   ]
  },
  {
   "cell_type": "markdown",
   "id": "339e5023",
   "metadata": {},
   "source": [
    "**Description**"
   ]
  },
  {
   "cell_type": "code",
   "execution_count": null,
   "id": "f15f8b9a",
   "metadata": {},
   "outputs": [],
   "source": [
    "# Save description. Currently saves description for only one data set at a time\n",
    "path = os.path.join('download', 'description.json')\n",
    "with open(path, 'w') as file:\n",
    "    # Serialize and write the variable to the file\n",
    "    json.dump(description, file)"
   ]
  },
  {
   "cell_type": "markdown",
   "id": "724557b3",
   "metadata": {},
   "source": [
    "**Metadata**"
   ]
  },
  {
   "cell_type": "code",
   "execution_count": null,
   "id": "eec21cf5",
   "metadata": {},
   "outputs": [],
   "source": [
    "# Create a dataframe from metadata\n",
    "metadata_df = pd.DataFrame.from_dict(metadata)\n",
    "\n",
    "# list of row names in metadata_df\n",
    "row_names = list(metadata_df.index)\n",
    "\n",
    "# Creating a list of rows that we do not require to process this data set\n",
    "unneeded_rows = ['Consent', ' ', 'channel_count', 'organism_ch1', 'relation', 'status']\n",
    "for index in row_names:\n",
    "    if ('contact' in index) or ('date' in index) or ('data_processing' in index) or ('Hash' in index) or ('Date' in index) or ('library' in index):\n",
    "        unneeded_rows.append(index)\n",
    "        \n",
    "# remove unnecessary roles from count_matrix\n",
    "metadata_df.drop(unneeded_rows, axis = 0)"
   ]
  },
  {
   "cell_type": "code",
   "execution_count": null,
   "id": "5cab20d5",
   "metadata": {},
   "outputs": [],
   "source": [
    "print(type(metadata))"
   ]
  },
  {
   "cell_type": "code",
   "execution_count": null,
   "id": "b031d146",
   "metadata": {},
   "outputs": [],
   "source": [
    "print(type(description))"
   ]
  },
  {
   "cell_type": "code",
   "execution_count": null,
   "id": "056e13b8",
   "metadata": {},
   "outputs": [],
   "source": [
    "print(count_matrix_df)"
   ]
  },
  {
   "cell_type": "code",
   "execution_count": null,
   "id": "2b543432",
   "metadata": {},
   "outputs": [],
   "source": [
    "print(count_matrix)"
   ]
  }
 ],
 "metadata": {
  "kernelspec": {
   "display_name": "Python 3 (ipykernel)",
   "language": "python",
   "name": "python3"
  },
  "language_info": {
   "codemirror_mode": {
    "name": "ipython",
    "version": 3
   },
   "file_extension": ".py",
   "mimetype": "text/x-python",
   "name": "python",
   "nbconvert_exporter": "python",
   "pygments_lexer": "ipython3",
   "version": "3.12.4"
  }
 },
 "nbformat": 4,
 "nbformat_minor": 5
}
