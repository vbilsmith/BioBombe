{
 "cells": [
  {
   "cell_type": "code",
   "execution_count": 15,
   "id": "6067bdcc",
   "metadata": {},
   "outputs": [
    {
     "name": "stdout",
     "output_type": "stream",
     "text": [
      "Defaulting to user installation because normal site-packages is not writeable\n",
      "Requirement already satisfied: grein_loader in ./.local/lib/python3.10/site-packages (0.0.4)\n",
      "Requirement already satisfied: requests in /usr/lib/python3/dist-packages (from grein_loader) (2.25.1)\n",
      "Requirement already satisfied: pandas in ./.local/lib/python3.10/site-packages (from grein_loader) (2.2.2)\n",
      "Requirement already satisfied: pytz>=2020.1 in /usr/lib/python3/dist-packages (from pandas->grein_loader) (2022.1)\n",
      "Requirement already satisfied: numpy>=1.22.4 in ./.local/lib/python3.10/site-packages (from pandas->grein_loader) (2.0.0)\n",
      "Requirement already satisfied: tzdata>=2022.7 in ./.local/lib/python3.10/site-packages (from pandas->grein_loader) (2024.1)\n",
      "Requirement already satisfied: python-dateutil>=2.8.2 in ./.local/lib/python3.10/site-packages (from pandas->grein_loader) (2.9.0.post0)\n",
      "Requirement already satisfied: six>=1.5 in /usr/lib/python3/dist-packages (from python-dateutil>=2.8.2->pandas->grein_loader) (1.16.0)\n"
     ]
    }
   ],
   "source": [
    "# To install the package\n",
    "!pip install grein_loader"
   ]
  },
  {
   "cell_type": "code",
   "execution_count": 12,
   "id": "be597a68",
   "metadata": {},
   "outputs": [],
   "source": [
    "# To load the software grein_loader\n",
    "import grein_loader as loader"
   ]
  },
  {
   "cell_type": "code",
   "execution_count": null,
   "id": "2a7fc34e",
   "metadata": {},
   "outputs": [],
   "source": [
    "# Loading metadata for the datasets\n",
    "number_of_datasets = 10\n",
    "overview = loader.load_overview(number_of_datasets)"
   ]
  },
  {
   "cell_type": "code",
   "execution_count": 18,
   "id": "0571bf96",
   "metadata": {},
   "outputs": [
    {
     "name": "stdout",
     "output_type": "stream",
     "text": [
      "['GSE100007', 'GSE100027', 'GSE100040', 'GSE100075', 'GSE100081', 'GSE100092', 'GSE100099', 'GSE100118', 'GSE100183', 'GSE100206']\n"
     ]
    }
   ],
   "source": [
    "# Accessing the geo_accession ID\n",
    "geo_accession_ids = []\n",
    "for i in range(len(overview)):\n",
    "    geo_accession_ids.append(overview[i]['geo_accession'])\n",
    "print(geo_accession_ids)"
   ]
  },
  {
   "cell_type": "code",
   "execution_count": null,
   "id": "d7c098d1",
   "metadata": {},
   "outputs": [],
   "source": [
    "# Loading data from the data sets using the geo_accession IDs\n",
    "for geo_accession in geo_accession_ids:\n",
    "    description, metadata, count_matrix = loader.load_dataset(geo_accession)"
   ]
  }
 ],
 "metadata": {
  "kernelspec": {
   "display_name": "Python 3 (ipykernel)",
   "language": "python",
   "name": "python3"
  },
  "language_info": {
   "codemirror_mode": {
    "name": "ipython",
    "version": 3
   },
   "file_extension": ".py",
   "mimetype": "text/x-python",
   "name": "python",
   "nbconvert_exporter": "python",
   "pygments_lexer": "ipython3",
   "version": "3.10.12"
  }
 },
 "nbformat": 4,
 "nbformat_minor": 5
}
