{
 "cells": [
  {
   "cell_type": "code",
   "execution_count": null,
   "id": "6067bdcc",
   "metadata": {},
   "outputs": [],
   "source": [
    "# To install the grein_loader package\n",
    "!pip install grein_loader"
   ]
  },
  {
   "cell_type": "code",
   "execution_count": 7,
   "id": "331a0f21",
   "metadata": {},
   "outputs": [],
   "source": [
    "# import grein_loader as loader\n",
    "# import pandas as pd\n",
    "# import pickle\n",
    "import os"
   ]
  },
  {
   "cell_type": "code",
   "execution_count": 2,
   "id": "d7c098d1",
   "metadata": {},
   "outputs": [],
   "source": [
    "# Loading metadata for the datasets\n",
    "number_of_datasets = 10\n",
    "overview = loader.load_overview(number_of_datasets)\n",
    "\n",
    "# Accessing the geo_accession ID from overview\n",
    "geo_accession_ids = []\n",
    "for i in range(len(overview)):\n",
    "    geo_accession_ids.append(overview[i]['geo_accession'])\n",
    "\n",
    "# Loading data from the data sets using the geo_accession IDs\n",
    "for geo_accession in geo_accession_ids:\n",
    "    description, metadata, count_matrix = loader.load_dataset(geo_accession)"
   ]
  },
  {
   "cell_type": "code",
   "execution_count": 11,
   "id": "f15f8b9a",
   "metadata": {},
   "outputs": [],
   "source": [
    "# relevant_data = [description, metadata, count_matrix]\n",
    "path = os.path.join('download', 'description.txt')\n",
    "with open(path, 'wb') as file:\n",
    "    # Serialize and write the variable to the file\n",
    "    pickle.dump(description, file)"
   ]
  },
  {
   "cell_type": "code",
   "execution_count": null,
   "id": "b031d146",
   "metadata": {},
   "outputs": [],
   "source": [
    "print(description)"
   ]
  },
  {
   "cell_type": "code",
   "execution_count": null,
   "id": "5cab20d5",
   "metadata": {},
   "outputs": [],
   "source": [
    "print(metadata)"
   ]
  },
  {
   "cell_type": "code",
   "execution_count": null,
   "id": "eec21cf5",
   "metadata": {},
   "outputs": [],
   "source": [
    "# Create a dataframe from metadata\n",
    "metadata_df = pd.DataFrame.from_dict(metadata)\n",
    "\n",
    "# list of row names in metadata_df\n",
    "row_names = list(metadata_df.index)\n",
    "\n",
    "# Creating a list of rows that we do not require to process this data set\n",
    "unneeded_rows = ['Consent', ' ', 'channel_count', 'organism_ch1', 'relation', 'status']\n",
    "for index in row_names:\n",
    "    if ('contact' in index) or ('date' in index) or ('data_processing' in index) or ('Hash' in index) or ('Date' in index) or ('library' in index):\n",
    "        unneeded_rows.append(index)"
   ]
  },
  {
   "cell_type": "code",
   "execution_count": null,
   "id": "7e1a317e",
   "metadata": {},
   "outputs": [],
   "source": [
    "metadata_df.drop(unneeded_rows, axis = 0)"
   ]
  },
  {
   "cell_type": "code",
   "execution_count": null,
   "id": "e02fd858",
   "metadata": {},
   "outputs": [],
   "source": [
    "metadata_df.loc['organism_ch1'].nunique()"
   ]
  },
  {
   "cell_type": "code",
   "execution_count": null,
   "id": "056e13b8",
   "metadata": {},
   "outputs": [],
   "source": [
    "print(count_matrix)"
   ]
  }
 ],
 "metadata": {
  "kernelspec": {
   "display_name": "Python 3 (ipykernel)",
   "language": "python",
   "name": "python3"
  },
  "language_info": {
   "codemirror_mode": {
    "name": "ipython",
    "version": 3
   },
   "file_extension": ".py",
   "mimetype": "text/x-python",
   "name": "python",
   "nbconvert_exporter": "python",
   "pygments_lexer": "ipython3",
   "version": "3.10.12"
  }
 },
 "nbformat": 4,
 "nbformat_minor": 5
}
