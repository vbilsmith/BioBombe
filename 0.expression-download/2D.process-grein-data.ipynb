{
 "cells": [
  {
   "cell_type": "markdown",
   "metadata": {},
   "source": [
    "# Process GREIN Human Data\n",
    "\n",
    "Retrieve the downloaded expression data, update gene identifiers to entrez, and curate sample IDs. The script will also identify a balanced hold-out test set to compare projection performance into learned latent spaces across algorithms."
   ]
  },
  {
   "cell_type": "code",
   "execution_count": 1,
   "metadata": {},
   "outputs": [],
   "source": [
    "import os\n",
    "import random\n",
    "import pandas as pd\n",
    "from sklearn.model_selection import train_test_split"
   ]
  },
  {
   "cell_type": "code",
   "execution_count": 2,
   "metadata": {},
   "outputs": [],
   "source": [
    "random.seed(1234)"
   ]
  },
  {
   "cell_type": "markdown",
   "metadata": {},
   "source": [
    "## Read Phenotype Information: skipping until phenotype data found"
   ]
  },
  {
   "cell_type": "code",
   "execution_count": 3,
   "metadata": {},
   "outputs": [],
   "source": [
    "# path = os.path.join('download', 'TARGET_phenotype.gz')\n",
    "# pheno_df = pd.read_table(path)\n",
    "\n",
    "# print(pheno_df.shape)\n",
    "# pheno_df.head(3)"
   ]
  },
  {
   "cell_type": "markdown",
   "metadata": {},
   "source": [
    "## Read Probe Mapping Info \n",
    "(where chromosomes start and end, saved in a file in downloads)"
   ]
  },
  {
   "cell_type": "code",
   "execution_count": null,
   "metadata": {},
   "outputs": [],
   "source": [
    "# path = os.path.join('download', 'gencode.v23.annotation.gene.probemap')\n",
    "# probe_map_df = pd.read_table(path)\n",
    "\n",
    "# # Inner merge gene df to get ensembl to entrez mapping\n",
    "# probe_map_df = probe_map_df.merge(gene_df, how='inner', left_on='gene', right_on='symbol')\n",
    "\n",
    "# # Mapping to rename gene expression index\n",
    "# ensembl_to_entrez = dict(zip(probe_map_df.id, probe_map_df.entrez_gene_id))\n",
    "\n",
    "# print(probe_map_df.shape)\n",
    "# probe_map_df.head(3)"
   ]
  },
  {
   "cell_type": "markdown",
   "metadata": {},
   "source": [
    "## Read Gene Expression Data"
   ]
  },
  {
   "cell_type": "code",
   "execution_count": 5,
   "metadata": {},
   "outputs": [
    {
     "name": "stdout",
     "output_type": "stream",
     "text": [
      "(27990, 389)\n"
     ]
    },
    {
     "data": {
      "text/html": [
       "<div>\n",
       "<style scoped>\n",
       "    .dataframe tbody tr th:only-of-type {\n",
       "        vertical-align: middle;\n",
       "    }\n",
       "\n",
       "    .dataframe tbody tr th {\n",
       "        vertical-align: top;\n",
       "    }\n",
       "\n",
       "    .dataframe thead th {\n",
       "        text-align: right;\n",
       "    }\n",
       "</style>\n",
       "<table border=\"1\" class=\"dataframe\">\n",
       "  <thead>\n",
       "    <tr style=\"text-align: right;\">\n",
       "      <th></th>\n",
       "      <th>gene</th>\n",
       "      <th>gene_symbol</th>\n",
       "      <th>GSM2667747</th>\n",
       "      <th>GSM2667748</th>\n",
       "      <th>GSM2667749</th>\n",
       "      <th>GSM2667750</th>\n",
       "      <th>GSM2667751</th>\n",
       "      <th>GSM2667752</th>\n",
       "      <th>GSM2667753</th>\n",
       "      <th>GSM2667754</th>\n",
       "      <th>...</th>\n",
       "      <th>GSM2677357_y</th>\n",
       "      <th>GSM2677358_y</th>\n",
       "      <th>GSM2677359_y</th>\n",
       "      <th>GSM2677360_y</th>\n",
       "      <th>GSM2677361_y</th>\n",
       "      <th>GSM2677362_y</th>\n",
       "      <th>GSM2677363_y</th>\n",
       "      <th>GSM2677364_y</th>\n",
       "      <th>GSM2677365_y</th>\n",
       "      <th>GSM2677366_y</th>\n",
       "    </tr>\n",
       "  </thead>\n",
       "  <tbody>\n",
       "    <tr>\n",
       "      <th>0</th>\n",
       "      <td>ENSG00000000003</td>\n",
       "      <td>TSPAN6</td>\n",
       "      <td>1766.0677</td>\n",
       "      <td>420.8206</td>\n",
       "      <td>300.8009</td>\n",
       "      <td>3142.8439</td>\n",
       "      <td>2207.8392</td>\n",
       "      <td>4367.5056</td>\n",
       "      <td>228.5759</td>\n",
       "      <td>650.3287</td>\n",
       "      <td>...</td>\n",
       "      <td>1746.5758</td>\n",
       "      <td>1976.5137</td>\n",
       "      <td>2638.7298</td>\n",
       "      <td>1729.9494</td>\n",
       "      <td>2379.3129</td>\n",
       "      <td>2268.7277</td>\n",
       "      <td>2562.7032</td>\n",
       "      <td>2698.5277</td>\n",
       "      <td>2250.7768</td>\n",
       "      <td>2217.6718</td>\n",
       "    </tr>\n",
       "    <tr>\n",
       "      <th>1</th>\n",
       "      <td>ENSG00000000005</td>\n",
       "      <td>TNMD</td>\n",
       "      <td>43.9280</td>\n",
       "      <td>18.0091</td>\n",
       "      <td>0.0000</td>\n",
       "      <td>115.8917</td>\n",
       "      <td>63.5936</td>\n",
       "      <td>39.7803</td>\n",
       "      <td>11.7588</td>\n",
       "      <td>1.0153</td>\n",
       "      <td>...</td>\n",
       "      <td>0.0000</td>\n",
       "      <td>0.0000</td>\n",
       "      <td>0.0000</td>\n",
       "      <td>0.0000</td>\n",
       "      <td>0.0000</td>\n",
       "      <td>0.9994</td>\n",
       "      <td>0.0000</td>\n",
       "      <td>0.0000</td>\n",
       "      <td>0.0000</td>\n",
       "      <td>0.0000</td>\n",
       "    </tr>\n",
       "    <tr>\n",
       "      <th>2</th>\n",
       "      <td>ENSG00000000419</td>\n",
       "      <td>DPM1</td>\n",
       "      <td>1097.7855</td>\n",
       "      <td>367.2333</td>\n",
       "      <td>316.5226</td>\n",
       "      <td>3895.0588</td>\n",
       "      <td>1536.1375</td>\n",
       "      <td>1084.5276</td>\n",
       "      <td>127.7205</td>\n",
       "      <td>245.1014</td>\n",
       "      <td>...</td>\n",
       "      <td>1364.0155</td>\n",
       "      <td>1370.6393</td>\n",
       "      <td>1062.8008</td>\n",
       "      <td>1309.8411</td>\n",
       "      <td>1817.3210</td>\n",
       "      <td>1230.3613</td>\n",
       "      <td>1113.5876</td>\n",
       "      <td>1330.7528</td>\n",
       "      <td>1347.0459</td>\n",
       "      <td>1366.5430</td>\n",
       "    </tr>\n",
       "    <tr>\n",
       "      <th>3</th>\n",
       "      <td>ENSG00000000457</td>\n",
       "      <td>SCYL3</td>\n",
       "      <td>601.4702</td>\n",
       "      <td>270.9239</td>\n",
       "      <td>163.6869</td>\n",
       "      <td>1177.2241</td>\n",
       "      <td>873.9074</td>\n",
       "      <td>845.1423</td>\n",
       "      <td>229.8548</td>\n",
       "      <td>134.4694</td>\n",
       "      <td>...</td>\n",
       "      <td>823.6380</td>\n",
       "      <td>845.0037</td>\n",
       "      <td>811.9292</td>\n",
       "      <td>775.9720</td>\n",
       "      <td>1017.1045</td>\n",
       "      <td>869.4791</td>\n",
       "      <td>740.8164</td>\n",
       "      <td>1028.2608</td>\n",
       "      <td>986.2346</td>\n",
       "      <td>926.6533</td>\n",
       "    </tr>\n",
       "  </tbody>\n",
       "</table>\n",
       "<p>4 rows × 389 columns</p>\n",
       "</div>"
      ],
      "text/plain": [
       "              gene gene_symbol  GSM2667747  GSM2667748  GSM2667749  \\\n",
       "0  ENSG00000000003      TSPAN6   1766.0677    420.8206    300.8009   \n",
       "1  ENSG00000000005        TNMD     43.9280     18.0091      0.0000   \n",
       "2  ENSG00000000419        DPM1   1097.7855    367.2333    316.5226   \n",
       "3  ENSG00000000457       SCYL3    601.4702    270.9239    163.6869   \n",
       "\n",
       "   GSM2667750  GSM2667751  GSM2667752  GSM2667753  GSM2667754  ...  \\\n",
       "0   3142.8439   2207.8392   4367.5056    228.5759    650.3287  ...   \n",
       "1    115.8917     63.5936     39.7803     11.7588      1.0153  ...   \n",
       "2   3895.0588   1536.1375   1084.5276    127.7205    245.1014  ...   \n",
       "3   1177.2241    873.9074    845.1423    229.8548    134.4694  ...   \n",
       "\n",
       "   GSM2677357_y  GSM2677358_y  GSM2677359_y  GSM2677360_y  GSM2677361_y  \\\n",
       "0     1746.5758     1976.5137     2638.7298     1729.9494     2379.3129   \n",
       "1        0.0000        0.0000        0.0000        0.0000        0.0000   \n",
       "2     1364.0155     1370.6393     1062.8008     1309.8411     1817.3210   \n",
       "3      823.6380      845.0037      811.9292      775.9720     1017.1045   \n",
       "\n",
       "   GSM2677362_y  GSM2677363_y  GSM2677364_y  GSM2677365_y  GSM2677366_y  \n",
       "0     2268.7277     2562.7032     2698.5277     2250.7768     2217.6718  \n",
       "1        0.9994        0.0000        0.0000        0.0000        0.0000  \n",
       "2     1230.3613     1113.5876     1330.7528     1347.0459     1366.5430  \n",
       "3      869.4791      740.8164     1028.2608      986.2346      926.6533  \n",
       "\n",
       "[4 rows x 389 columns]"
      ]
     },
     "execution_count": 5,
     "metadata": {},
     "output_type": "execute_result"
    }
   ],
   "source": [
    "file = os.path.join('download', 'grein_count_matrix_human.pkl')\n",
    "expr_df = pd.read_pickle(file)\n",
    "\n",
    "print(expr_df.shape)\n",
    "expr_df.head(4)"
   ]
  },
  {
   "cell_type": "markdown",
   "metadata": {},
   "source": [
    "## Process gene expression matrix\n",
    "\n",
    "This involves updating Entrez gene ids, sorting and subsetting"
   ]
  },
  {
   "cell_type": "code",
   "execution_count": 6,
   "metadata": {},
   "outputs": [
    {
     "name": "stdout",
     "output_type": "stream",
     "text": [
      "(27990, 389)\n"
     ]
    },
    {
     "data": {
      "text/html": [
       "<div>\n",
       "<style scoped>\n",
       "    .dataframe tbody tr th:only-of-type {\n",
       "        vertical-align: middle;\n",
       "    }\n",
       "\n",
       "    .dataframe tbody tr th {\n",
       "        vertical-align: top;\n",
       "    }\n",
       "\n",
       "    .dataframe thead th {\n",
       "        text-align: right;\n",
       "    }\n",
       "</style>\n",
       "<table border=\"1\" class=\"dataframe\">\n",
       "  <thead>\n",
       "    <tr style=\"text-align: right;\">\n",
       "      <th></th>\n",
       "      <th>gene</th>\n",
       "      <th>gene_symbol</th>\n",
       "      <th>GSM2667747</th>\n",
       "      <th>GSM2667748</th>\n",
       "      <th>GSM2667749</th>\n",
       "      <th>GSM2667750</th>\n",
       "      <th>GSM2667751</th>\n",
       "      <th>GSM2667752</th>\n",
       "      <th>GSM2667753</th>\n",
       "      <th>GSM2667754</th>\n",
       "      <th>...</th>\n",
       "      <th>GSM2677357_y</th>\n",
       "      <th>GSM2677358_y</th>\n",
       "      <th>GSM2677359_y</th>\n",
       "      <th>GSM2677360_y</th>\n",
       "      <th>GSM2677361_y</th>\n",
       "      <th>GSM2677362_y</th>\n",
       "      <th>GSM2677363_y</th>\n",
       "      <th>GSM2677364_y</th>\n",
       "      <th>GSM2677365_y</th>\n",
       "      <th>GSM2677366_y</th>\n",
       "    </tr>\n",
       "    <tr>\n",
       "      <th>sample_id</th>\n",
       "      <th></th>\n",
       "      <th></th>\n",
       "      <th></th>\n",
       "      <th></th>\n",
       "      <th></th>\n",
       "      <th></th>\n",
       "      <th></th>\n",
       "      <th></th>\n",
       "      <th></th>\n",
       "      <th></th>\n",
       "      <th></th>\n",
       "      <th></th>\n",
       "      <th></th>\n",
       "      <th></th>\n",
       "      <th></th>\n",
       "      <th></th>\n",
       "      <th></th>\n",
       "      <th></th>\n",
       "      <th></th>\n",
       "      <th></th>\n",
       "      <th></th>\n",
       "    </tr>\n",
       "  </thead>\n",
       "  <tbody>\n",
       "    <tr>\n",
       "      <th>0</th>\n",
       "      <td>ENSG00000000003</td>\n",
       "      <td>TSPAN6</td>\n",
       "      <td>1766.0677</td>\n",
       "      <td>420.8206</td>\n",
       "      <td>300.8009</td>\n",
       "      <td>3142.8439</td>\n",
       "      <td>2207.8392</td>\n",
       "      <td>4367.5056</td>\n",
       "      <td>228.5759</td>\n",
       "      <td>650.3287</td>\n",
       "      <td>...</td>\n",
       "      <td>1746.5758</td>\n",
       "      <td>1976.5137</td>\n",
       "      <td>2638.7298</td>\n",
       "      <td>1729.9494</td>\n",
       "      <td>2379.3129</td>\n",
       "      <td>2268.7277</td>\n",
       "      <td>2562.7032</td>\n",
       "      <td>2698.5277</td>\n",
       "      <td>2250.7768</td>\n",
       "      <td>2217.6718</td>\n",
       "    </tr>\n",
       "    <tr>\n",
       "      <th>1</th>\n",
       "      <td>ENSG00000000005</td>\n",
       "      <td>TNMD</td>\n",
       "      <td>43.9280</td>\n",
       "      <td>18.0091</td>\n",
       "      <td>0.0000</td>\n",
       "      <td>115.8917</td>\n",
       "      <td>63.5936</td>\n",
       "      <td>39.7803</td>\n",
       "      <td>11.7588</td>\n",
       "      <td>1.0153</td>\n",
       "      <td>...</td>\n",
       "      <td>0.0000</td>\n",
       "      <td>0.0000</td>\n",
       "      <td>0.0000</td>\n",
       "      <td>0.0000</td>\n",
       "      <td>0.0000</td>\n",
       "      <td>0.9994</td>\n",
       "      <td>0.0000</td>\n",
       "      <td>0.0000</td>\n",
       "      <td>0.0000</td>\n",
       "      <td>0.0000</td>\n",
       "    </tr>\n",
       "  </tbody>\n",
       "</table>\n",
       "<p>2 rows × 389 columns</p>\n",
       "</div>"
      ],
      "text/plain": [
       "                      gene gene_symbol  GSM2667747  GSM2667748  GSM2667749  \\\n",
       "sample_id                                                                    \n",
       "0          ENSG00000000003      TSPAN6   1766.0677    420.8206    300.8009   \n",
       "1          ENSG00000000005        TNMD     43.9280     18.0091      0.0000   \n",
       "\n",
       "           GSM2667750  GSM2667751  GSM2667752  GSM2667753  GSM2667754  ...  \\\n",
       "sample_id                                                              ...   \n",
       "0           3142.8439   2207.8392   4367.5056    228.5759    650.3287  ...   \n",
       "1            115.8917     63.5936     39.7803     11.7588      1.0153  ...   \n",
       "\n",
       "           GSM2677357_y  GSM2677358_y  GSM2677359_y  GSM2677360_y  \\\n",
       "sample_id                                                           \n",
       "0             1746.5758     1976.5137     2638.7298     1729.9494   \n",
       "1                0.0000        0.0000        0.0000        0.0000   \n",
       "\n",
       "           GSM2677361_y  GSM2677362_y  GSM2677363_y  GSM2677364_y  \\\n",
       "sample_id                                                           \n",
       "0             2379.3129     2268.7277     2562.7032     2698.5277   \n",
       "1                0.0000        0.9994        0.0000        0.0000   \n",
       "\n",
       "           GSM2677365_y  GSM2677366_y  \n",
       "sample_id                              \n",
       "0             2250.7768     2217.6718  \n",
       "1                0.0000        0.0000  \n",
       "\n",
       "[2 rows x 389 columns]"
      ]
     },
     "execution_count": 6,
     "metadata": {},
     "output_type": "execute_result"
    }
   ],
   "source": [
    "# expr_df = (expr_df\n",
    "#     .dropna(axis='rows')\n",
    "#     .reindex(probe_map_df.id)\n",
    "#     .rename(index=ensembl_to_entrez)\n",
    "#     .rename(index=old_to_new_entrez)\n",
    "#     .groupby(level=0).mean()\n",
    "#     .transpose()\n",
    "#     .sort_index(axis='rows')\n",
    "#     .sort_index(axis='columns')\n",
    "# )\n",
    "\n",
    "expr_df.index.rename('sample_id', inplace=True)\n",
    "\n",
    "print(expr_df.shape)\n",
    "expr_df.head(2)"
   ]
  },
  {
   "cell_type": "markdown",
   "metadata": {},
   "source": [
    "## Stratify Balanced Training and Testing Sets in TARGET Gene Expression\n",
    "\n",
    "Output training and testing gene expression datasets"
   ]
  },
  {
   "cell_type": "code",
   "execution_count": null,
   "metadata": {},
   "outputs": [],
   "source": [
    "#strat = pheno_df.set_index('sample_id').reindex(expr_df.index).primary_disease_code"
   ]
  },
  {
   "cell_type": "code",
   "execution_count": null,
   "metadata": {},
   "outputs": [],
   "source": [
    "# cancertype_count_df = (\n",
    "#     pd.DataFrame(strat.value_counts()) #not using value_counts, what number should we use here? \n",
    "#     .reset_index()\n",
    "#     .rename({'index': 'cancertype', 'primary_disease_code': 'n ='}, axis='columns')\n",
    "# )\n",
    "\n",
    "# file = os.path.join('data', 'target_sample_counts.tsv') #change which file - do we have a file that works for this?\n",
    "# cancertype_count_df.to_csv(file, sep='\\t', index=False)\n",
    "\n",
    "# cancertype_count_df"
   ]
  },
  {
   "cell_type": "code",
   "execution_count": 7,
   "metadata": {},
   "outputs": [],
   "source": [
    "train_df, test_df = train_test_split(expr_df,\n",
    "                                     test_size=0.1,\n",
    "                                     random_state=123) #if no stratify defined, should just randomize on its own"
   ]
  },
  {
   "cell_type": "code",
   "execution_count": 8,
   "metadata": {},
   "outputs": [
    {
     "name": "stdout",
     "output_type": "stream",
     "text": [
      "(25191, 389)\n"
     ]
    },
    {
     "data": {
      "text/plain": [
       "(2799, 389)"
      ]
     },
     "execution_count": 8,
     "metadata": {},
     "output_type": "execute_result"
    }
   ],
   "source": [
    "print(train_df.shape)\n",
    "test_df.shape"
   ]
  },
  {
   "cell_type": "code",
   "execution_count": 12,
   "metadata": {},
   "outputs": [],
   "source": [
    "#save train dataframe to file \n",
    "train_file = os.path.join('data', 'train_grein_human_processed.tsv.gz')\n",
    "train_df.to_csv(train_file, sep='\\t', compression='gzip', float_format='%.3g')"
   ]
  },
  {
   "cell_type": "code",
   "execution_count": 13,
   "metadata": {},
   "outputs": [],
   "source": [
    "#save test dataframe to file \n",
    "test_file = os.path.join('data', 'test_grein_human_processed.tsv.gz')\n",
    "test_df.to_csv(test_file, sep='\\t', compression='gzip', float_format='%.3g')"
   ]
  },
  {
   "cell_type": "markdown",
   "metadata": {},
   "source": [
    "## Sort genes based on median absolute deviation and output to file"
   ]
  },
  {
   "cell_type": "code",
   "execution_count": 15,
   "metadata": {},
   "outputs": [],
   "source": [
    "# Determine most variably expressed genes and subset\n",
    "train_df_mad = abs(train_df.drop(['gene', 'gene_symbol'], axis = 1) - train_df.drop(['gene', 'gene_symbol'], axis = 1).median()).median().reset_index()\n",
    "train_df_mad.columns = ['gene_id', 'median_abs_deviation']\n",
    "\n",
    "file = os.path.join('data', 'grein_mad_human_genes.tsv')\n",
    "train_df_mad.to_csv(file, sep='\\t', index=False)"
   ]
  },
  {
   "cell_type": "code",
   "execution_count": null,
   "metadata": {},
   "outputs": [],
   "source": []
  }
 ],
 "metadata": {
  "kernelspec": {
   "display_name": "Python 3 (ipykernel)",
   "language": "python",
   "name": "python3"
  },
  "language_info": {
   "codemirror_mode": {
    "name": "ipython",
    "version": 3
   },
   "file_extension": ".py",
   "mimetype": "text/x-python",
   "name": "python",
   "nbconvert_exporter": "python",
   "pygments_lexer": "ipython3",
   "version": "3.12.4"
  }
 },
 "nbformat": 4,
 "nbformat_minor": 4
}
