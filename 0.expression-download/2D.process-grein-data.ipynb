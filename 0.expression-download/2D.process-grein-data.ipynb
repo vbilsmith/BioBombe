{
 "cells": [
  {
   "cell_type": "markdown",
   "metadata": {},
   "source": [
    "# Process TARGET PanCancer Data\n",
    "\n",
    "Retrieve the downloaded expression data, update gene identifiers to entrez, and curate sample IDs. The script will also identify a balanced hold-out test set to compare projection performance into learned latent spaces across algorithms."
   ]
  },
  {
   "cell_type": "code",
   "execution_count": 1,
   "metadata": {},
   "outputs": [],
   "source": [
    "import os\n",
    "import random\n",
    "import pandas as pd\n",
    "from sklearn.model_selection import train_test_split"
   ]
  },
  {
   "cell_type": "code",
   "execution_count": 2,
   "metadata": {},
   "outputs": [],
   "source": [
    "random.seed(1234)"
   ]
  },
  {
   "cell_type": "markdown",
   "metadata": {},
   "source": [
    "## Read Phenotype Information: skipping until phenotype data found"
   ]
  },
  {
   "cell_type": "code",
   "execution_count": null,
   "metadata": {},
   "outputs": [],
   "source": [
    "# path = os.path.join('download', 'TARGET_phenotype.gz')\n",
    "# pheno_df = pd.read_table(path)\n",
    "\n",
    "# print(pheno_df.shape)\n",
    "# pheno_df.head(3)"
   ]
  },
  {
   "cell_type": "markdown",
   "metadata": {},
   "source": [
    "## Read Probe Mapping Info \n",
    "(where chromosomes start and end, saved in a file in downloads)"
   ]
  },
  {
   "cell_type": "code",
   "execution_count": null,
   "metadata": {},
   "outputs": [],
   "source": [
    "# path = os.path.join('download', 'gencode.v23.annotation.gene.probemap')\n",
    "# probe_map_df = pd.read_table(path)\n",
    "\n",
    "# # Inner merge gene df to get ensembl to entrez mapping\n",
    "# probe_map_df = probe_map_df.merge(gene_df, how='inner', left_on='gene', right_on='symbol')\n",
    "\n",
    "# # Mapping to rename gene expression index\n",
    "# ensembl_to_entrez = dict(zip(probe_map_df.id, probe_map_df.entrez_gene_id))\n",
    "\n",
    "# print(probe_map_df.shape)\n",
    "# probe_map_df.head(3)"
   ]
  },
  {
   "cell_type": "markdown",
   "metadata": {},
   "source": [
    "## Read Gene Expression Data"
   ]
  },
  {
   "cell_type": "code",
   "execution_count": 3,
   "metadata": {},
   "outputs": [
    {
     "name": "stdout",
     "output_type": "stream",
     "text": [
      "(27990, 1635)\n"
     ]
    },
    {
     "data": {
      "text/html": [
       "<div>\n",
       "<style scoped>\n",
       "    .dataframe tbody tr th:only-of-type {\n",
       "        vertical-align: middle;\n",
       "    }\n",
       "\n",
       "    .dataframe tbody tr th {\n",
       "        vertical-align: top;\n",
       "    }\n",
       "\n",
       "    .dataframe thead th {\n",
       "        text-align: right;\n",
       "    }\n",
       "</style>\n",
       "<table border=\"1\" class=\"dataframe\">\n",
       "  <thead>\n",
       "    <tr style=\"text-align: right;\">\n",
       "      <th></th>\n",
       "      <th>gene</th>\n",
       "      <th>gene_symbol</th>\n",
       "      <th>GSM2667747_x</th>\n",
       "      <th>GSM2667748_x</th>\n",
       "      <th>GSM2667749_x</th>\n",
       "      <th>GSM2667750_x</th>\n",
       "      <th>GSM2667751_x</th>\n",
       "      <th>GSM2667752_x</th>\n",
       "      <th>GSM2667753_x</th>\n",
       "      <th>GSM2667754_x</th>\n",
       "      <th>...</th>\n",
       "      <th>GSM2701937</th>\n",
       "      <th>GSM2701938</th>\n",
       "      <th>GSM2701939</th>\n",
       "      <th>GSM2701940</th>\n",
       "      <th>GSM2701941</th>\n",
       "      <th>GSM2701942</th>\n",
       "      <th>GSM2701943</th>\n",
       "      <th>GSM2701944</th>\n",
       "      <th>GSM2701945</th>\n",
       "      <th>GSM2701946</th>\n",
       "    </tr>\n",
       "  </thead>\n",
       "  <tbody>\n",
       "    <tr>\n",
       "      <th>0</th>\n",
       "      <td>ENSG00000000003</td>\n",
       "      <td>TSPAN6</td>\n",
       "      <td>1766.0677</td>\n",
       "      <td>420.8206</td>\n",
       "      <td>300.8009</td>\n",
       "      <td>3142.8439</td>\n",
       "      <td>2207.8392</td>\n",
       "      <td>4367.5056</td>\n",
       "      <td>228.5759</td>\n",
       "      <td>650.3287</td>\n",
       "      <td>...</td>\n",
       "      <td>17.4324</td>\n",
       "      <td>13.7006</td>\n",
       "      <td>9.8935</td>\n",
       "      <td>11.9023</td>\n",
       "      <td>11.3564</td>\n",
       "      <td>8.9213</td>\n",
       "      <td>16.4894</td>\n",
       "      <td>13.9479</td>\n",
       "      <td>16.8066</td>\n",
       "      <td>7.7069</td>\n",
       "    </tr>\n",
       "    <tr>\n",
       "      <th>1</th>\n",
       "      <td>ENSG00000000005</td>\n",
       "      <td>TNMD</td>\n",
       "      <td>43.9280</td>\n",
       "      <td>18.0091</td>\n",
       "      <td>0.0000</td>\n",
       "      <td>115.8917</td>\n",
       "      <td>63.5936</td>\n",
       "      <td>39.7803</td>\n",
       "      <td>11.7588</td>\n",
       "      <td>1.0153</td>\n",
       "      <td>...</td>\n",
       "      <td>2.0000</td>\n",
       "      <td>2.0443</td>\n",
       "      <td>1.0000</td>\n",
       "      <td>5.5140</td>\n",
       "      <td>7.6165</td>\n",
       "      <td>6.6037</td>\n",
       "      <td>3.0000</td>\n",
       "      <td>7.0000</td>\n",
       "      <td>4.5765</td>\n",
       "      <td>1.0551</td>\n",
       "    </tr>\n",
       "    <tr>\n",
       "      <th>2</th>\n",
       "      <td>ENSG00000000419</td>\n",
       "      <td>DPM1</td>\n",
       "      <td>1097.7855</td>\n",
       "      <td>367.2333</td>\n",
       "      <td>316.5226</td>\n",
       "      <td>3895.0588</td>\n",
       "      <td>1536.1375</td>\n",
       "      <td>1084.5276</td>\n",
       "      <td>127.7205</td>\n",
       "      <td>245.1014</td>\n",
       "      <td>...</td>\n",
       "      <td>165.9822</td>\n",
       "      <td>217.9993</td>\n",
       "      <td>114.9995</td>\n",
       "      <td>307.4970</td>\n",
       "      <td>272.9994</td>\n",
       "      <td>301.4232</td>\n",
       "      <td>211.9566</td>\n",
       "      <td>227.9990</td>\n",
       "      <td>264.4285</td>\n",
       "      <td>256.9996</td>\n",
       "    </tr>\n",
       "    <tr>\n",
       "      <th>3</th>\n",
       "      <td>ENSG00000000457</td>\n",
       "      <td>SCYL3</td>\n",
       "      <td>601.4702</td>\n",
       "      <td>270.9239</td>\n",
       "      <td>163.6869</td>\n",
       "      <td>1177.2241</td>\n",
       "      <td>873.9074</td>\n",
       "      <td>845.1423</td>\n",
       "      <td>229.8548</td>\n",
       "      <td>134.4694</td>\n",
       "      <td>...</td>\n",
       "      <td>96.6508</td>\n",
       "      <td>84.5137</td>\n",
       "      <td>70.8997</td>\n",
       "      <td>99.7864</td>\n",
       "      <td>145.2329</td>\n",
       "      <td>122.9726</td>\n",
       "      <td>81.5081</td>\n",
       "      <td>79.0215</td>\n",
       "      <td>99.9146</td>\n",
       "      <td>77.1152</td>\n",
       "    </tr>\n",
       "  </tbody>\n",
       "</table>\n",
       "<p>4 rows × 1635 columns</p>\n",
       "</div>"
      ],
      "text/plain": [
       "              gene gene_symbol  GSM2667747_x  GSM2667748_x  GSM2667749_x  \\\n",
       "0  ENSG00000000003      TSPAN6     1766.0677      420.8206      300.8009   \n",
       "1  ENSG00000000005        TNMD       43.9280       18.0091        0.0000   \n",
       "2  ENSG00000000419        DPM1     1097.7855      367.2333      316.5226   \n",
       "3  ENSG00000000457       SCYL3      601.4702      270.9239      163.6869   \n",
       "\n",
       "   GSM2667750_x  GSM2667751_x  GSM2667752_x  GSM2667753_x  GSM2667754_x  ...  \\\n",
       "0     3142.8439     2207.8392     4367.5056      228.5759      650.3287  ...   \n",
       "1      115.8917       63.5936       39.7803       11.7588        1.0153  ...   \n",
       "2     3895.0588     1536.1375     1084.5276      127.7205      245.1014  ...   \n",
       "3     1177.2241      873.9074      845.1423      229.8548      134.4694  ...   \n",
       "\n",
       "   GSM2701937  GSM2701938  GSM2701939  GSM2701940  GSM2701941  GSM2701942  \\\n",
       "0     17.4324     13.7006      9.8935     11.9023     11.3564      8.9213   \n",
       "1      2.0000      2.0443      1.0000      5.5140      7.6165      6.6037   \n",
       "2    165.9822    217.9993    114.9995    307.4970    272.9994    301.4232   \n",
       "3     96.6508     84.5137     70.8997     99.7864    145.2329    122.9726   \n",
       "\n",
       "   GSM2701943  GSM2701944  GSM2701945  GSM2701946  \n",
       "0     16.4894     13.9479     16.8066      7.7069  \n",
       "1      3.0000      7.0000      4.5765      1.0551  \n",
       "2    211.9566    227.9990    264.4285    256.9996  \n",
       "3     81.5081     79.0215     99.9146     77.1152  \n",
       "\n",
       "[4 rows x 1635 columns]"
      ]
     },
     "execution_count": 3,
     "metadata": {},
     "output_type": "execute_result"
    }
   ],
   "source": [
    "file = os.path.join('download', 'grein_count_matrix_human.pkl')\n",
    "expr_df = pd.read_pickle(file)\n",
    "\n",
    "print(expr_df.shape)\n",
    "expr_df.head(4)"
   ]
  },
  {
   "cell_type": "markdown",
   "metadata": {},
   "source": [
    "## Process gene expression matrix\n",
    "\n",
    "This involves updating Entrez gene ids, sorting and subsetting"
   ]
  },
  {
   "cell_type": "code",
   "execution_count": 4,
   "metadata": {},
   "outputs": [
    {
     "name": "stdout",
     "output_type": "stream",
     "text": [
      "(27990, 1635)\n"
     ]
    },
    {
     "data": {
      "text/html": [
       "<div>\n",
       "<style scoped>\n",
       "    .dataframe tbody tr th:only-of-type {\n",
       "        vertical-align: middle;\n",
       "    }\n",
       "\n",
       "    .dataframe tbody tr th {\n",
       "        vertical-align: top;\n",
       "    }\n",
       "\n",
       "    .dataframe thead th {\n",
       "        text-align: right;\n",
       "    }\n",
       "</style>\n",
       "<table border=\"1\" class=\"dataframe\">\n",
       "  <thead>\n",
       "    <tr style=\"text-align: right;\">\n",
       "      <th></th>\n",
       "      <th>gene</th>\n",
       "      <th>gene_symbol</th>\n",
       "      <th>GSM2667747_x</th>\n",
       "      <th>GSM2667748_x</th>\n",
       "      <th>GSM2667749_x</th>\n",
       "      <th>GSM2667750_x</th>\n",
       "      <th>GSM2667751_x</th>\n",
       "      <th>GSM2667752_x</th>\n",
       "      <th>GSM2667753_x</th>\n",
       "      <th>GSM2667754_x</th>\n",
       "      <th>...</th>\n",
       "      <th>GSM2701937</th>\n",
       "      <th>GSM2701938</th>\n",
       "      <th>GSM2701939</th>\n",
       "      <th>GSM2701940</th>\n",
       "      <th>GSM2701941</th>\n",
       "      <th>GSM2701942</th>\n",
       "      <th>GSM2701943</th>\n",
       "      <th>GSM2701944</th>\n",
       "      <th>GSM2701945</th>\n",
       "      <th>GSM2701946</th>\n",
       "    </tr>\n",
       "    <tr>\n",
       "      <th>sample_id</th>\n",
       "      <th></th>\n",
       "      <th></th>\n",
       "      <th></th>\n",
       "      <th></th>\n",
       "      <th></th>\n",
       "      <th></th>\n",
       "      <th></th>\n",
       "      <th></th>\n",
       "      <th></th>\n",
       "      <th></th>\n",
       "      <th></th>\n",
       "      <th></th>\n",
       "      <th></th>\n",
       "      <th></th>\n",
       "      <th></th>\n",
       "      <th></th>\n",
       "      <th></th>\n",
       "      <th></th>\n",
       "      <th></th>\n",
       "      <th></th>\n",
       "      <th></th>\n",
       "    </tr>\n",
       "  </thead>\n",
       "  <tbody>\n",
       "    <tr>\n",
       "      <th>0</th>\n",
       "      <td>ENSG00000000003</td>\n",
       "      <td>TSPAN6</td>\n",
       "      <td>1766.0677</td>\n",
       "      <td>420.8206</td>\n",
       "      <td>300.8009</td>\n",
       "      <td>3142.8439</td>\n",
       "      <td>2207.8392</td>\n",
       "      <td>4367.5056</td>\n",
       "      <td>228.5759</td>\n",
       "      <td>650.3287</td>\n",
       "      <td>...</td>\n",
       "      <td>17.4324</td>\n",
       "      <td>13.7006</td>\n",
       "      <td>9.8935</td>\n",
       "      <td>11.9023</td>\n",
       "      <td>11.3564</td>\n",
       "      <td>8.9213</td>\n",
       "      <td>16.4894</td>\n",
       "      <td>13.9479</td>\n",
       "      <td>16.8066</td>\n",
       "      <td>7.7069</td>\n",
       "    </tr>\n",
       "    <tr>\n",
       "      <th>1</th>\n",
       "      <td>ENSG00000000005</td>\n",
       "      <td>TNMD</td>\n",
       "      <td>43.9280</td>\n",
       "      <td>18.0091</td>\n",
       "      <td>0.0000</td>\n",
       "      <td>115.8917</td>\n",
       "      <td>63.5936</td>\n",
       "      <td>39.7803</td>\n",
       "      <td>11.7588</td>\n",
       "      <td>1.0153</td>\n",
       "      <td>...</td>\n",
       "      <td>2.0000</td>\n",
       "      <td>2.0443</td>\n",
       "      <td>1.0000</td>\n",
       "      <td>5.5140</td>\n",
       "      <td>7.6165</td>\n",
       "      <td>6.6037</td>\n",
       "      <td>3.0000</td>\n",
       "      <td>7.0000</td>\n",
       "      <td>4.5765</td>\n",
       "      <td>1.0551</td>\n",
       "    </tr>\n",
       "  </tbody>\n",
       "</table>\n",
       "<p>2 rows × 1635 columns</p>\n",
       "</div>"
      ],
      "text/plain": [
       "                      gene gene_symbol  GSM2667747_x  GSM2667748_x  \\\n",
       "sample_id                                                            \n",
       "0          ENSG00000000003      TSPAN6     1766.0677      420.8206   \n",
       "1          ENSG00000000005        TNMD       43.9280       18.0091   \n",
       "\n",
       "           GSM2667749_x  GSM2667750_x  GSM2667751_x  GSM2667752_x  \\\n",
       "sample_id                                                           \n",
       "0              300.8009     3142.8439     2207.8392     4367.5056   \n",
       "1                0.0000      115.8917       63.5936       39.7803   \n",
       "\n",
       "           GSM2667753_x  GSM2667754_x  ...  GSM2701937  GSM2701938  \\\n",
       "sample_id                              ...                           \n",
       "0              228.5759      650.3287  ...     17.4324     13.7006   \n",
       "1               11.7588        1.0153  ...      2.0000      2.0443   \n",
       "\n",
       "           GSM2701939  GSM2701940  GSM2701941  GSM2701942  GSM2701943  \\\n",
       "sample_id                                                               \n",
       "0              9.8935     11.9023     11.3564      8.9213     16.4894   \n",
       "1              1.0000      5.5140      7.6165      6.6037      3.0000   \n",
       "\n",
       "           GSM2701944  GSM2701945  GSM2701946  \n",
       "sample_id                                      \n",
       "0             13.9479     16.8066      7.7069  \n",
       "1              7.0000      4.5765      1.0551  \n",
       "\n",
       "[2 rows x 1635 columns]"
      ]
     },
     "execution_count": 4,
     "metadata": {},
     "output_type": "execute_result"
    }
   ],
   "source": [
    "# expr_df = (expr_df\n",
    "#     .dropna(axis='rows')\n",
    "#     .reindex(probe_map_df.id)\n",
    "#     .rename(index=ensembl_to_entrez)\n",
    "#     .rename(index=old_to_new_entrez)\n",
    "#     .groupby(level=0).mean()\n",
    "#     .transpose()\n",
    "#     .sort_index(axis='rows')\n",
    "#     .sort_index(axis='columns')\n",
    "# )\n",
    "\n",
    "expr_df.index.rename('sample_id', inplace=True)\n",
    "\n",
    "print(expr_df.shape)\n",
    "expr_df.head(2)"
   ]
  },
  {
   "cell_type": "markdown",
   "metadata": {},
   "source": [
    "## Stratify Balanced Training and Testing Sets in TARGET Gene Expression\n",
    "\n",
    "Output training and testing gene expression datasets"
   ]
  },
  {
   "cell_type": "code",
   "execution_count": null,
   "metadata": {},
   "outputs": [],
   "source": [
    "#strat = pheno_df.set_index('sample_id').reindex(expr_df.index).primary_disease_code"
   ]
  },
  {
   "cell_type": "code",
   "execution_count": null,
   "metadata": {},
   "outputs": [],
   "source": [
    "# cancertype_count_df = (\n",
    "#     pd.DataFrame(strat.value_counts()) #not using value_counts, what number should we use here? \n",
    "#     .reset_index()\n",
    "#     .rename({'index': 'cancertype', 'primary_disease_code': 'n ='}, axis='columns')\n",
    "# )\n",
    "\n",
    "# file = os.path.join('data', 'target_sample_counts.tsv') #change which file - do we have a file that works for this?\n",
    "# cancertype_count_df.to_csv(file, sep='\\t', index=False)\n",
    "\n",
    "# cancertype_count_df"
   ]
  },
  {
   "cell_type": "code",
   "execution_count": 5,
   "metadata": {},
   "outputs": [],
   "source": [
    "train_df, test_df = train_test_split(expr_df,\n",
    "                                     test_size=0.1,\n",
    "                                     random_state=123) #if no stratify defined, should just randomize on its own"
   ]
  },
  {
   "cell_type": "code",
   "execution_count": 6,
   "metadata": {},
   "outputs": [
    {
     "name": "stdout",
     "output_type": "stream",
     "text": [
      "(25191, 1635)\n"
     ]
    },
    {
     "data": {
      "text/plain": [
       "(2799, 1635)"
      ]
     },
     "execution_count": 6,
     "metadata": {},
     "output_type": "execute_result"
    }
   ],
   "source": [
    "print(train_df.shape)\n",
    "test_df.shape"
   ]
  },
  {
   "cell_type": "code",
   "execution_count": 7,
   "metadata": {},
   "outputs": [],
   "source": [
    "#save train dataframe to file \n",
    "train_file = os.path.join('data', 'train_grein_processed.tsv.gz')\n",
    "train_df.to_csv(train_file, sep='\\t', compression='gzip', float_format='%.3g')"
   ]
  },
  {
   "cell_type": "code",
   "execution_count": 8,
   "metadata": {},
   "outputs": [],
   "source": [
    "#save test dataframe to file \n",
    "test_file = os.path.join('data', 'test_grein_processed.tsv.gz')\n",
    "test_df.to_csv(test_file, sep='\\t', compression='gzip', float_format='%.3g')"
   ]
  },
  {
   "cell_type": "markdown",
   "metadata": {},
   "source": [
    "## Sort genes based on median absolute deviation and output to file"
   ]
  },
  {
   "cell_type": "code",
   "execution_count": 15,
   "metadata": {},
   "outputs": [],
   "source": [
    "# Determine most variably expressed genes and subset\n",
    "train_df_mad = abs(train_df.drop(['gene', 'gene_symbol'], axis = 1) - train_df.drop(['gene', 'gene_symbol'], axis = 1).median()).median().reset_index()\n",
    "train_df_mad.columns = ['gene_id', 'median_abs_deviation']\n",
    "\n",
    "file = os.path.join('data', 'grein_mad_genes.tsv')\n",
    "train_df_mad.to_csv(file, sep='\\t', index=False)"
   ]
  }
 ],
 "metadata": {
  "kernelspec": {
   "display_name": "Python 3 (ipykernel)",
   "language": "python",
   "name": "python3"
  },
  "language_info": {
   "codemirror_mode": {
    "name": "ipython",
    "version": 3
   },
   "file_extension": ".py",
   "mimetype": "text/x-python",
   "name": "python",
   "nbconvert_exporter": "python",
   "pygments_lexer": "ipython3",
   "version": "3.12.4"
  }
 },
 "nbformat": 4,
 "nbformat_minor": 4
}
