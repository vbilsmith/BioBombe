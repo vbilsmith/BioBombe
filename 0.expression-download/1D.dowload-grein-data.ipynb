{
 "cells": [
  {
   "cell_type": "code",
   "execution_count": 12,
   "id": "6067bdcc",
   "metadata": {
    "ExecuteTime": {
     "end_time": "2024-07-08T17:43:23.184640Z",
     "start_time": "2024-07-08T17:43:22.996866Z"
    }
   },
   "outputs": [
    {
     "name": "stdout",
     "output_type": "stream",
     "text": [
      "/Users/hrando/Dropbox/Smith/Research/Construct-Validity/BioBombe/0.expression-download\r\n"
     ]
    }
   ],
   "source": [
    "# To install the grein_loader package\n",
    "#!pip install grein_loader\n",
    "!pwd"
   ]
  },
  {
   "cell_type": "code",
   "execution_count": 28,
   "id": "331a0f21",
   "metadata": {
    "ExecuteTime": {
     "end_time": "2024-07-08T20:55:03.147684Z",
     "start_time": "2024-07-08T20:55:03.110338Z"
    }
   },
   "outputs": [],
   "source": [
    "import grein_loader as loader\n",
    "import pandas as pd\n",
    "import os"
   ]
  },
  {
   "cell_type": "code",
   "execution_count": 29,
   "outputs": [],
   "source": [
    "# Load log file from disk to see if this data has already been added\n",
    "def load_log():\n",
    "    log = pd.read_csv(\"greinLoad.log\", names=[\"GSE\", \"status\"])\n",
    "    log = log[log[\"status\"] == \"end\"]\n",
    "    return set(log[\"GSE\"].unique())"
   ],
   "metadata": {
    "collapsed": false,
    "ExecuteTime": {
     "end_time": "2024-07-08T20:55:03.754179Z",
     "start_time": "2024-07-08T20:55:03.751498Z"
    }
   },
   "id": "269899538ef2705f"
  },
  {
   "cell_type": "code",
   "execution_count": 30,
   "outputs": [
    {
     "ename": "FileNotFoundError",
     "evalue": "[Errno 2] No such file or directory: 'greinLoad.log'",
     "output_type": "error",
     "traceback": [
      "\u001B[0;31m---------------------------------------------------------------------------\u001B[0m",
      "\u001B[0;31mFileNotFoundError\u001B[0m                         Traceback (most recent call last)",
      "Cell \u001B[0;32mIn[30], line 1\u001B[0m\n\u001B[0;32m----> 1\u001B[0m \u001B[38;5;28mprint\u001B[39m(load_log())\n",
      "Cell \u001B[0;32mIn[29], line 3\u001B[0m, in \u001B[0;36mload_log\u001B[0;34m()\u001B[0m\n\u001B[1;32m      2\u001B[0m \u001B[38;5;28;01mdef\u001B[39;00m \u001B[38;5;21mload_log\u001B[39m():\n\u001B[0;32m----> 3\u001B[0m     log \u001B[38;5;241m=\u001B[39m pd\u001B[38;5;241m.\u001B[39mread_csv(\u001B[38;5;124m\"\u001B[39m\u001B[38;5;124mgreinLoad.log\u001B[39m\u001B[38;5;124m\"\u001B[39m, names\u001B[38;5;241m=\u001B[39m[\u001B[38;5;124m\"\u001B[39m\u001B[38;5;124mGSE\u001B[39m\u001B[38;5;124m\"\u001B[39m, \u001B[38;5;124m\"\u001B[39m\u001B[38;5;124mstatus\u001B[39m\u001B[38;5;124m\"\u001B[39m])\n\u001B[1;32m      4\u001B[0m     log \u001B[38;5;241m=\u001B[39m log[log[\u001B[38;5;124m\"\u001B[39m\u001B[38;5;124mstatus\u001B[39m\u001B[38;5;124m\"\u001B[39m] \u001B[38;5;241m==\u001B[39m \u001B[38;5;124m\"\u001B[39m\u001B[38;5;124mend\u001B[39m\u001B[38;5;124m\"\u001B[39m]\n\u001B[1;32m      5\u001B[0m     \u001B[38;5;28;01mreturn\u001B[39;00m \u001B[38;5;28mset\u001B[39m(log[\u001B[38;5;124m\"\u001B[39m\u001B[38;5;124mGSE\u001B[39m\u001B[38;5;124m\"\u001B[39m]\u001B[38;5;241m.\u001B[39munique())\n",
      "File \u001B[0;32m~/anaconda3/lib/python3.11/site-packages/pandas/io/parsers/readers.py:912\u001B[0m, in \u001B[0;36mread_csv\u001B[0;34m(filepath_or_buffer, sep, delimiter, header, names, index_col, usecols, dtype, engine, converters, true_values, false_values, skipinitialspace, skiprows, skipfooter, nrows, na_values, keep_default_na, na_filter, verbose, skip_blank_lines, parse_dates, infer_datetime_format, keep_date_col, date_parser, date_format, dayfirst, cache_dates, iterator, chunksize, compression, thousands, decimal, lineterminator, quotechar, quoting, doublequote, escapechar, comment, encoding, encoding_errors, dialect, on_bad_lines, delim_whitespace, low_memory, memory_map, float_precision, storage_options, dtype_backend)\u001B[0m\n\u001B[1;32m    899\u001B[0m kwds_defaults \u001B[38;5;241m=\u001B[39m _refine_defaults_read(\n\u001B[1;32m    900\u001B[0m     dialect,\n\u001B[1;32m    901\u001B[0m     delimiter,\n\u001B[0;32m   (...)\u001B[0m\n\u001B[1;32m    908\u001B[0m     dtype_backend\u001B[38;5;241m=\u001B[39mdtype_backend,\n\u001B[1;32m    909\u001B[0m )\n\u001B[1;32m    910\u001B[0m kwds\u001B[38;5;241m.\u001B[39mupdate(kwds_defaults)\n\u001B[0;32m--> 912\u001B[0m \u001B[38;5;28;01mreturn\u001B[39;00m _read(filepath_or_buffer, kwds)\n",
      "File \u001B[0;32m~/anaconda3/lib/python3.11/site-packages/pandas/io/parsers/readers.py:577\u001B[0m, in \u001B[0;36m_read\u001B[0;34m(filepath_or_buffer, kwds)\u001B[0m\n\u001B[1;32m    574\u001B[0m _validate_names(kwds\u001B[38;5;241m.\u001B[39mget(\u001B[38;5;124m\"\u001B[39m\u001B[38;5;124mnames\u001B[39m\u001B[38;5;124m\"\u001B[39m, \u001B[38;5;28;01mNone\u001B[39;00m))\n\u001B[1;32m    576\u001B[0m \u001B[38;5;66;03m# Create the parser.\u001B[39;00m\n\u001B[0;32m--> 577\u001B[0m parser \u001B[38;5;241m=\u001B[39m TextFileReader(filepath_or_buffer, \u001B[38;5;241m*\u001B[39m\u001B[38;5;241m*\u001B[39mkwds)\n\u001B[1;32m    579\u001B[0m \u001B[38;5;28;01mif\u001B[39;00m chunksize \u001B[38;5;129;01mor\u001B[39;00m iterator:\n\u001B[1;32m    580\u001B[0m     \u001B[38;5;28;01mreturn\u001B[39;00m parser\n",
      "File \u001B[0;32m~/anaconda3/lib/python3.11/site-packages/pandas/io/parsers/readers.py:1407\u001B[0m, in \u001B[0;36mTextFileReader.__init__\u001B[0;34m(self, f, engine, **kwds)\u001B[0m\n\u001B[1;32m   1404\u001B[0m     \u001B[38;5;28mself\u001B[39m\u001B[38;5;241m.\u001B[39moptions[\u001B[38;5;124m\"\u001B[39m\u001B[38;5;124mhas_index_names\u001B[39m\u001B[38;5;124m\"\u001B[39m] \u001B[38;5;241m=\u001B[39m kwds[\u001B[38;5;124m\"\u001B[39m\u001B[38;5;124mhas_index_names\u001B[39m\u001B[38;5;124m\"\u001B[39m]\n\u001B[1;32m   1406\u001B[0m \u001B[38;5;28mself\u001B[39m\u001B[38;5;241m.\u001B[39mhandles: IOHandles \u001B[38;5;241m|\u001B[39m \u001B[38;5;28;01mNone\u001B[39;00m \u001B[38;5;241m=\u001B[39m \u001B[38;5;28;01mNone\u001B[39;00m\n\u001B[0;32m-> 1407\u001B[0m \u001B[38;5;28mself\u001B[39m\u001B[38;5;241m.\u001B[39m_engine \u001B[38;5;241m=\u001B[39m \u001B[38;5;28mself\u001B[39m\u001B[38;5;241m.\u001B[39m_make_engine(f, \u001B[38;5;28mself\u001B[39m\u001B[38;5;241m.\u001B[39mengine)\n",
      "File \u001B[0;32m~/anaconda3/lib/python3.11/site-packages/pandas/io/parsers/readers.py:1661\u001B[0m, in \u001B[0;36mTextFileReader._make_engine\u001B[0;34m(self, f, engine)\u001B[0m\n\u001B[1;32m   1659\u001B[0m     \u001B[38;5;28;01mif\u001B[39;00m \u001B[38;5;124m\"\u001B[39m\u001B[38;5;124mb\u001B[39m\u001B[38;5;124m\"\u001B[39m \u001B[38;5;129;01mnot\u001B[39;00m \u001B[38;5;129;01min\u001B[39;00m mode:\n\u001B[1;32m   1660\u001B[0m         mode \u001B[38;5;241m+\u001B[39m\u001B[38;5;241m=\u001B[39m \u001B[38;5;124m\"\u001B[39m\u001B[38;5;124mb\u001B[39m\u001B[38;5;124m\"\u001B[39m\n\u001B[0;32m-> 1661\u001B[0m \u001B[38;5;28mself\u001B[39m\u001B[38;5;241m.\u001B[39mhandles \u001B[38;5;241m=\u001B[39m get_handle(\n\u001B[1;32m   1662\u001B[0m     f,\n\u001B[1;32m   1663\u001B[0m     mode,\n\u001B[1;32m   1664\u001B[0m     encoding\u001B[38;5;241m=\u001B[39m\u001B[38;5;28mself\u001B[39m\u001B[38;5;241m.\u001B[39moptions\u001B[38;5;241m.\u001B[39mget(\u001B[38;5;124m\"\u001B[39m\u001B[38;5;124mencoding\u001B[39m\u001B[38;5;124m\"\u001B[39m, \u001B[38;5;28;01mNone\u001B[39;00m),\n\u001B[1;32m   1665\u001B[0m     compression\u001B[38;5;241m=\u001B[39m\u001B[38;5;28mself\u001B[39m\u001B[38;5;241m.\u001B[39moptions\u001B[38;5;241m.\u001B[39mget(\u001B[38;5;124m\"\u001B[39m\u001B[38;5;124mcompression\u001B[39m\u001B[38;5;124m\"\u001B[39m, \u001B[38;5;28;01mNone\u001B[39;00m),\n\u001B[1;32m   1666\u001B[0m     memory_map\u001B[38;5;241m=\u001B[39m\u001B[38;5;28mself\u001B[39m\u001B[38;5;241m.\u001B[39moptions\u001B[38;5;241m.\u001B[39mget(\u001B[38;5;124m\"\u001B[39m\u001B[38;5;124mmemory_map\u001B[39m\u001B[38;5;124m\"\u001B[39m, \u001B[38;5;28;01mFalse\u001B[39;00m),\n\u001B[1;32m   1667\u001B[0m     is_text\u001B[38;5;241m=\u001B[39mis_text,\n\u001B[1;32m   1668\u001B[0m     errors\u001B[38;5;241m=\u001B[39m\u001B[38;5;28mself\u001B[39m\u001B[38;5;241m.\u001B[39moptions\u001B[38;5;241m.\u001B[39mget(\u001B[38;5;124m\"\u001B[39m\u001B[38;5;124mencoding_errors\u001B[39m\u001B[38;5;124m\"\u001B[39m, \u001B[38;5;124m\"\u001B[39m\u001B[38;5;124mstrict\u001B[39m\u001B[38;5;124m\"\u001B[39m),\n\u001B[1;32m   1669\u001B[0m     storage_options\u001B[38;5;241m=\u001B[39m\u001B[38;5;28mself\u001B[39m\u001B[38;5;241m.\u001B[39moptions\u001B[38;5;241m.\u001B[39mget(\u001B[38;5;124m\"\u001B[39m\u001B[38;5;124mstorage_options\u001B[39m\u001B[38;5;124m\"\u001B[39m, \u001B[38;5;28;01mNone\u001B[39;00m),\n\u001B[1;32m   1670\u001B[0m )\n\u001B[1;32m   1671\u001B[0m \u001B[38;5;28;01massert\u001B[39;00m \u001B[38;5;28mself\u001B[39m\u001B[38;5;241m.\u001B[39mhandles \u001B[38;5;129;01mis\u001B[39;00m \u001B[38;5;129;01mnot\u001B[39;00m \u001B[38;5;28;01mNone\u001B[39;00m\n\u001B[1;32m   1672\u001B[0m f \u001B[38;5;241m=\u001B[39m \u001B[38;5;28mself\u001B[39m\u001B[38;5;241m.\u001B[39mhandles\u001B[38;5;241m.\u001B[39mhandle\n",
      "File \u001B[0;32m~/anaconda3/lib/python3.11/site-packages/pandas/io/common.py:859\u001B[0m, in \u001B[0;36mget_handle\u001B[0;34m(path_or_buf, mode, encoding, compression, memory_map, is_text, errors, storage_options)\u001B[0m\n\u001B[1;32m    854\u001B[0m \u001B[38;5;28;01melif\u001B[39;00m \u001B[38;5;28misinstance\u001B[39m(handle, \u001B[38;5;28mstr\u001B[39m):\n\u001B[1;32m    855\u001B[0m     \u001B[38;5;66;03m# Check whether the filename is to be opened in binary mode.\u001B[39;00m\n\u001B[1;32m    856\u001B[0m     \u001B[38;5;66;03m# Binary mode does not support 'encoding' and 'newline'.\u001B[39;00m\n\u001B[1;32m    857\u001B[0m     \u001B[38;5;28;01mif\u001B[39;00m ioargs\u001B[38;5;241m.\u001B[39mencoding \u001B[38;5;129;01mand\u001B[39;00m \u001B[38;5;124m\"\u001B[39m\u001B[38;5;124mb\u001B[39m\u001B[38;5;124m\"\u001B[39m \u001B[38;5;129;01mnot\u001B[39;00m \u001B[38;5;129;01min\u001B[39;00m ioargs\u001B[38;5;241m.\u001B[39mmode:\n\u001B[1;32m    858\u001B[0m         \u001B[38;5;66;03m# Encoding\u001B[39;00m\n\u001B[0;32m--> 859\u001B[0m         handle \u001B[38;5;241m=\u001B[39m \u001B[38;5;28mopen\u001B[39m(\n\u001B[1;32m    860\u001B[0m             handle,\n\u001B[1;32m    861\u001B[0m             ioargs\u001B[38;5;241m.\u001B[39mmode,\n\u001B[1;32m    862\u001B[0m             encoding\u001B[38;5;241m=\u001B[39mioargs\u001B[38;5;241m.\u001B[39mencoding,\n\u001B[1;32m    863\u001B[0m             errors\u001B[38;5;241m=\u001B[39merrors,\n\u001B[1;32m    864\u001B[0m             newline\u001B[38;5;241m=\u001B[39m\u001B[38;5;124m\"\u001B[39m\u001B[38;5;124m\"\u001B[39m,\n\u001B[1;32m    865\u001B[0m         )\n\u001B[1;32m    866\u001B[0m     \u001B[38;5;28;01melse\u001B[39;00m:\n\u001B[1;32m    867\u001B[0m         \u001B[38;5;66;03m# Binary mode\u001B[39;00m\n\u001B[1;32m    868\u001B[0m         handle \u001B[38;5;241m=\u001B[39m \u001B[38;5;28mopen\u001B[39m(handle, ioargs\u001B[38;5;241m.\u001B[39mmode)\n",
      "\u001B[0;31mFileNotFoundError\u001B[0m: [Errno 2] No such file or directory: 'greinLoad.log'"
     ]
    }
   ],
   "source": [
    "print(load_log())"
   ],
   "metadata": {
    "collapsed": false,
    "ExecuteTime": {
     "end_time": "2024-07-08T20:55:05.428565Z",
     "start_time": "2024-07-08T20:55:05.090233Z"
    }
   },
   "id": "2ccb281f955d7139"
  },
  {
   "cell_type": "code",
   "execution_count": 32,
   "id": "d7c098d1",
   "metadata": {
    "ExecuteTime": {
     "end_time": "2024-07-08T20:57:37.275265Z",
     "start_time": "2024-07-08T20:57:18.193449Z"
    }
   },
   "outputs": [
    {
     "name": "stdout",
     "output_type": "stream",
     "text": [
      "********* | GSE100092 | ***********\n"
     ]
    }
   ],
   "source": [
    "# Loading metadata for the datasets\n",
    "number_of_datasets = 10\n",
    "overview = loader.load_overview(number_of_datasets)\n",
    "\n",
    "# Accessing the geo_accession ID from overview\n",
    "geo_accession_ids = []\n",
    "for i in range(len(overview)):\n",
    "    geo_accession_ids.append(overview[i]['geo_accession'])\n",
    "\n",
    "# Check if there is already data downloaded or whether we are starting fresh\n",
    "if os.path.exists(\"greinLoad.log\") and os.path.exists(\"download/grein_count_matrix.pkl\"): \n",
    "    count_matrix_df = pd.read_pickle(\"download/grein_count_matrix.pkl\")\n",
    "    completed = load_log()\n",
    "\n",
    "else:\n",
    "    count_matrix_df = pd.DataFrame()\n",
    "    completed = set()\n",
    "    os.system(\"touch greinLoad.log\")\n",
    "\n",
    "# Loading data from the data sets using the geo_accession IDs\n",
    "# NOTE this does not save/pickle the description or metadata at all\n",
    "\n",
    "with open(\"greinLoad.log\", \"a\") as logfile:\n",
    "    for geo_accession in geo_accession_ids:\n",
    "        \n",
    "        # Check if this data was succesfully pickled\n",
    "        if geo_accession in completed:\n",
    "            continue\n",
    "            \n",
    "        # If new data, download data and add to df\n",
    "        print(\"********* |\", geo_accession, \"| ***********\")\n",
    "        logfile.write(geo_accession + \",start\\n\")\n",
    "        description, metadata, count_matrix = loader.load_dataset(geo_accession)\n",
    "        \n",
    "        # Merge in to existing count matrix DF\n",
    "        if count_matrix_df.empty:\n",
    "            count_matrix_df = count_matrix\n",
    "        else:\n",
    "            count_matrix_df = pd.merge(count_matrix_df, count_matrix,  how='left', on=[\"gene\", \"gene_symbol\"])\n",
    "        \n",
    "        logfile.write(geo_accession + \",write\\n\")\n",
    "        count_matrix_df.to_pickle(\"download/grein_count_matrix.pkl\")\n",
    "        logfile.write(geo_accession + \",end\\n\")\n",
    "        \n",
    "        break\n",
    "    "
   ]
  },
  {
   "cell_type": "code",
   "execution_count": null,
   "id": "c456e428",
   "metadata": {},
   "outputs": [],
   "source": [
    "# To-do: write code to automatically check if grein data downloaded properly"
   ]
  },
  {
   "cell_type": "markdown",
   "id": "07d59c22",
   "metadata": {},
   "source": [
    "## Save the data loaded above"
   ]
  },
  {
   "cell_type": "code",
   "execution_count": 17,
   "id": "80d0f997",
   "metadata": {},
   "outputs": [],
   "source": [
    "import random\n",
    "from sklearn.model_selection import train_test_split\n",
    "import json\n",
    "import sys"
   ]
  },
  {
   "cell_type": "markdown",
   "id": "9ba973b3",
   "metadata": {},
   "source": [
    "**Count_matrix**"
   ]
  },
  {
   "cell_type": "code",
   "execution_count": 37,
   "id": "d7dda5ce",
   "metadata": {},
   "outputs": [],
   "source": [
    "# Convert count_matrix to df\n",
    "# count_matrix_df = pd.DataFrame.from_dict(count_matrix) \n",
    "\n",
    "path = os.path.join(os.getcwd(), 'download', 'count_matrix.tsv')\n",
    "with open(path, 'w') as file:\n",
    "    count_matrix_df.to_csv(path, sep=\"\\t\") "
   ]
  },
  {
   "cell_type": "markdown",
   "id": "339e5023",
   "metadata": {},
   "source": [
    "**Description**"
   ]
  },
  {
   "cell_type": "code",
   "execution_count": 4,
   "id": "f15f8b9a",
   "metadata": {},
   "outputs": [],
   "source": [
    "# Save description. Currently saves description for only one data set at a time\n",
    "path = os.path.join('download', 'description.json')\n",
    "with open(path, 'w') as file:\n",
    "    # Serialize and write the variable to the file\n",
    "    json.dump(description, file)"
   ]
  },
  {
   "cell_type": "markdown",
   "id": "724557b3",
   "metadata": {},
   "source": [
    "**Metadata**"
   ]
  },
  {
   "cell_type": "code",
   "execution_count": null,
   "id": "eec21cf5",
   "metadata": {},
   "outputs": [],
   "source": [
    "# Create a dataframe from metadata\n",
    "metadata_df = pd.DataFrame.from_dict(metadata)\n",
    "\n",
    "# list of row names in metadata_df\n",
    "row_names = list(metadata_df.index)\n",
    "\n",
    "# Creating a list of rows that we do not require to process this data set\n",
    "unneeded_rows = ['Consent', ' ', 'channel_count', 'organism_ch1', 'relation', 'status']\n",
    "for index in row_names:\n",
    "    if ('contact' in index) or ('date' in index) or ('data_processing' in index) or ('Hash' in index) or ('Date' in index) or ('library' in index):\n",
    "        unneeded_rows.append(index)\n",
    "        \n",
    "# remove unnecessary roles from count_matrix\n",
    "metadata_df.drop(unneeded_rows, axis = 0)"
   ]
  },
  {
   "cell_type": "code",
   "execution_count": 27,
   "id": "5cab20d5",
   "metadata": {},
   "outputs": [
    {
     "name": "stdout",
     "output_type": "stream",
     "text": [
      "<class 'dict'>\n"
     ]
    }
   ],
   "source": [
    "print(type(metadata))"
   ]
  },
  {
   "cell_type": "code",
   "execution_count": 26,
   "id": "b031d146",
   "metadata": {},
   "outputs": [
    {
     "name": "stdout",
     "output_type": "stream",
     "text": [
      "<class 'dict'>\n"
     ]
    }
   ],
   "source": [
    "print(type(description))"
   ]
  },
  {
   "cell_type": "code",
   "execution_count": 38,
   "id": "056e13b8",
   "metadata": {},
   "outputs": [
    {
     "name": "stdout",
     "output_type": "stream",
     "text": [
      "                   gene gene_symbol  GSM2667747  GSM2667748  GSM2667749  \\\n",
      "0       ENSG00000000003      TSPAN6   1766.0677    420.8206    300.8009   \n",
      "1       ENSG00000000005        TNMD     43.9280     18.0091      0.0000   \n",
      "2       ENSG00000000419        DPM1   1097.7855    367.2333    316.5226   \n",
      "3       ENSG00000000457       SCYL3    601.4702    270.9239    163.6869   \n",
      "4       ENSG00000000460    C1orf112   1040.8861    349.1418    298.1800   \n",
      "...                 ...         ...         ...         ...         ...   \n",
      "280786  ENSG00000283688    MIR6715B         NaN         NaN         NaN   \n",
      "280787  ENSG00000283690   MIR3116-2         NaN         NaN         NaN   \n",
      "280788  ENSG00000283694   MIR3202-2         NaN         NaN         NaN   \n",
      "280789  ENSG00000283697       HSFX3         NaN         NaN         NaN   \n",
      "280790  ENSG00000283699     MIR4481         NaN         NaN         NaN   \n",
      "\n",
      "        GSM2667750  GSM2667751  GSM2667752  GSM2667753  GSM2667754  ...  \\\n",
      "0        3142.8439   2207.8392   4367.5056    228.5759    650.3287  ...   \n",
      "1         115.8917     63.5936     39.7803     11.7588      1.0153  ...   \n",
      "2        3895.0588   1536.1375   1084.5276    127.7205    245.1014  ...   \n",
      "3        1177.2241    873.9074    845.1423    229.8548    134.4694  ...   \n",
      "4        1967.3975   2115.2425    980.9359    253.4457    145.7038  ...   \n",
      "...            ...         ...         ...         ...         ...  ...   \n",
      "280786         NaN         NaN         NaN         NaN         NaN  ...   \n",
      "280787         NaN         NaN         NaN         NaN         NaN  ...   \n",
      "280788         NaN         NaN         NaN         NaN         NaN  ...   \n",
      "280789         NaN         NaN         NaN         NaN         NaN  ...   \n",
      "280790         NaN         NaN         NaN         NaN         NaN  ...   \n",
      "\n",
      "        GSM2674628  GSM2674629  GSM2674630  GSM2674631  GSM2674632  \\\n",
      "0              NaN         NaN         NaN         NaN         NaN   \n",
      "1              NaN         NaN         NaN         NaN         NaN   \n",
      "2              NaN         NaN         NaN         NaN         NaN   \n",
      "3              NaN         NaN         NaN         NaN         NaN   \n",
      "4              NaN         NaN         NaN         NaN         NaN   \n",
      "...            ...         ...         ...         ...         ...   \n",
      "280786         0.0      0.0000         0.0         0.0         0.0   \n",
      "280787         0.0      0.0000         0.0         0.0         0.0   \n",
      "280788         0.0      0.0000         0.0         0.0         0.0   \n",
      "280789         0.0      1.0013         0.0         0.0         0.0   \n",
      "280790         0.0      0.0000         0.0         0.0         0.0   \n",
      "\n",
      "        GSM2674633  GSM2674634  GSM2674635  GSM2674636  GSM2674637  \n",
      "0              NaN         NaN         NaN         NaN         NaN  \n",
      "1              NaN         NaN         NaN         NaN         NaN  \n",
      "2              NaN         NaN         NaN         NaN         NaN  \n",
      "3              NaN         NaN         NaN         NaN         NaN  \n",
      "4              NaN         NaN         NaN         NaN         NaN  \n",
      "...            ...         ...         ...         ...         ...  \n",
      "280786         0.0         0.0      0.0000         0.0         0.0  \n",
      "280787         0.0         0.0      0.0000         0.0         0.0  \n",
      "280788         0.0         0.0      0.0000         0.0         0.0  \n",
      "280789         0.0         0.0      1.0023         0.0         0.0  \n",
      "280790         0.0         0.0      0.0000         0.0         0.0  \n",
      "\n",
      "[280791 rows x 310 columns]\n"
     ]
    }
   ],
   "source": [
    "print(count_matrix_df)"
   ]
  },
  {
   "cell_type": "code",
   "execution_count": 39,
   "id": "2b543432",
   "metadata": {},
   "outputs": [
    {
     "name": "stdout",
     "output_type": "stream",
     "text": [
      "                  gene gene_symbol  GSM2674606  GSM2674607  GSM2674608  \\\n",
      "0      ENSG00000000003      TSPAN6     26.0568     24.0533      0.0000   \n",
      "1      ENSG00000000005        TNMD      0.0000      1.0126     10.5116   \n",
      "2      ENSG00000000419        DPM1     80.0880    106.9059     70.2306   \n",
      "3      ENSG00000000457       SCYL3    171.3826    182.8256    106.2547   \n",
      "4      ENSG00000000460    C1orf112     35.9081     38.9074     75.5592   \n",
      "...                ...         ...         ...         ...         ...   \n",
      "28084  ENSG00000283688    MIR6715B      0.0000      0.0000      0.0000   \n",
      "28085  ENSG00000283690   MIR3116-2      0.0000      0.0000      0.0000   \n",
      "28086  ENSG00000283694   MIR3202-2      0.0000      0.0000      0.0000   \n",
      "28087  ENSG00000283697       HSFX3      0.0000      0.0000      0.0000   \n",
      "28088  ENSG00000283699     MIR4481      0.0000      0.0000      0.0000   \n",
      "\n",
      "       GSM2674609  GSM2674610  GSM2674611  GSM2674612  GSM2674613  ...  \\\n",
      "0         11.0000      6.0301      6.8981    126.4921     34.7837  ...   \n",
      "1          0.0000      1.9906      0.0000      4.9442     26.1699  ...   \n",
      "2        224.4599    145.0850    102.0693    312.4822    318.2490  ...   \n",
      "3         48.5619    141.8623    138.6511    151.6095    345.8414  ...   \n",
      "4         14.9010     44.2761    428.0590     59.5640    145.4272  ...   \n",
      "...           ...         ...         ...         ...         ...  ...   \n",
      "28084      0.0000      0.0000      0.0000      0.0000      0.0000  ...   \n",
      "28085      0.0000      0.0000      0.0000      0.0000      0.0000  ...   \n",
      "28086      0.0000      0.0000      0.0000      0.0000      0.0000  ...   \n",
      "28087      0.0000      0.0000      0.0000      0.0000      0.0000  ...   \n",
      "28088      0.0000      0.0000      1.0342      0.0000      0.0000  ...   \n",
      "\n",
      "       GSM2674628  GSM2674629  GSM2674630  GSM2674631  GSM2674632  GSM2674633  \\\n",
      "0         73.0958      3.4212     43.9417      0.0000     33.9530     15.8226   \n",
      "1         22.9454      0.0000      0.0000      0.0000      1.0049      0.0000   \n",
      "2        283.1045    194.9877    278.0296    329.0610    171.0899    252.1488   \n",
      "3        343.4850    164.3782    118.7800    323.5652    355.3915    445.8197   \n",
      "4         12.9807    305.3816     64.8827     13.0392    496.6188    195.2652   \n",
      "...           ...         ...         ...         ...         ...         ...   \n",
      "28084      0.0000      0.0000      0.0000      0.0000      0.0000      0.0000   \n",
      "28085      0.0000      0.0000      0.0000      0.0000      0.0000      0.0000   \n",
      "28086      0.0000      0.0000      0.0000      0.0000      0.0000      0.0000   \n",
      "28087      0.0000      1.0013      0.0000      0.0000      0.0000      0.0000   \n",
      "28088      0.0000      0.0000      0.0000      0.0000      0.0000      0.0000   \n",
      "\n",
      "       GSM2674634  GSM2674635  GSM2674636  GSM2674637  \n",
      "0          0.0000      2.0153      0.0000      3.9986  \n",
      "1         68.0005      0.0000      4.9913      3.0198  \n",
      "2        155.9116     87.0574    335.8121    184.1851  \n",
      "3        165.6009    100.6720    205.0222    110.7755  \n",
      "4         27.5674    421.8462    140.2579    115.7192  \n",
      "...           ...         ...         ...         ...  \n",
      "28084      0.0000      0.0000      0.0000      0.0000  \n",
      "28085      0.0000      0.0000      0.0000      0.0000  \n",
      "28086      0.0000      0.0000      0.0000      0.0000  \n",
      "28087      0.0000      1.0023      0.0000      0.0000  \n",
      "28088      0.0000      0.0000      0.0000      0.0000  \n",
      "\n",
      "[28089 rows x 34 columns]\n"
     ]
    }
   ],
   "source": [
    "print(count_matrix)"
   ]
  }
 ],
 "metadata": {
  "kernelspec": {
   "display_name": "Python 3 (ipykernel)",
   "language": "python",
   "name": "python3"
  },
  "language_info": {
   "codemirror_mode": {
    "name": "ipython",
    "version": 3
   },
   "file_extension": ".py",
   "mimetype": "text/x-python",
   "name": "python",
   "nbconvert_exporter": "python",
   "pygments_lexer": "ipython3",
   "version": "3.10.12"
  }
 },
 "nbformat": 4,
 "nbformat_minor": 5
}
