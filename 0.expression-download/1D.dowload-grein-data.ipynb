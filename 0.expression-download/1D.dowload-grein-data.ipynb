{
 "cells": [
  {
   "cell_type": "code",
   "execution_count": 8,
   "id": "6067bdcc",
   "metadata": {},
   "outputs": [
    {
     "name": "stdout",
     "output_type": "stream",
     "text": [
      "Defaulting to user installation because normal site-packages is not writeable\n",
      "Requirement already satisfied: grein_loader in /home/paperspace/.local/lib/python3.10/site-packages (0.0.4)\n",
      "Requirement already satisfied: requests in /usr/lib/python3/dist-packages (from grein_loader) (2.25.1)\n",
      "Requirement already satisfied: pandas in /home/paperspace/.local/lib/python3.10/site-packages (from grein_loader) (2.2.2)\n",
      "Requirement already satisfied: pytz>=2020.1 in /usr/lib/python3/dist-packages (from pandas->grein_loader) (2022.1)\n",
      "Requirement already satisfied: tzdata>=2022.7 in /home/paperspace/.local/lib/python3.10/site-packages (from pandas->grein_loader) (2024.1)\n",
      "Requirement already satisfied: numpy>=1.22.4 in /home/paperspace/.local/lib/python3.10/site-packages (from pandas->grein_loader) (2.0.0)\n",
      "Requirement already satisfied: python-dateutil>=2.8.2 in /home/paperspace/.local/lib/python3.10/site-packages (from pandas->grein_loader) (2.9.0.post0)\n",
      "Requirement already satisfied: six>=1.5 in /usr/lib/python3/dist-packages (from python-dateutil>=2.8.2->pandas->grein_loader) (1.16.0)\n"
     ]
    }
   ],
   "source": [
    "# To install the grein_loader package\n",
    "!pip install grein_loader"
   ]
  },
  {
   "cell_type": "code",
   "execution_count": 9,
   "id": "331a0f21",
   "metadata": {},
   "outputs": [],
   "source": [
    "import grein_loader as loader"
   ]
  },
  {
   "cell_type": "code",
   "execution_count": 10,
   "id": "d7c098d1",
   "metadata": {},
   "outputs": [],
   "source": [
    "# Loading metadata for the datasets\n",
    "number_of_datasets = 10\n",
    "overview = loader.load_overview(number_of_datasets)\n",
    "\n",
    "# Accessing the geo_accession ID from overview\n",
    "geo_accession_ids = []\n",
    "for i in range(len(overview)):\n",
    "    geo_accession_ids.append(overview[i]['geo_accession'])\n",
    "\n",
    "# Loading data from the data sets using the geo_accession IDs\n",
    "for geo_accession in geo_accession_ids:\n",
    "    description, metadata, count_matrix = loader.load_dataset(geo_accession)"
   ]
  },
  {
   "cell_type": "code",
   "execution_count": null,
   "id": "c456e428",
   "metadata": {},
   "outputs": [],
   "source": [
    "# To-do: write code to automatically check if grein data downloaded properly"
   ]
  },
  {
   "cell_type": "markdown",
   "id": "f65f3708",
   "metadata": {},
   "source": [
    "**Move to 2D notebook once we figure out how to save data downloaded to a directory that can be accessed**"
   ]
  },
  {
   "cell_type": "code",
   "execution_count": 4,
   "id": "19102ed7",
   "metadata": {},
   "outputs": [
    {
     "name": "stdout",
     "output_type": "stream",
     "text": [
      "Defaulting to user installation because normal site-packages is not writeable\n",
      "Collecting scikit-learn\n",
      "  Downloading scikit_learn-1.5.1-cp310-cp310-manylinux_2_17_x86_64.manylinux2014_x86_64.whl (13.4 MB)\n",
      "\u001b[2K     \u001b[90m━━━━━━━━━━━━━━━━━━━━━━━━━━━━━━━━━━━━━━━━\u001b[0m \u001b[32m13.4/13.4 MB\u001b[0m \u001b[31m38.8 MB/s\u001b[0m eta \u001b[36m0:00:00\u001b[0m00:01\u001b[0m00:01\u001b[0m\n",
      "\u001b[?25hRequirement already satisfied: scipy in /usr/lib/python3/dist-packages (1.8.0)\n",
      "Collecting scipy\n",
      "  Downloading scipy-1.14.0-cp310-cp310-manylinux_2_17_x86_64.manylinux2014_x86_64.whl (41.1 MB)\n",
      "\u001b[2K     \u001b[90m━━━━━━━━━━━━━━━━━━━━━━━━━━━━━━━━━━━━━━━━\u001b[0m \u001b[32m41.1/41.1 MB\u001b[0m \u001b[31m35.9 MB/s\u001b[0m eta \u001b[36m0:00:00\u001b[0m00:01\u001b[0m00:01\u001b[0m\n",
      "\u001b[?25hRequirement already satisfied: matplotlib in /usr/lib/python3/dist-packages (3.5.1)\n",
      "Collecting matplotlib\n",
      "  Downloading matplotlib-3.9.0-cp310-cp310-manylinux_2_17_x86_64.manylinux2014_x86_64.whl (8.3 MB)\n",
      "\u001b[2K     \u001b[90m━━━━━━━━━━━━━━━━━━━━━━━━━━━━━━━━━━━━━━━━\u001b[0m \u001b[32m8.3/8.3 MB\u001b[0m \u001b[31m82.6 MB/s\u001b[0m eta \u001b[36m0:00:00\u001b[0m:00:01\u001b[0m00:01\u001b[0m\n",
      "\u001b[?25hCollecting joblib>=1.2.0\n",
      "  Downloading joblib-1.4.2-py3-none-any.whl (301 kB)\n",
      "\u001b[2K     \u001b[90m━━━━━━━━━━━━━━━━━━━━━━━━━━━━━━━━━━━━━━\u001b[0m \u001b[32m301.8/301.8 KB\u001b[0m \u001b[31m46.9 MB/s\u001b[0m eta \u001b[36m0:00:00\u001b[0m\n",
      "\u001b[?25hRequirement already satisfied: numpy>=1.19.5 in /home/paperspace/.local/lib/python3.10/site-packages (from scikit-learn) (2.0.0)\n",
      "Collecting threadpoolctl>=3.1.0\n",
      "  Downloading threadpoolctl-3.5.0-py3-none-any.whl (18 kB)\n",
      "Requirement already satisfied: pillow>=8 in /usr/lib/python3/dist-packages (from matplotlib) (9.0.1)\n",
      "Requirement already satisfied: cycler>=0.10 in /usr/lib/python3/dist-packages (from matplotlib) (0.11.0)\n",
      "Requirement already satisfied: kiwisolver>=1.3.1 in /usr/lib/python3/dist-packages (from matplotlib) (1.3.2)\n",
      "Requirement already satisfied: fonttools>=4.22.0 in /usr/lib/python3/dist-packages (from matplotlib) (4.29.1)\n",
      "Requirement already satisfied: python-dateutil>=2.7 in /home/paperspace/.local/lib/python3.10/site-packages (from matplotlib) (2.9.0.post0)\n",
      "Requirement already satisfied: packaging>=20.0 in /usr/lib/python3/dist-packages (from matplotlib) (21.3)\n",
      "Collecting contourpy>=1.0.1\n",
      "  Downloading contourpy-1.2.1-cp310-cp310-manylinux_2_17_x86_64.manylinux2014_x86_64.whl (305 kB)\n",
      "\u001b[2K     \u001b[90m━━━━━━━━━━━━━━━━━━━━━━━━━━━━━━━━━━━━━━\u001b[0m \u001b[32m305.2/305.2 KB\u001b[0m \u001b[31m45.6 MB/s\u001b[0m eta \u001b[36m0:00:00\u001b[0m\n",
      "\u001b[?25hRequirement already satisfied: pyparsing>=2.3.1 in /usr/lib/python3/dist-packages (from matplotlib) (2.4.7)\n",
      "Requirement already satisfied: six>=1.5 in /usr/lib/python3/dist-packages (from python-dateutil>=2.7->matplotlib) (1.16.0)\n",
      "Installing collected packages: threadpoolctl, scipy, joblib, contourpy, scikit-learn, matplotlib\n",
      "Successfully installed contourpy-1.2.1 joblib-1.4.2 matplotlib-3.9.0 scikit-learn-1.5.1 scipy-1.14.0 threadpoolctl-3.5.0\n"
     ]
    }
   ],
   "source": [
    "!pip3 install -U scikit-learn scipy matplotlib\n"
   ]
  },
  {
   "cell_type": "code",
   "execution_count": 5,
   "id": "80d0f997",
   "metadata": {},
   "outputs": [],
   "source": [
    "import os\n",
    "import random\n",
    "import pandas as pd\n",
    "from sklearn.model_selection import train_test_split\n",
    "import pickle"
   ]
  },
  {
   "cell_type": "code",
   "execution_count": 11,
   "id": "f15f8b9a",
   "metadata": {},
   "outputs": [],
   "source": [
    "#To-do: properly save the data\n",
    "\n",
    "# Trying to save the data (desc, count_matrix, metadata downloaded)\n",
    "# relevant_data = [description, metadata, count_matrix]\n",
    "path = os.path.join('download', 'description.txt')\n",
    "with open(path, 'wb') as file:\n",
    "    # Serialize and write the variable to the file\n",
    "    pickle.dump(description, file)"
   ]
  },
  {
   "cell_type": "code",
   "execution_count": null,
   "id": "eec21cf5",
   "metadata": {},
   "outputs": [],
   "source": [
    "# Create a dataframe from metadata\n",
    "metadata_df = pd.DataFrame.from_dict(metadata)\n",
    "\n",
    "# list of row names in metadata_df\n",
    "row_names = list(metadata_df.index)\n",
    "\n",
    "# Creating a list of rows that we do not require to process this data set\n",
    "unneeded_rows = ['Consent', ' ', 'channel_count', 'organism_ch1', 'relation', 'status']\n",
    "for index in row_names:\n",
    "    if ('contact' in index) or ('date' in index) or ('data_processing' in index) or ('Hash' in index) or ('Date' in index) or ('library' in index):\n",
    "        unneeded_rows.append(index)"
   ]
  },
  {
   "cell_type": "code",
   "execution_count": null,
   "id": "7e1a317e",
   "metadata": {},
   "outputs": [],
   "source": [
    "# remove unnecessary roles from count_matrix\n",
    "metadata_df.drop(unneeded_rows, axis = 0)"
   ]
  },
  {
   "cell_type": "code",
   "execution_count": 7,
   "id": "9651783a",
   "metadata": {},
   "outputs": [
    {
     "name": "stdout",
     "output_type": "stream",
     "text": [
      "(28089, 34)\n"
     ]
    },
    {
     "data": {
      "text/html": [
       "<div>\n",
       "<style scoped>\n",
       "    .dataframe tbody tr th:only-of-type {\n",
       "        vertical-align: middle;\n",
       "    }\n",
       "\n",
       "    .dataframe tbody tr th {\n",
       "        vertical-align: top;\n",
       "    }\n",
       "\n",
       "    .dataframe thead th {\n",
       "        text-align: right;\n",
       "    }\n",
       "</style>\n",
       "<table border=\"1\" class=\"dataframe\">\n",
       "  <thead>\n",
       "    <tr style=\"text-align: right;\">\n",
       "      <th></th>\n",
       "      <th>gene</th>\n",
       "      <th>gene_symbol</th>\n",
       "      <th>GSM2674606</th>\n",
       "      <th>GSM2674607</th>\n",
       "      <th>GSM2674608</th>\n",
       "      <th>GSM2674609</th>\n",
       "      <th>GSM2674610</th>\n",
       "      <th>GSM2674611</th>\n",
       "      <th>GSM2674612</th>\n",
       "      <th>GSM2674613</th>\n",
       "      <th>...</th>\n",
       "      <th>GSM2674628</th>\n",
       "      <th>GSM2674629</th>\n",
       "      <th>GSM2674630</th>\n",
       "      <th>GSM2674631</th>\n",
       "      <th>GSM2674632</th>\n",
       "      <th>GSM2674633</th>\n",
       "      <th>GSM2674634</th>\n",
       "      <th>GSM2674635</th>\n",
       "      <th>GSM2674636</th>\n",
       "      <th>GSM2674637</th>\n",
       "    </tr>\n",
       "  </thead>\n",
       "  <tbody>\n",
       "    <tr>\n",
       "      <th>0</th>\n",
       "      <td>ENSG00000000003</td>\n",
       "      <td>TSPAN6</td>\n",
       "      <td>26.0568</td>\n",
       "      <td>24.0533</td>\n",
       "      <td>0.0000</td>\n",
       "      <td>11.0</td>\n",
       "      <td>6.0301</td>\n",
       "      <td>6.8981</td>\n",
       "      <td>126.4921</td>\n",
       "      <td>34.7837</td>\n",
       "      <td>...</td>\n",
       "      <td>73.0958</td>\n",
       "      <td>3.4212</td>\n",
       "      <td>43.9417</td>\n",
       "      <td>0.0</td>\n",
       "      <td>33.9530</td>\n",
       "      <td>15.8226</td>\n",
       "      <td>0.0000</td>\n",
       "      <td>2.0153</td>\n",
       "      <td>0.0000</td>\n",
       "      <td>3.9986</td>\n",
       "    </tr>\n",
       "    <tr>\n",
       "      <th>1</th>\n",
       "      <td>ENSG00000000005</td>\n",
       "      <td>TNMD</td>\n",
       "      <td>0.0000</td>\n",
       "      <td>1.0126</td>\n",
       "      <td>10.5116</td>\n",
       "      <td>0.0</td>\n",
       "      <td>1.9906</td>\n",
       "      <td>0.0000</td>\n",
       "      <td>4.9442</td>\n",
       "      <td>26.1699</td>\n",
       "      <td>...</td>\n",
       "      <td>22.9454</td>\n",
       "      <td>0.0000</td>\n",
       "      <td>0.0000</td>\n",
       "      <td>0.0</td>\n",
       "      <td>1.0049</td>\n",
       "      <td>0.0000</td>\n",
       "      <td>68.0005</td>\n",
       "      <td>0.0000</td>\n",
       "      <td>4.9913</td>\n",
       "      <td>3.0198</td>\n",
       "    </tr>\n",
       "  </tbody>\n",
       "</table>\n",
       "<p>2 rows × 34 columns</p>\n",
       "</div>"
      ],
      "text/plain": [
       "              gene gene_symbol  GSM2674606  GSM2674607  GSM2674608  \\\n",
       "0  ENSG00000000003      TSPAN6     26.0568     24.0533      0.0000   \n",
       "1  ENSG00000000005        TNMD      0.0000      1.0126     10.5116   \n",
       "\n",
       "   GSM2674609  GSM2674610  GSM2674611  GSM2674612  GSM2674613  ...  \\\n",
       "0        11.0      6.0301      6.8981    126.4921     34.7837  ...   \n",
       "1         0.0      1.9906      0.0000      4.9442     26.1699  ...   \n",
       "\n",
       "   GSM2674628  GSM2674629  GSM2674630  GSM2674631  GSM2674632  GSM2674633  \\\n",
       "0     73.0958      3.4212     43.9417         0.0     33.9530     15.8226   \n",
       "1     22.9454      0.0000      0.0000         0.0      1.0049      0.0000   \n",
       "\n",
       "   GSM2674634  GSM2674635  GSM2674636  GSM2674637  \n",
       "0      0.0000      2.0153      0.0000      3.9986  \n",
       "1     68.0005      0.0000      4.9913      3.0198  \n",
       "\n",
       "[2 rows x 34 columns]"
      ]
     },
     "execution_count": 7,
     "metadata": {},
     "output_type": "execute_result"
    }
   ],
   "source": [
    "count_matrix_df = pd.DataFrame.from_dict(count_matrix)\n",
    "\n",
    "print(count_matrix_df.shape)\n",
    "count_matrix_df.head(2)"
   ]
  },
  {
   "cell_type": "code",
   "execution_count": null,
   "id": "5cab20d5",
   "metadata": {},
   "outputs": [],
   "source": [
    "print(metadata)"
   ]
  },
  {
   "cell_type": "code",
   "execution_count": null,
   "id": "b031d146",
   "metadata": {},
   "outputs": [],
   "source": [
    "print(description)"
   ]
  },
  {
   "cell_type": "code",
   "execution_count": null,
   "id": "056e13b8",
   "metadata": {},
   "outputs": [],
   "source": [
    "print(count_matrix)"
   ]
  }
 ],
 "metadata": {
  "kernelspec": {
   "display_name": "Python 3 (ipykernel)",
   "language": "python",
   "name": "python3"
  },
  "language_info": {
   "codemirror_mode": {
    "name": "ipython",
    "version": 3
   },
   "file_extension": ".py",
   "mimetype": "text/x-python",
   "name": "python",
   "nbconvert_exporter": "python",
   "pygments_lexer": "ipython3",
   "version": "3.10.12"
  }
 },
 "nbformat": 4,
 "nbformat_minor": 5
}
