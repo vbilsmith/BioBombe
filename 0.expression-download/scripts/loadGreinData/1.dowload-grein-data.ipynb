{
 "cells": [
  {
   "cell_type": "code",
   "execution_count": 1,
   "id": "331a0f21",
   "metadata": {
    "ExecuteTime": {
     "end_time": "2024-07-19T17:33:15.557761Z",
     "start_time": "2024-07-19T17:33:15.226136Z"
    }
   },
   "outputs": [],
   "source": [
    "import grein_loader as loader\n",
    "import pandas as pd\n",
    "import os\n",
    "import time\n",
    "import json"
   ]
  },
  {
   "cell_type": "code",
   "execution_count": 20,
   "outputs": [],
   "source": [
    "number_of_datasets = 2\n",
    "species = \"human\""
   ],
   "metadata": {
    "collapsed": false,
    "ExecuteTime": {
     "end_time": "2024-07-19T18:25:44.362818Z",
     "start_time": "2024-07-19T18:25:44.352456Z"
    }
   },
   "id": "964b2eb2db3eaf0d"
  },
  {
   "cell_type": "code",
   "execution_count": 3,
   "id": "269899538ef2705f",
   "metadata": {
    "ExecuteTime": {
     "end_time": "2024-07-19T17:35:14.491952Z",
     "start_time": "2024-07-19T17:35:14.484553Z"
    }
   },
   "outputs": [],
   "source": [
    "# Load log file from disk to see if this data has already been added\n",
    "def load_log(logFile):\n",
    "    log = pd.read_csv(logFile, names=[\"GSE\", \"status\"])\n",
    "    log = log[log[\"status\"] == \"end\"]\n",
    "    return set(log[\"GSE\"].unique())"
   ]
  },
  {
   "cell_type": "code",
   "execution_count": 12,
   "outputs": [],
   "source": [
    "def load_data(geo_accession, count_matrix_df, greinMetadata):\n",
    "    description, metadata, count_matrix = loader.load_dataset(geo_accession)\n",
    "    print(description)\n",
    "    for gsm, valDict in metadata.items():\n",
    "        valDict.drop(\" \")\n",
    "        valDict.drop(\"geo_accession\")\n",
    "    # Merge in to existing count matrix DF\n",
    "    if count_matrix_df.empty:\n",
    "        return count_matrix, {geo_accession: metadata}\n",
    "    else:\n",
    "        greinMetadata[geo_accession] = metadata\n",
    "        return pd.merge(count_matrix_human_df, count_matrix,  how='left', on=[\"gene\", \"gene_symbol\"]), greinMetadata"
   ],
   "metadata": {
    "collapsed": false,
    "ExecuteTime": {
     "end_time": "2024-07-19T16:24:03.092368Z",
     "start_time": "2024-07-19T16:24:03.089710Z"
    }
   },
   "id": "19c8219892618b53"
  },
  {
   "cell_type": "code",
   "execution_count": 19,
   "id": "3237f570",
   "metadata": {
    "ExecuteTime": {
     "end_time": "2024-07-19T18:18:24.942268Z",
     "start_time": "2024-07-19T18:18:24.926632Z"
    }
   },
   "outputs": [
    {
     "name": "stdout",
     "output_type": "stream",
     "text": [
      "...loading human data\n"
     ]
    }
   ],
   "source": [
    "# Prepare to download human data\n",
    "reset = False\n",
    "\n",
    "# Check if there is already expression data downloaded or whether we are starting fresh\n",
    "filenames = dict()\n",
    "filenames[\"log\"] = \"greinLoad_{0}.log\".format(species)\n",
    "filenames[\"data\"] = \"../../download/grein_count_matrix_{0}.pkl\".format(species)\n",
    "filenames[\"metadata\"] = \"../../download/grein_metadata_{0}.json\".format(species)\n",
    "filenames[\"description\"] = \"../../download/grein_descriptions_{0}.json\".format(species)\n",
    "\n",
    "if reset == False and os.path.exists(filenames[\"log\"]) and os.path.exists(filenames[\"data\"]) and os.path.exists(filenames[\"metadata\"]): \n",
    "    print(\"...loading human data\")\n",
    "    count_matrix_df = pd.read_pickle(filenames[\"data\"])\n",
    "    sample_data = json.load(open(filenames[\"metadata\"], \"r\"))\n",
    "    study_desc = json.load(open(filenames[\"description\"], \"r\"))\n",
    "    completed = load_log(filenames[\"log\"])\n",
    "else:\n",
    "    print(\"starting human download from scratch\")\n",
    "    ! rm {humanLog}\n",
    "    count_matrix_df = pd.DataFrame()\n",
    "    sample_data = dict()\n",
    "    completed = set()\n",
    "    !touch {filenames[\"log\"]} {filenames[\"metadata\"]} {filenames[\"description\"]}\n",
    "    \n",
    "fout_sample_data = open(filenames[\"metadata\"], \"a\")\n",
    "fout_descriptions = open(filenames[\"description\"], \"a\")"
   ]
  },
  {
   "cell_type": "code",
   "execution_count": 16,
   "outputs": [
    {
     "data": {
      "text/plain": "                  gene   gene_symbol  GSM2667747  GSM2667748  GSM2667749  \\\n0      ENSG00000000003        TSPAN6   1766.0677    420.8206    300.8009   \n1      ENSG00000000005          TNMD     43.9280     18.0091      0.0000   \n2      ENSG00000000419          DPM1   1097.7855    367.2333    316.5226   \n3      ENSG00000000457         SCYL3    601.4702    270.9239    163.6869   \n4      ENSG00000000460      C1orf112   1040.8861    349.1418    298.1800   \n...                ...           ...         ...         ...         ...   \n27985  ENSG00000283688      MIR6715B      0.0000      0.0000      0.0000   \n27986  ENSG00000283690     MIR3116-2      0.0000      0.0000      0.0000   \n27987  ENSG00000283694     MIR3202-2      0.0000      0.0000      0.0000   \n27988  ENSG00000283697  LOC101928917      1.7315      0.0000      0.0000   \n27989  ENSG00000283699       MIR4481      0.0000      1.1301      0.0000   \n\n       GSM2667750  GSM2667751  GSM2667752  GSM2667753  GSM2667754  ...  \\\n0       3142.8439   2207.8392   4367.5056    228.5759    650.3287  ...   \n1        115.8917     63.5936     39.7803     11.7588      1.0153  ...   \n2       3895.0588   1536.1375   1084.5276    127.7205    245.1014  ...   \n3       1177.2241    873.9074    845.1423    229.8548    134.4694  ...   \n4       1967.3975   2115.2425    980.9359    253.4457    145.7038  ...   \n...           ...         ...         ...         ...         ...  ...   \n27985      0.0000      0.0000      0.0000      0.0000      0.0000  ...   \n27986      0.0000      0.0000      0.0000      0.0000      0.0000  ...   \n27987      0.0000      0.0000      0.0000      0.0000      0.0000  ...   \n27988      0.0000      2.0039      3.9899      2.5184      4.1298  ...   \n27989      1.3192      0.0000      0.0000      0.0000      0.0000  ...   \n\n       GSM2667786  GSM2668081  GSM2668082  GSM2668083  GSM2668084  GSM2668085  \\\n0       2539.2382    265.0806    300.3062    331.6881    183.7755    278.5022   \n1        662.0918      0.0000      0.0000      0.0000      0.0000      0.0000   \n2       1736.9615    537.7681    461.4597    436.1302    416.2508    568.8483   \n3        939.7315    157.2023    151.5847    196.0139    142.7542    170.0119   \n4        338.4995     83.2406     63.1939     50.6896     71.3720    161.8204   \n...           ...         ...         ...         ...         ...         ...   \n27985      0.0000      0.0000      0.0000      0.0000      0.0000      0.0000   \n27986      0.0000      0.0000      0.0000      0.0000      0.0000      0.0000   \n27987      0.0000      0.0000      0.0000      0.0000      0.0000      0.0000   \n27988      4.0387         NaN         NaN         NaN         NaN         NaN   \n27989      0.0000      0.0000      0.0000      0.0000      0.0000      0.0000   \n\n       GSM2668086  GSM2668087  GSM2668088  GSM2668089  \n0        254.7605    143.2263    174.3319    202.3253  \n1          0.0000      0.0000      0.0000      0.0000  \n2        613.1214    374.0965    302.6622    454.0570  \n3        196.5995    185.3106    260.9485    183.7584  \n4        204.1681    186.2225    127.6457    172.0572  \n...           ...         ...         ...         ...  \n27985      0.0000      0.0000      0.0000      0.0000  \n27986      0.0000      0.0000      0.0000      0.0000  \n27987      0.0000      0.0000      0.0000      0.0000  \n27988         NaN         NaN         NaN         NaN  \n27989      0.0000      0.0000      0.0000      0.0000  \n\n[27990 rows x 51 columns]",
      "text/html": "<div>\n<style scoped>\n    .dataframe tbody tr th:only-of-type {\n        vertical-align: middle;\n    }\n\n    .dataframe tbody tr th {\n        vertical-align: top;\n    }\n\n    .dataframe thead th {\n        text-align: right;\n    }\n</style>\n<table border=\"1\" class=\"dataframe\">\n  <thead>\n    <tr style=\"text-align: right;\">\n      <th></th>\n      <th>gene</th>\n      <th>gene_symbol</th>\n      <th>GSM2667747</th>\n      <th>GSM2667748</th>\n      <th>GSM2667749</th>\n      <th>GSM2667750</th>\n      <th>GSM2667751</th>\n      <th>GSM2667752</th>\n      <th>GSM2667753</th>\n      <th>GSM2667754</th>\n      <th>...</th>\n      <th>GSM2667786</th>\n      <th>GSM2668081</th>\n      <th>GSM2668082</th>\n      <th>GSM2668083</th>\n      <th>GSM2668084</th>\n      <th>GSM2668085</th>\n      <th>GSM2668086</th>\n      <th>GSM2668087</th>\n      <th>GSM2668088</th>\n      <th>GSM2668089</th>\n    </tr>\n  </thead>\n  <tbody>\n    <tr>\n      <th>0</th>\n      <td>ENSG00000000003</td>\n      <td>TSPAN6</td>\n      <td>1766.0677</td>\n      <td>420.8206</td>\n      <td>300.8009</td>\n      <td>3142.8439</td>\n      <td>2207.8392</td>\n      <td>4367.5056</td>\n      <td>228.5759</td>\n      <td>650.3287</td>\n      <td>...</td>\n      <td>2539.2382</td>\n      <td>265.0806</td>\n      <td>300.3062</td>\n      <td>331.6881</td>\n      <td>183.7755</td>\n      <td>278.5022</td>\n      <td>254.7605</td>\n      <td>143.2263</td>\n      <td>174.3319</td>\n      <td>202.3253</td>\n    </tr>\n    <tr>\n      <th>1</th>\n      <td>ENSG00000000005</td>\n      <td>TNMD</td>\n      <td>43.9280</td>\n      <td>18.0091</td>\n      <td>0.0000</td>\n      <td>115.8917</td>\n      <td>63.5936</td>\n      <td>39.7803</td>\n      <td>11.7588</td>\n      <td>1.0153</td>\n      <td>...</td>\n      <td>662.0918</td>\n      <td>0.0000</td>\n      <td>0.0000</td>\n      <td>0.0000</td>\n      <td>0.0000</td>\n      <td>0.0000</td>\n      <td>0.0000</td>\n      <td>0.0000</td>\n      <td>0.0000</td>\n      <td>0.0000</td>\n    </tr>\n    <tr>\n      <th>2</th>\n      <td>ENSG00000000419</td>\n      <td>DPM1</td>\n      <td>1097.7855</td>\n      <td>367.2333</td>\n      <td>316.5226</td>\n      <td>3895.0588</td>\n      <td>1536.1375</td>\n      <td>1084.5276</td>\n      <td>127.7205</td>\n      <td>245.1014</td>\n      <td>...</td>\n      <td>1736.9615</td>\n      <td>537.7681</td>\n      <td>461.4597</td>\n      <td>436.1302</td>\n      <td>416.2508</td>\n      <td>568.8483</td>\n      <td>613.1214</td>\n      <td>374.0965</td>\n      <td>302.6622</td>\n      <td>454.0570</td>\n    </tr>\n    <tr>\n      <th>3</th>\n      <td>ENSG00000000457</td>\n      <td>SCYL3</td>\n      <td>601.4702</td>\n      <td>270.9239</td>\n      <td>163.6869</td>\n      <td>1177.2241</td>\n      <td>873.9074</td>\n      <td>845.1423</td>\n      <td>229.8548</td>\n      <td>134.4694</td>\n      <td>...</td>\n      <td>939.7315</td>\n      <td>157.2023</td>\n      <td>151.5847</td>\n      <td>196.0139</td>\n      <td>142.7542</td>\n      <td>170.0119</td>\n      <td>196.5995</td>\n      <td>185.3106</td>\n      <td>260.9485</td>\n      <td>183.7584</td>\n    </tr>\n    <tr>\n      <th>4</th>\n      <td>ENSG00000000460</td>\n      <td>C1orf112</td>\n      <td>1040.8861</td>\n      <td>349.1418</td>\n      <td>298.1800</td>\n      <td>1967.3975</td>\n      <td>2115.2425</td>\n      <td>980.9359</td>\n      <td>253.4457</td>\n      <td>145.7038</td>\n      <td>...</td>\n      <td>338.4995</td>\n      <td>83.2406</td>\n      <td>63.1939</td>\n      <td>50.6896</td>\n      <td>71.3720</td>\n      <td>161.8204</td>\n      <td>204.1681</td>\n      <td>186.2225</td>\n      <td>127.6457</td>\n      <td>172.0572</td>\n    </tr>\n    <tr>\n      <th>...</th>\n      <td>...</td>\n      <td>...</td>\n      <td>...</td>\n      <td>...</td>\n      <td>...</td>\n      <td>...</td>\n      <td>...</td>\n      <td>...</td>\n      <td>...</td>\n      <td>...</td>\n      <td>...</td>\n      <td>...</td>\n      <td>...</td>\n      <td>...</td>\n      <td>...</td>\n      <td>...</td>\n      <td>...</td>\n      <td>...</td>\n      <td>...</td>\n      <td>...</td>\n      <td>...</td>\n    </tr>\n    <tr>\n      <th>27985</th>\n      <td>ENSG00000283688</td>\n      <td>MIR6715B</td>\n      <td>0.0000</td>\n      <td>0.0000</td>\n      <td>0.0000</td>\n      <td>0.0000</td>\n      <td>0.0000</td>\n      <td>0.0000</td>\n      <td>0.0000</td>\n      <td>0.0000</td>\n      <td>...</td>\n      <td>0.0000</td>\n      <td>0.0000</td>\n      <td>0.0000</td>\n      <td>0.0000</td>\n      <td>0.0000</td>\n      <td>0.0000</td>\n      <td>0.0000</td>\n      <td>0.0000</td>\n      <td>0.0000</td>\n      <td>0.0000</td>\n    </tr>\n    <tr>\n      <th>27986</th>\n      <td>ENSG00000283690</td>\n      <td>MIR3116-2</td>\n      <td>0.0000</td>\n      <td>0.0000</td>\n      <td>0.0000</td>\n      <td>0.0000</td>\n      <td>0.0000</td>\n      <td>0.0000</td>\n      <td>0.0000</td>\n      <td>0.0000</td>\n      <td>...</td>\n      <td>0.0000</td>\n      <td>0.0000</td>\n      <td>0.0000</td>\n      <td>0.0000</td>\n      <td>0.0000</td>\n      <td>0.0000</td>\n      <td>0.0000</td>\n      <td>0.0000</td>\n      <td>0.0000</td>\n      <td>0.0000</td>\n    </tr>\n    <tr>\n      <th>27987</th>\n      <td>ENSG00000283694</td>\n      <td>MIR3202-2</td>\n      <td>0.0000</td>\n      <td>0.0000</td>\n      <td>0.0000</td>\n      <td>0.0000</td>\n      <td>0.0000</td>\n      <td>0.0000</td>\n      <td>0.0000</td>\n      <td>0.0000</td>\n      <td>...</td>\n      <td>0.0000</td>\n      <td>0.0000</td>\n      <td>0.0000</td>\n      <td>0.0000</td>\n      <td>0.0000</td>\n      <td>0.0000</td>\n      <td>0.0000</td>\n      <td>0.0000</td>\n      <td>0.0000</td>\n      <td>0.0000</td>\n    </tr>\n    <tr>\n      <th>27988</th>\n      <td>ENSG00000283697</td>\n      <td>LOC101928917</td>\n      <td>1.7315</td>\n      <td>0.0000</td>\n      <td>0.0000</td>\n      <td>0.0000</td>\n      <td>2.0039</td>\n      <td>3.9899</td>\n      <td>2.5184</td>\n      <td>4.1298</td>\n      <td>...</td>\n      <td>4.0387</td>\n      <td>NaN</td>\n      <td>NaN</td>\n      <td>NaN</td>\n      <td>NaN</td>\n      <td>NaN</td>\n      <td>NaN</td>\n      <td>NaN</td>\n      <td>NaN</td>\n      <td>NaN</td>\n    </tr>\n    <tr>\n      <th>27989</th>\n      <td>ENSG00000283699</td>\n      <td>MIR4481</td>\n      <td>0.0000</td>\n      <td>1.1301</td>\n      <td>0.0000</td>\n      <td>1.3192</td>\n      <td>0.0000</td>\n      <td>0.0000</td>\n      <td>0.0000</td>\n      <td>0.0000</td>\n      <td>...</td>\n      <td>0.0000</td>\n      <td>0.0000</td>\n      <td>0.0000</td>\n      <td>0.0000</td>\n      <td>0.0000</td>\n      <td>0.0000</td>\n      <td>0.0000</td>\n      <td>0.0000</td>\n      <td>0.0000</td>\n      <td>0.0000</td>\n    </tr>\n  </tbody>\n</table>\n<p>27990 rows × 51 columns</p>\n</div>"
     },
     "execution_count": 16,
     "metadata": {},
     "output_type": "execute_result"
    }
   ],
   "source": [
    "count_matrix_human_df = pd.read_pickle(filenames[\"data\"])\n",
    "count_matrix_human_df"
   ],
   "metadata": {
    "collapsed": false,
    "ExecuteTime": {
     "end_time": "2024-07-19T17:47:05.532872Z",
     "start_time": "2024-07-19T17:47:05.513392Z"
    }
   },
   "id": "45cb11c62a37b847"
  },
  {
   "cell_type": "code",
   "execution_count": 17,
   "outputs": [],
   "source": [
    "# Accessing the geo_accession ID and study species from overview\n",
    "geo_accession_ids = []\n",
    "species = []\n",
    " \n",
    "# saving the species in each GSE\n",
    "GSE_species = {'geo_accession_id': geo_accession_ids, 'species': species}\n",
    "GSE_species_df = pd.DataFrame.from_dict(GSE_species)"
   ],
   "metadata": {
    "collapsed": false
   },
   "id": "d7c098d1"
  },
  {
   "cell_type": "code",
   "execution_count": 15,
   "id": "d7e11f7f",
   "metadata": {
    "ExecuteTime": {
     "end_time": "2024-07-19T16:31:42.774150Z",
     "start_time": "2024-07-19T16:25:41.636769Z"
    }
   },
   "outputs": [
    {
     "name": "stdout",
     "output_type": "stream",
     "text": [
      "********* | GSE100007 | ***********\n",
      "...get data from API...\n"
     ]
    },
    {
     "ename": "ChunkedEncodingError",
     "evalue": "(\"Connection broken: ConnectionResetError(54, 'Connection reset by peer')\", ConnectionResetError(54, 'Connection reset by peer'))",
     "output_type": "error",
     "traceback": [
      "\u001B[0;31m---------------------------------------------------------------------------\u001B[0m",
      "\u001B[0;31mConnectionResetError\u001B[0m                      Traceback (most recent call last)",
      "File \u001B[0;32m~/anaconda3/lib/python3.11/site-packages/urllib3/response.py:737\u001B[0m, in \u001B[0;36mHTTPResponse._error_catcher\u001B[0;34m(self)\u001B[0m\n\u001B[1;32m    736\u001B[0m \u001B[38;5;28;01mtry\u001B[39;00m:\n\u001B[0;32m--> 737\u001B[0m     \u001B[38;5;28;01myield\u001B[39;00m\n\u001B[1;32m    739\u001B[0m \u001B[38;5;28;01mexcept\u001B[39;00m SocketTimeout \u001B[38;5;28;01mas\u001B[39;00m e:\n\u001B[1;32m    740\u001B[0m     \u001B[38;5;66;03m# FIXME: Ideally we'd like to include the url in the ReadTimeoutError but\u001B[39;00m\n\u001B[1;32m    741\u001B[0m     \u001B[38;5;66;03m# there is yet no clean way to get at it from this context.\u001B[39;00m\n",
      "File \u001B[0;32m~/anaconda3/lib/python3.11/site-packages/urllib3/response.py:1187\u001B[0m, in \u001B[0;36mHTTPResponse.read_chunked\u001B[0;34m(self, amt, decode_content)\u001B[0m\n\u001B[1;32m   1186\u001B[0m     \u001B[38;5;28;01mbreak\u001B[39;00m\n\u001B[0;32m-> 1187\u001B[0m chunk \u001B[38;5;241m=\u001B[39m \u001B[38;5;28mself\u001B[39m\u001B[38;5;241m.\u001B[39m_handle_chunk(amt)\n\u001B[1;32m   1188\u001B[0m decoded \u001B[38;5;241m=\u001B[39m \u001B[38;5;28mself\u001B[39m\u001B[38;5;241m.\u001B[39m_decode(\n\u001B[1;32m   1189\u001B[0m     chunk, decode_content\u001B[38;5;241m=\u001B[39mdecode_content, flush_decoder\u001B[38;5;241m=\u001B[39m\u001B[38;5;28;01mFalse\u001B[39;00m\n\u001B[1;32m   1190\u001B[0m )\n",
      "File \u001B[0;32m~/anaconda3/lib/python3.11/site-packages/urllib3/response.py:1138\u001B[0m, in \u001B[0;36mHTTPResponse._handle_chunk\u001B[0;34m(self, amt)\u001B[0m\n\u001B[1;32m   1137\u001B[0m \u001B[38;5;28;01melse\u001B[39;00m:  \u001B[38;5;66;03m# amt > self.chunk_left\u001B[39;00m\n\u001B[0;32m-> 1138\u001B[0m     returned_chunk \u001B[38;5;241m=\u001B[39m \u001B[38;5;28mself\u001B[39m\u001B[38;5;241m.\u001B[39m_fp\u001B[38;5;241m.\u001B[39m_safe_read(\u001B[38;5;28mself\u001B[39m\u001B[38;5;241m.\u001B[39mchunk_left)  \u001B[38;5;66;03m# type: ignore[union-attr]\u001B[39;00m\n\u001B[1;32m   1139\u001B[0m     \u001B[38;5;28mself\u001B[39m\u001B[38;5;241m.\u001B[39m_fp\u001B[38;5;241m.\u001B[39m_safe_read(\u001B[38;5;241m2\u001B[39m)  \u001B[38;5;66;03m# type: ignore[union-attr] # Toss the CRLF at the end of the chunk.\u001B[39;00m\n",
      "File \u001B[0;32m~/anaconda3/lib/python3.11/http/client.py:638\u001B[0m, in \u001B[0;36mHTTPResponse._safe_read\u001B[0;34m(self, amt)\u001B[0m\n\u001B[1;32m    632\u001B[0m \u001B[38;5;250m\u001B[39m\u001B[38;5;124;03m\"\"\"Read the number of bytes requested.\u001B[39;00m\n\u001B[1;32m    633\u001B[0m \n\u001B[1;32m    634\u001B[0m \u001B[38;5;124;03mThis function should be used when <amt> bytes \"should\" be present for\u001B[39;00m\n\u001B[1;32m    635\u001B[0m \u001B[38;5;124;03mreading. If the bytes are truly not available (due to EOF), then the\u001B[39;00m\n\u001B[1;32m    636\u001B[0m \u001B[38;5;124;03mIncompleteRead exception can be used to detect the problem.\u001B[39;00m\n\u001B[1;32m    637\u001B[0m \u001B[38;5;124;03m\"\"\"\u001B[39;00m\n\u001B[0;32m--> 638\u001B[0m data \u001B[38;5;241m=\u001B[39m \u001B[38;5;28mself\u001B[39m\u001B[38;5;241m.\u001B[39mfp\u001B[38;5;241m.\u001B[39mread(amt)\n\u001B[1;32m    639\u001B[0m \u001B[38;5;28;01mif\u001B[39;00m \u001B[38;5;28mlen\u001B[39m(data) \u001B[38;5;241m<\u001B[39m amt:\n",
      "File \u001B[0;32m~/anaconda3/lib/python3.11/socket.py:706\u001B[0m, in \u001B[0;36mSocketIO.readinto\u001B[0;34m(self, b)\u001B[0m\n\u001B[1;32m    705\u001B[0m \u001B[38;5;28;01mtry\u001B[39;00m:\n\u001B[0;32m--> 706\u001B[0m     \u001B[38;5;28;01mreturn\u001B[39;00m \u001B[38;5;28mself\u001B[39m\u001B[38;5;241m.\u001B[39m_sock\u001B[38;5;241m.\u001B[39mrecv_into(b)\n\u001B[1;32m    707\u001B[0m \u001B[38;5;28;01mexcept\u001B[39;00m timeout:\n",
      "\u001B[0;31mConnectionResetError\u001B[0m: [Errno 54] Connection reset by peer",
      "\nThe above exception was the direct cause of the following exception:\n",
      "\u001B[0;31mProtocolError\u001B[0m                             Traceback (most recent call last)",
      "File \u001B[0;32m~/anaconda3/lib/python3.11/site-packages/requests/models.py:820\u001B[0m, in \u001B[0;36mResponse.iter_content.<locals>.generate\u001B[0;34m()\u001B[0m\n\u001B[1;32m    819\u001B[0m \u001B[38;5;28;01mtry\u001B[39;00m:\n\u001B[0;32m--> 820\u001B[0m     \u001B[38;5;28;01myield from\u001B[39;00m \u001B[38;5;28mself\u001B[39m\u001B[38;5;241m.\u001B[39mraw\u001B[38;5;241m.\u001B[39mstream(chunk_size, decode_content\u001B[38;5;241m=\u001B[39m\u001B[38;5;28;01mTrue\u001B[39;00m)\n\u001B[1;32m    821\u001B[0m \u001B[38;5;28;01mexcept\u001B[39;00m ProtocolError \u001B[38;5;28;01mas\u001B[39;00m e:\n",
      "File \u001B[0;32m~/anaconda3/lib/python3.11/site-packages/urllib3/response.py:1040\u001B[0m, in \u001B[0;36mHTTPResponse.stream\u001B[0;34m(self, amt, decode_content)\u001B[0m\n\u001B[1;32m   1039\u001B[0m \u001B[38;5;28;01mif\u001B[39;00m \u001B[38;5;28mself\u001B[39m\u001B[38;5;241m.\u001B[39mchunked \u001B[38;5;129;01mand\u001B[39;00m \u001B[38;5;28mself\u001B[39m\u001B[38;5;241m.\u001B[39msupports_chunked_reads():\n\u001B[0;32m-> 1040\u001B[0m     \u001B[38;5;28;01myield from\u001B[39;00m \u001B[38;5;28mself\u001B[39m\u001B[38;5;241m.\u001B[39mread_chunked(amt, decode_content\u001B[38;5;241m=\u001B[39mdecode_content)\n\u001B[1;32m   1041\u001B[0m \u001B[38;5;28;01melse\u001B[39;00m:\n",
      "File \u001B[0;32m~/anaconda3/lib/python3.11/site-packages/urllib3/response.py:1172\u001B[0m, in \u001B[0;36mHTTPResponse.read_chunked\u001B[0;34m(self, amt, decode_content)\u001B[0m\n\u001B[1;32m   1167\u001B[0m     \u001B[38;5;28;01mraise\u001B[39;00m BodyNotHttplibCompatible(\n\u001B[1;32m   1168\u001B[0m         \u001B[38;5;124m\"\u001B[39m\u001B[38;5;124mBody should be http.client.HTTPResponse like. \u001B[39m\u001B[38;5;124m\"\u001B[39m\n\u001B[1;32m   1169\u001B[0m         \u001B[38;5;124m\"\u001B[39m\u001B[38;5;124mIt should have have an fp attribute which returns raw chunks.\u001B[39m\u001B[38;5;124m\"\u001B[39m\n\u001B[1;32m   1170\u001B[0m     )\n\u001B[0;32m-> 1172\u001B[0m \u001B[38;5;28;01mwith\u001B[39;00m \u001B[38;5;28mself\u001B[39m\u001B[38;5;241m.\u001B[39m_error_catcher():\n\u001B[1;32m   1173\u001B[0m     \u001B[38;5;66;03m# Don't bother reading the body of a HEAD request.\u001B[39;00m\n\u001B[1;32m   1174\u001B[0m     \u001B[38;5;28;01mif\u001B[39;00m \u001B[38;5;28mself\u001B[39m\u001B[38;5;241m.\u001B[39m_original_response \u001B[38;5;129;01mand\u001B[39;00m is_response_to_head(\u001B[38;5;28mself\u001B[39m\u001B[38;5;241m.\u001B[39m_original_response):\n",
      "File \u001B[0;32m~/anaconda3/lib/python3.11/contextlib.py:158\u001B[0m, in \u001B[0;36m_GeneratorContextManager.__exit__\u001B[0;34m(self, typ, value, traceback)\u001B[0m\n\u001B[1;32m    157\u001B[0m \u001B[38;5;28;01mtry\u001B[39;00m:\n\u001B[0;32m--> 158\u001B[0m     \u001B[38;5;28mself\u001B[39m\u001B[38;5;241m.\u001B[39mgen\u001B[38;5;241m.\u001B[39mthrow(typ, value, traceback)\n\u001B[1;32m    159\u001B[0m \u001B[38;5;28;01mexcept\u001B[39;00m \u001B[38;5;167;01mStopIteration\u001B[39;00m \u001B[38;5;28;01mas\u001B[39;00m exc:\n\u001B[1;32m    160\u001B[0m     \u001B[38;5;66;03m# Suppress StopIteration *unless* it's the same exception that\u001B[39;00m\n\u001B[1;32m    161\u001B[0m     \u001B[38;5;66;03m# was passed to throw().  This prevents a StopIteration\u001B[39;00m\n\u001B[1;32m    162\u001B[0m     \u001B[38;5;66;03m# raised inside the \"with\" statement from being suppressed.\u001B[39;00m\n",
      "File \u001B[0;32m~/anaconda3/lib/python3.11/site-packages/urllib3/response.py:764\u001B[0m, in \u001B[0;36mHTTPResponse._error_catcher\u001B[0;34m(self)\u001B[0m\n\u001B[1;32m    763\u001B[0m \u001B[38;5;28;01mexcept\u001B[39;00m (HTTPException, \u001B[38;5;167;01mOSError\u001B[39;00m) \u001B[38;5;28;01mas\u001B[39;00m e:\n\u001B[0;32m--> 764\u001B[0m     \u001B[38;5;28;01mraise\u001B[39;00m ProtocolError(\u001B[38;5;124mf\u001B[39m\u001B[38;5;124m\"\u001B[39m\u001B[38;5;124mConnection broken: \u001B[39m\u001B[38;5;132;01m{\u001B[39;00me\u001B[38;5;132;01m!r}\u001B[39;00m\u001B[38;5;124m\"\u001B[39m, e) \u001B[38;5;28;01mfrom\u001B[39;00m \u001B[38;5;21;01me\u001B[39;00m\n\u001B[1;32m    766\u001B[0m \u001B[38;5;66;03m# If no exception is thrown, we should avoid cleaning up\u001B[39;00m\n\u001B[1;32m    767\u001B[0m \u001B[38;5;66;03m# unnecessarily.\u001B[39;00m\n",
      "\u001B[0;31mProtocolError\u001B[0m: (\"Connection broken: ConnectionResetError(54, 'Connection reset by peer')\", ConnectionResetError(54, 'Connection reset by peer'))",
      "\nDuring handling of the above exception, another exception occurred:\n",
      "\u001B[0;31mChunkedEncodingError\u001B[0m                      Traceback (most recent call last)",
      "Cell \u001B[0;32mIn[15], line 15\u001B[0m\n\u001B[1;32m     12\u001B[0m logfile\u001B[38;5;241m.\u001B[39mwrite(geo_accession \u001B[38;5;241m+\u001B[39m \u001B[38;5;124m\"\u001B[39m\u001B[38;5;124m,start\u001B[39m\u001B[38;5;130;01m\\n\u001B[39;00m\u001B[38;5;124m\"\u001B[39m)\n\u001B[1;32m     14\u001B[0m \u001B[38;5;28mprint\u001B[39m(\u001B[38;5;124m\"\u001B[39m\u001B[38;5;124m...get data from API...\u001B[39m\u001B[38;5;124m\"\u001B[39m)\n\u001B[0;32m---> 15\u001B[0m count_matrix_human_df, sample_data_human \u001B[38;5;241m=\u001B[39m load_data(geo_accession, count_matrix_human_df, sample_data_human)\n\u001B[1;32m     17\u001B[0m logfile\u001B[38;5;241m.\u001B[39mwrite(geo_accession \u001B[38;5;241m+\u001B[39m \u001B[38;5;124m\"\u001B[39m\u001B[38;5;124m,write\u001B[39m\u001B[38;5;130;01m\\n\u001B[39;00m\u001B[38;5;124m\"\u001B[39m)\n\u001B[1;32m     18\u001B[0m \u001B[38;5;28mprint\u001B[39m(\u001B[38;5;124m\"\u001B[39m\u001B[38;5;124m... writing data...\u001B[39m\u001B[38;5;124m\"\u001B[39m)\n",
      "Cell \u001B[0;32mIn[12], line 2\u001B[0m, in \u001B[0;36mload_data\u001B[0;34m(geo_accession, count_matrix_df, greinMetadata)\u001B[0m\n\u001B[1;32m      1\u001B[0m \u001B[38;5;28;01mdef\u001B[39;00m \u001B[38;5;21mload_data\u001B[39m(geo_accession, count_matrix_df, greinMetadata):\n\u001B[0;32m----> 2\u001B[0m     description, metadata, count_matrix \u001B[38;5;241m=\u001B[39m loader\u001B[38;5;241m.\u001B[39mload_dataset(geo_accession)\n\u001B[1;32m      3\u001B[0m     \u001B[38;5;28mprint\u001B[39m(description)\n\u001B[1;32m      4\u001B[0m     \u001B[38;5;66;03m# Merge in to existing count matrix DF\u001B[39;00m\n",
      "File \u001B[0;32m~/anaconda3/lib/python3.11/site-packages/grein_loader/load_dataset.py:49\u001B[0m, in \u001B[0;36mload_dataset\u001B[0;34m(gse_id, download_type)\u001B[0m\n\u001B[1;32m     47\u001B[0m s \u001B[38;5;241m=\u001B[39m requests\u001B[38;5;241m.\u001B[39msession()  \u001B[38;5;66;03m# requests a session on GREIN, cookies are provided within the session\u001B[39;00m\n\u001B[1;32m     48\u001B[0m \u001B[38;5;28;01mtry\u001B[39;00m:\n\u001B[0;32m---> 49\u001B[0m     r \u001B[38;5;241m=\u001B[39m s\u001B[38;5;241m.\u001B[39mget(grein_url)\n\u001B[1;32m     50\u001B[0m     r\u001B[38;5;241m.\u001B[39mraise_for_status()\n\u001B[1;32m     51\u001B[0m \u001B[38;5;28;01mexcept\u001B[39;00m requests\u001B[38;5;241m.\u001B[39mexceptions\u001B[38;5;241m.\u001B[39mHTTPError \u001B[38;5;28;01mas\u001B[39;00m err:\n",
      "File \u001B[0;32m~/anaconda3/lib/python3.11/site-packages/requests/sessions.py:602\u001B[0m, in \u001B[0;36mSession.get\u001B[0;34m(self, url, **kwargs)\u001B[0m\n\u001B[1;32m    594\u001B[0m \u001B[38;5;250m\u001B[39m\u001B[38;5;124mr\u001B[39m\u001B[38;5;124;03m\"\"\"Sends a GET request. Returns :class:`Response` object.\u001B[39;00m\n\u001B[1;32m    595\u001B[0m \n\u001B[1;32m    596\u001B[0m \u001B[38;5;124;03m:param url: URL for the new :class:`Request` object.\u001B[39;00m\n\u001B[1;32m    597\u001B[0m \u001B[38;5;124;03m:param \\*\\*kwargs: Optional arguments that ``request`` takes.\u001B[39;00m\n\u001B[1;32m    598\u001B[0m \u001B[38;5;124;03m:rtype: requests.Response\u001B[39;00m\n\u001B[1;32m    599\u001B[0m \u001B[38;5;124;03m\"\"\"\u001B[39;00m\n\u001B[1;32m    601\u001B[0m kwargs\u001B[38;5;241m.\u001B[39msetdefault(\u001B[38;5;124m\"\u001B[39m\u001B[38;5;124mallow_redirects\u001B[39m\u001B[38;5;124m\"\u001B[39m, \u001B[38;5;28;01mTrue\u001B[39;00m)\n\u001B[0;32m--> 602\u001B[0m \u001B[38;5;28;01mreturn\u001B[39;00m \u001B[38;5;28mself\u001B[39m\u001B[38;5;241m.\u001B[39mrequest(\u001B[38;5;124m\"\u001B[39m\u001B[38;5;124mGET\u001B[39m\u001B[38;5;124m\"\u001B[39m, url, \u001B[38;5;241m*\u001B[39m\u001B[38;5;241m*\u001B[39mkwargs)\n",
      "File \u001B[0;32m~/anaconda3/lib/python3.11/site-packages/requests/sessions.py:589\u001B[0m, in \u001B[0;36mSession.request\u001B[0;34m(self, method, url, params, data, headers, cookies, files, auth, timeout, allow_redirects, proxies, hooks, stream, verify, cert, json)\u001B[0m\n\u001B[1;32m    584\u001B[0m send_kwargs \u001B[38;5;241m=\u001B[39m {\n\u001B[1;32m    585\u001B[0m     \u001B[38;5;124m\"\u001B[39m\u001B[38;5;124mtimeout\u001B[39m\u001B[38;5;124m\"\u001B[39m: timeout,\n\u001B[1;32m    586\u001B[0m     \u001B[38;5;124m\"\u001B[39m\u001B[38;5;124mallow_redirects\u001B[39m\u001B[38;5;124m\"\u001B[39m: allow_redirects,\n\u001B[1;32m    587\u001B[0m }\n\u001B[1;32m    588\u001B[0m send_kwargs\u001B[38;5;241m.\u001B[39mupdate(settings)\n\u001B[0;32m--> 589\u001B[0m resp \u001B[38;5;241m=\u001B[39m \u001B[38;5;28mself\u001B[39m\u001B[38;5;241m.\u001B[39msend(prep, \u001B[38;5;241m*\u001B[39m\u001B[38;5;241m*\u001B[39msend_kwargs)\n\u001B[1;32m    591\u001B[0m \u001B[38;5;28;01mreturn\u001B[39;00m resp\n",
      "File \u001B[0;32m~/anaconda3/lib/python3.11/site-packages/requests/sessions.py:746\u001B[0m, in \u001B[0;36mSession.send\u001B[0;34m(self, request, **kwargs)\u001B[0m\n\u001B[1;32m    743\u001B[0m         \u001B[38;5;28;01mpass\u001B[39;00m\n\u001B[1;32m    745\u001B[0m \u001B[38;5;28;01mif\u001B[39;00m \u001B[38;5;129;01mnot\u001B[39;00m stream:\n\u001B[0;32m--> 746\u001B[0m     r\u001B[38;5;241m.\u001B[39mcontent\n\u001B[1;32m    748\u001B[0m \u001B[38;5;28;01mreturn\u001B[39;00m r\n",
      "File \u001B[0;32m~/anaconda3/lib/python3.11/site-packages/requests/models.py:902\u001B[0m, in \u001B[0;36mResponse.content\u001B[0;34m(self)\u001B[0m\n\u001B[1;32m    900\u001B[0m         \u001B[38;5;28mself\u001B[39m\u001B[38;5;241m.\u001B[39m_content \u001B[38;5;241m=\u001B[39m \u001B[38;5;28;01mNone\u001B[39;00m\n\u001B[1;32m    901\u001B[0m     \u001B[38;5;28;01melse\u001B[39;00m:\n\u001B[0;32m--> 902\u001B[0m         \u001B[38;5;28mself\u001B[39m\u001B[38;5;241m.\u001B[39m_content \u001B[38;5;241m=\u001B[39m \u001B[38;5;124mb\u001B[39m\u001B[38;5;124m\"\u001B[39m\u001B[38;5;124m\"\u001B[39m\u001B[38;5;241m.\u001B[39mjoin(\u001B[38;5;28mself\u001B[39m\u001B[38;5;241m.\u001B[39miter_content(CONTENT_CHUNK_SIZE)) \u001B[38;5;129;01mor\u001B[39;00m \u001B[38;5;124mb\u001B[39m\u001B[38;5;124m\"\u001B[39m\u001B[38;5;124m\"\u001B[39m\n\u001B[1;32m    904\u001B[0m \u001B[38;5;28mself\u001B[39m\u001B[38;5;241m.\u001B[39m_content_consumed \u001B[38;5;241m=\u001B[39m \u001B[38;5;28;01mTrue\u001B[39;00m\n\u001B[1;32m    905\u001B[0m \u001B[38;5;66;03m# don't need to release the connection; that's been handled by urllib3\u001B[39;00m\n\u001B[1;32m    906\u001B[0m \u001B[38;5;66;03m# since we exhausted the data.\u001B[39;00m\n",
      "File \u001B[0;32m~/anaconda3/lib/python3.11/site-packages/requests/models.py:822\u001B[0m, in \u001B[0;36mResponse.iter_content.<locals>.generate\u001B[0;34m()\u001B[0m\n\u001B[1;32m    820\u001B[0m     \u001B[38;5;28;01myield from\u001B[39;00m \u001B[38;5;28mself\u001B[39m\u001B[38;5;241m.\u001B[39mraw\u001B[38;5;241m.\u001B[39mstream(chunk_size, decode_content\u001B[38;5;241m=\u001B[39m\u001B[38;5;28;01mTrue\u001B[39;00m)\n\u001B[1;32m    821\u001B[0m \u001B[38;5;28;01mexcept\u001B[39;00m ProtocolError \u001B[38;5;28;01mas\u001B[39;00m e:\n\u001B[0;32m--> 822\u001B[0m     \u001B[38;5;28;01mraise\u001B[39;00m ChunkedEncodingError(e)\n\u001B[1;32m    823\u001B[0m \u001B[38;5;28;01mexcept\u001B[39;00m DecodeError \u001B[38;5;28;01mas\u001B[39;00m e:\n\u001B[1;32m    824\u001B[0m     \u001B[38;5;28;01mraise\u001B[39;00m ContentDecodingError(e)\n",
      "\u001B[0;31mChunkedEncodingError\u001B[0m: (\"Connection broken: ConnectionResetError(54, 'Connection reset by peer')\", ConnectionResetError(54, 'Connection reset by peer'))"
     ]
    }
   ],
   "source": [
    "# Saving human gene expression data\n",
    "with open(filenames[\"log\"], \"a\") as logfile:\n",
    "    \n",
    "    for i in overview:\n",
    "        geo_accession_ids.append(overview[i]['geo_accession'])\n",
    "        species.append(overview[i]['species'])\n",
    "    \n",
    "    # Check if this data was logged as loaded\n",
    "    if geo_accession in completed:\n",
    "        print(\"Already done: {0}\".format(geo_accession))\n",
    "        continue\n",
    "        \n",
    "    # If new data, download data and add to df\n",
    "    print(\"********* |\", geo_accession, \"| ***********\")\n",
    "    logfile.write(geo_accession + \",start\\n\")\n",
    "    \n",
    "    count_matrix_human_df, sample_data_human = load_data(geo_accession, count_matrix_human_df, sample_data_human)\n",
    "    \n",
    "    logfile.write(geo_accession + \",write\\n\")\n",
    "    count_matrix_human_df.to_pickle(humanData)\n",
    "    json.dump(sample_data_human, open(humanMetaData, \"w\"))\n",
    "    logfile.write(geo_accession + \",end\\n\")"
   ]
  },
  {
   "cell_type": "code",
   "execution_count": 28,
   "outputs": [
    {
     "data": {
      "text/plain": "                  gene   gene_symbol  GSM2667747  GSM2667748  GSM2667749  \\\n0      ENSG00000000003        TSPAN6   1766.0677    420.8206    300.8009   \n1      ENSG00000000005          TNMD     43.9280     18.0091      0.0000   \n2      ENSG00000000419          DPM1   1097.7855    367.2333    316.5226   \n3      ENSG00000000457         SCYL3    601.4702    270.9239    163.6869   \n4      ENSG00000000460      C1orf112   1040.8861    349.1418    298.1800   \n...                ...           ...         ...         ...         ...   \n27985  ENSG00000283688      MIR6715B      0.0000      0.0000      0.0000   \n27986  ENSG00000283690     MIR3116-2      0.0000      0.0000      0.0000   \n27987  ENSG00000283694     MIR3202-2      0.0000      0.0000      0.0000   \n27988  ENSG00000283697  LOC101928917      1.7315      0.0000      0.0000   \n27989  ENSG00000283699       MIR4481      0.0000      1.1301      0.0000   \n\n       GSM2667750  GSM2667751  GSM2667752  GSM2667753  GSM2667754  ...  \\\n0       3142.8439   2207.8392   4367.5056    228.5759    650.3287  ...   \n1        115.8917     63.5936     39.7803     11.7588      1.0153  ...   \n2       3895.0588   1536.1375   1084.5276    127.7205    245.1014  ...   \n3       1177.2241    873.9074    845.1423    229.8548    134.4694  ...   \n4       1967.3975   2115.2425    980.9359    253.4457    145.7038  ...   \n...           ...         ...         ...         ...         ...  ...   \n27985      0.0000      0.0000      0.0000      0.0000      0.0000  ...   \n27986      0.0000      0.0000      0.0000      0.0000      0.0000  ...   \n27987      0.0000      0.0000      0.0000      0.0000      0.0000  ...   \n27988      0.0000      2.0039      3.9899      2.5184      4.1298  ...   \n27989      1.3192      0.0000      0.0000      0.0000      0.0000  ...   \n\n       GSM2668086  GSM2668087  GSM2668088  GSM2668089  GSM2671001  GSM2671002  \\\n0        254.7605    143.2263    174.3319    202.3253   1053.8788   2405.3001   \n1          0.0000      0.0000      0.0000      0.0000      3.9978     11.0025   \n2        613.1214    374.0965    302.6622    454.0570   1227.1084   2980.0756   \n3        196.5995    185.3106    260.9485    183.7584    586.7993   1504.0115   \n4        204.1681    186.2225    127.6457    172.0572    441.0758   1258.3932   \n...           ...         ...         ...         ...         ...         ...   \n27985      0.0000      0.0000      0.0000      0.0000      0.0000      0.0000   \n27986      0.0000      0.0000      0.0000      0.0000      0.0000      0.0000   \n27987      0.0000      0.0000      0.0000      0.0000      0.0000      0.0000   \n27988         NaN         NaN         NaN         NaN         NaN         NaN   \n27989      0.0000      0.0000      0.0000      0.0000      0.9935      0.0000   \n\n       GSM2671003  GSM2671004  GSM2671005  GSM2671006  \n0        940.5770    973.7475    760.0100   1472.2712  \n1          4.9979      8.0054      3.9978     11.0011  \n2       1045.8061   1098.7163    759.7729   1398.8077  \n3        619.3764    661.9514    469.5312   1113.1412  \n4        466.5542    450.2848    289.2767    467.7875  \n...           ...         ...         ...         ...  \n27985      0.0000      0.0000      0.0000      0.0000  \n27986      0.0000      0.0000      0.0000      0.0000  \n27987      0.0000      0.0000      0.0000      0.0000  \n27988         NaN         NaN         NaN         NaN  \n27989      0.0000      3.0216      1.0072      0.0000  \n\n[27990 rows x 57 columns]",
      "text/html": "<div>\n<style scoped>\n    .dataframe tbody tr th:only-of-type {\n        vertical-align: middle;\n    }\n\n    .dataframe tbody tr th {\n        vertical-align: top;\n    }\n\n    .dataframe thead th {\n        text-align: right;\n    }\n</style>\n<table border=\"1\" class=\"dataframe\">\n  <thead>\n    <tr style=\"text-align: right;\">\n      <th></th>\n      <th>gene</th>\n      <th>gene_symbol</th>\n      <th>GSM2667747</th>\n      <th>GSM2667748</th>\n      <th>GSM2667749</th>\n      <th>GSM2667750</th>\n      <th>GSM2667751</th>\n      <th>GSM2667752</th>\n      <th>GSM2667753</th>\n      <th>GSM2667754</th>\n      <th>...</th>\n      <th>GSM2668086</th>\n      <th>GSM2668087</th>\n      <th>GSM2668088</th>\n      <th>GSM2668089</th>\n      <th>GSM2671001</th>\n      <th>GSM2671002</th>\n      <th>GSM2671003</th>\n      <th>GSM2671004</th>\n      <th>GSM2671005</th>\n      <th>GSM2671006</th>\n    </tr>\n  </thead>\n  <tbody>\n    <tr>\n      <th>0</th>\n      <td>ENSG00000000003</td>\n      <td>TSPAN6</td>\n      <td>1766.0677</td>\n      <td>420.8206</td>\n      <td>300.8009</td>\n      <td>3142.8439</td>\n      <td>2207.8392</td>\n      <td>4367.5056</td>\n      <td>228.5759</td>\n      <td>650.3287</td>\n      <td>...</td>\n      <td>254.7605</td>\n      <td>143.2263</td>\n      <td>174.3319</td>\n      <td>202.3253</td>\n      <td>1053.8788</td>\n      <td>2405.3001</td>\n      <td>940.5770</td>\n      <td>973.7475</td>\n      <td>760.0100</td>\n      <td>1472.2712</td>\n    </tr>\n    <tr>\n      <th>1</th>\n      <td>ENSG00000000005</td>\n      <td>TNMD</td>\n      <td>43.9280</td>\n      <td>18.0091</td>\n      <td>0.0000</td>\n      <td>115.8917</td>\n      <td>63.5936</td>\n      <td>39.7803</td>\n      <td>11.7588</td>\n      <td>1.0153</td>\n      <td>...</td>\n      <td>0.0000</td>\n      <td>0.0000</td>\n      <td>0.0000</td>\n      <td>0.0000</td>\n      <td>3.9978</td>\n      <td>11.0025</td>\n      <td>4.9979</td>\n      <td>8.0054</td>\n      <td>3.9978</td>\n      <td>11.0011</td>\n    </tr>\n    <tr>\n      <th>2</th>\n      <td>ENSG00000000419</td>\n      <td>DPM1</td>\n      <td>1097.7855</td>\n      <td>367.2333</td>\n      <td>316.5226</td>\n      <td>3895.0588</td>\n      <td>1536.1375</td>\n      <td>1084.5276</td>\n      <td>127.7205</td>\n      <td>245.1014</td>\n      <td>...</td>\n      <td>613.1214</td>\n      <td>374.0965</td>\n      <td>302.6622</td>\n      <td>454.0570</td>\n      <td>1227.1084</td>\n      <td>2980.0756</td>\n      <td>1045.8061</td>\n      <td>1098.7163</td>\n      <td>759.7729</td>\n      <td>1398.8077</td>\n    </tr>\n    <tr>\n      <th>3</th>\n      <td>ENSG00000000457</td>\n      <td>SCYL3</td>\n      <td>601.4702</td>\n      <td>270.9239</td>\n      <td>163.6869</td>\n      <td>1177.2241</td>\n      <td>873.9074</td>\n      <td>845.1423</td>\n      <td>229.8548</td>\n      <td>134.4694</td>\n      <td>...</td>\n      <td>196.5995</td>\n      <td>185.3106</td>\n      <td>260.9485</td>\n      <td>183.7584</td>\n      <td>586.7993</td>\n      <td>1504.0115</td>\n      <td>619.3764</td>\n      <td>661.9514</td>\n      <td>469.5312</td>\n      <td>1113.1412</td>\n    </tr>\n    <tr>\n      <th>4</th>\n      <td>ENSG00000000460</td>\n      <td>C1orf112</td>\n      <td>1040.8861</td>\n      <td>349.1418</td>\n      <td>298.1800</td>\n      <td>1967.3975</td>\n      <td>2115.2425</td>\n      <td>980.9359</td>\n      <td>253.4457</td>\n      <td>145.7038</td>\n      <td>...</td>\n      <td>204.1681</td>\n      <td>186.2225</td>\n      <td>127.6457</td>\n      <td>172.0572</td>\n      <td>441.0758</td>\n      <td>1258.3932</td>\n      <td>466.5542</td>\n      <td>450.2848</td>\n      <td>289.2767</td>\n      <td>467.7875</td>\n    </tr>\n    <tr>\n      <th>...</th>\n      <td>...</td>\n      <td>...</td>\n      <td>...</td>\n      <td>...</td>\n      <td>...</td>\n      <td>...</td>\n      <td>...</td>\n      <td>...</td>\n      <td>...</td>\n      <td>...</td>\n      <td>...</td>\n      <td>...</td>\n      <td>...</td>\n      <td>...</td>\n      <td>...</td>\n      <td>...</td>\n      <td>...</td>\n      <td>...</td>\n      <td>...</td>\n      <td>...</td>\n      <td>...</td>\n    </tr>\n    <tr>\n      <th>27985</th>\n      <td>ENSG00000283688</td>\n      <td>MIR6715B</td>\n      <td>0.0000</td>\n      <td>0.0000</td>\n      <td>0.0000</td>\n      <td>0.0000</td>\n      <td>0.0000</td>\n      <td>0.0000</td>\n      <td>0.0000</td>\n      <td>0.0000</td>\n      <td>...</td>\n      <td>0.0000</td>\n      <td>0.0000</td>\n      <td>0.0000</td>\n      <td>0.0000</td>\n      <td>0.0000</td>\n      <td>0.0000</td>\n      <td>0.0000</td>\n      <td>0.0000</td>\n      <td>0.0000</td>\n      <td>0.0000</td>\n    </tr>\n    <tr>\n      <th>27986</th>\n      <td>ENSG00000283690</td>\n      <td>MIR3116-2</td>\n      <td>0.0000</td>\n      <td>0.0000</td>\n      <td>0.0000</td>\n      <td>0.0000</td>\n      <td>0.0000</td>\n      <td>0.0000</td>\n      <td>0.0000</td>\n      <td>0.0000</td>\n      <td>...</td>\n      <td>0.0000</td>\n      <td>0.0000</td>\n      <td>0.0000</td>\n      <td>0.0000</td>\n      <td>0.0000</td>\n      <td>0.0000</td>\n      <td>0.0000</td>\n      <td>0.0000</td>\n      <td>0.0000</td>\n      <td>0.0000</td>\n    </tr>\n    <tr>\n      <th>27987</th>\n      <td>ENSG00000283694</td>\n      <td>MIR3202-2</td>\n      <td>0.0000</td>\n      <td>0.0000</td>\n      <td>0.0000</td>\n      <td>0.0000</td>\n      <td>0.0000</td>\n      <td>0.0000</td>\n      <td>0.0000</td>\n      <td>0.0000</td>\n      <td>...</td>\n      <td>0.0000</td>\n      <td>0.0000</td>\n      <td>0.0000</td>\n      <td>0.0000</td>\n      <td>0.0000</td>\n      <td>0.0000</td>\n      <td>0.0000</td>\n      <td>0.0000</td>\n      <td>0.0000</td>\n      <td>0.0000</td>\n    </tr>\n    <tr>\n      <th>27988</th>\n      <td>ENSG00000283697</td>\n      <td>LOC101928917</td>\n      <td>1.7315</td>\n      <td>0.0000</td>\n      <td>0.0000</td>\n      <td>0.0000</td>\n      <td>2.0039</td>\n      <td>3.9899</td>\n      <td>2.5184</td>\n      <td>4.1298</td>\n      <td>...</td>\n      <td>NaN</td>\n      <td>NaN</td>\n      <td>NaN</td>\n      <td>NaN</td>\n      <td>NaN</td>\n      <td>NaN</td>\n      <td>NaN</td>\n      <td>NaN</td>\n      <td>NaN</td>\n      <td>NaN</td>\n    </tr>\n    <tr>\n      <th>27989</th>\n      <td>ENSG00000283699</td>\n      <td>MIR4481</td>\n      <td>0.0000</td>\n      <td>1.1301</td>\n      <td>0.0000</td>\n      <td>1.3192</td>\n      <td>0.0000</td>\n      <td>0.0000</td>\n      <td>0.0000</td>\n      <td>0.0000</td>\n      <td>...</td>\n      <td>0.0000</td>\n      <td>0.0000</td>\n      <td>0.0000</td>\n      <td>0.0000</td>\n      <td>0.9935</td>\n      <td>0.0000</td>\n      <td>0.0000</td>\n      <td>3.0216</td>\n      <td>1.0072</td>\n      <td>0.0000</td>\n    </tr>\n  </tbody>\n</table>\n<p>27990 rows × 57 columns</p>\n</div>"
     },
     "execution_count": 28,
     "metadata": {},
     "output_type": "execute_result"
    }
   ],
   "source": [
    "pd.read_pickle(humanData)"
   ],
   "metadata": {
    "collapsed": false,
    "ExecuteTime": {
     "end_time": "2024-07-12T17:12:04.989606Z",
     "start_time": "2024-07-12T17:12:04.931187Z"
    }
   },
   "id": "8035da339504313c"
  },
  {
   "cell_type": "code",
   "execution_count": null,
   "id": "2e20187b",
   "metadata": {},
   "outputs": [
    {
     "name": "stdout",
     "output_type": "stream",
     "text": [
      "********* | GSE100007 | ***********\n",
      "********* | GSE100027 | ***********\n",
      "********* | GSE100040 | ***********\n",
      "********* | GSE100075 | ***********\n",
      "********* | GSE100081 | ***********\n",
      "********* | GSE100092 | ***********\n",
      "********* | GSE100099 | ***********\n",
      "********* | GSE100118 | ***********\n",
      "********* | GSE100183 | ***********\n",
      "********* | GSE100206 | ***********\n",
      "********* | GSE100210 | ***********\n",
      "********* | GSE100223 | ***********\n",
      "********* | GSE100258 | ***********\n",
      "********* | GSE100266 | ***********\n",
      "********* | GSE100268 | ***********\n",
      "********* | GSE100291 | ***********\n",
      "********* | GSE100297 | ***********\n",
      "********* | GSE100327 | ***********\n",
      "********* | GSE100338 | ***********\n",
      "********* | GSE100359 | ***********\n",
      "********* | GSE100382 | ***********\n",
      "********* | GSE100392 | ***********\n",
      "********* | GSE100408 | ***********\n",
      "********* | GSE100417 | ***********\n",
      "********* | GSE100427 | ***********\n",
      "********* | GSE100501 | ***********\n",
      "********* | GSE100520 | ***********\n",
      "********* | GSE100530 | ***********\n",
      "********* | GSE100562 | ***********\n",
      "********* | GSE100568 | ***********\n"
     ]
    }
   ],
   "source": [
    "# Saving mice gene expression data\n",
    "\n",
    "# Check if there is already data downloaded or whether we are starting fresh\n",
    "if os.path.exists(\"greinLoadMice.log\") and os.path.exists(\"download/grein_count_matrix_mice.pkl\"): \n",
    "    count_matrix_human_df = pd.read_pickle(\"download/grein_count_matrix_mice.pkl\")\n",
    "    completed = load_log(\"Mice\")\n",
    "\n",
    "else:\n",
    "    count_matrix_mice_df = pd.DataFrame()\n",
    "    completed = set()\n",
    "    os.system(\"touch greinLoadMice.log\")\n",
    "\n",
    "with open(\"greinLoadMice.log\", \"a\") as logfile:\n",
    "    for geo_accession in geo_accession_ids:\n",
    "        \n",
    "        # Check if this data was succesfully pickled\n",
    "        if geo_accession in completed:\n",
    "            continue\n",
    "            \n",
    "        # If new data, download data and add to df\n",
    "        print(\"********* |\", geo_accession, \"| ***********\")\n",
    "        logfile.write(geo_accession + \",start\\n\")\n",
    "        description, metadata, count_matrix = loader.load_dataset(geo_accession)\n",
    "        # print(\"Description: \", description)\n",
    "        \n",
    "        # Merge in to existing count matrix DF\n",
    "        if count_matrix_human_df.empty:\n",
    "            count_matrix_human_df = count_matrix\n",
    "        else:\n",
    "            count_matrix_human_df = pd.merge(count_matrix_human_df, count_matrix,  how='left', on=[\"gene\", \"gene_symbol\"])\n",
    "        \n",
    "        logfile.write(geo_accession + \",write\\n\")\n",
    "        count_matrix_human_df.to_pickle(\"download/grein_count_matrix_human.pkl\")\n",
    "        logfile.write(geo_accession + \",end\\n\")"
   ]
  },
  {
   "cell_type": "code",
   "execution_count": null,
   "id": "f785e872",
   "metadata": {},
   "outputs": [],
   "source": [
    "pd.read_pickle(\"download/grein_count_matrix_human.pkl\")\n"
   ]
  },
  {
   "cell_type": "code",
   "execution_count": null,
   "id": "14c48bb9",
   "metadata": {},
   "outputs": [],
   "source": [
    "# Loading data from the data sets using the geo_accession IDs\n",
    "# NOTE this does not save/pickle the description or metadata at all\n",
    "\n",
    "with open(\"greinLoad.log\", \"a\") as logfile:\n",
    "    for geo_accession in geo_accession_ids:\n",
    "        \n",
    "        # Check if this data was succesfully pickled\n",
    "        if geo_accession in completed:\n",
    "            continue\n",
    "            \n",
    "        # If new data, download data and add to df\n",
    "        print(\"********* |\", geo_accession, \"| ***********\")\n",
    "        logfile.write(geo_accession + \",start\\n\")\n",
    "        description, metadata, count_matrix = loader.load_dataset(geo_accession)\n",
    "        # print(\"Description: \", description)\n",
    "        \n",
    "        # Merge in to existing count matrix DF\n",
    "        if count_matrix_df.empty:\n",
    "            count_matrix_df = count_matrix\n",
    "        else:\n",
    "            count_matrix_df = pd.merge(count_matrix_df, count_matrix,  how='left', on=[\"gene\", \"gene_symbol\"])\n",
    "        \n",
    "        logfile.write(geo_accession + \",write\\n\")\n",
    "        count_matrix_df.to_pickle(\"download/grein_count_matrix.pkl\")\n",
    "        logfile.write(geo_accession + \",end\\n\")\n",
    "        \n",
    "        break"
   ]
  },
  {
   "cell_type": "code",
   "execution_count": null,
   "id": "7ab50fdd-e162-4f5f-8382-7a96c93c5902",
   "metadata": {},
   "outputs": [],
   "source": [
    "# Timimg the loading of data sets\n",
    "start = time.time()\n",
    "print(loader.load_overview(10))\n",
    "end = time.time()\n",
    "print(end-start)"
   ]
  },
  {
   "cell_type": "markdown",
   "id": "07d59c22",
   "metadata": {},
   "source": [
    "## Save the data loaded above"
   ]
  },
  {
   "cell_type": "code",
   "execution_count": null,
   "id": "80d0f997",
   "metadata": {},
   "outputs": [],
   "source": [
    "import random\n",
    "from sklearn.model_selection import train_test_split\n",
    "import json\n",
    "import sys"
   ]
  },
  {
   "cell_type": "markdown",
   "id": "9ba973b3",
   "metadata": {},
   "source": [
    "**Count_matrix**"
   ]
  },
  {
   "cell_type": "code",
   "execution_count": null,
   "id": "d7dda5ce",
   "metadata": {},
   "outputs": [],
   "source": [
    "path = os.path.join(os.getcwd(), 'download', 'count_matrix.tsv')\n",
    "with open(path, 'w') as file:\n",
    "    count_matrix_df.to_csv(path, sep=\"\\t\") "
   ]
  },
  {
   "cell_type": "markdown",
   "id": "339e5023",
   "metadata": {},
   "source": [
    "**Description**"
   ]
  },
  {
   "cell_type": "code",
   "execution_count": null,
   "id": "f15f8b9a",
   "metadata": {},
   "outputs": [],
   "source": [
    "# Save description. Currently saves description for only one data set at a time\n",
    "path = os.path.join('download', 'description.json')\n",
    "with open(path, 'w') as file:\n",
    "    # Serialize and write the variable to the file\n",
    "    json.dump(description, file)"
   ]
  },
  {
   "cell_type": "markdown",
   "id": "724557b3",
   "metadata": {},
   "source": [
    "**Metadata**"
   ]
  },
  {
   "cell_type": "code",
   "execution_count": null,
   "id": "eec21cf5",
   "metadata": {},
   "outputs": [],
   "source": [
    "# Create a dataframe from metadata\n",
    "metadata_df = pd.DataFrame.from_dict(metadata)\n",
    "\n",
    "# list of row names in metadata_df\n",
    "row_names = list(metadata_df.index)\n",
    "\n",
    "# Creating a list of rows that we do not require to process this data set\n",
    "unneeded_rows = ['Consent', ' ', 'channel_count', 'organism_ch1', 'relation', 'status']\n",
    "for index in row_names:\n",
    "    if ('contact' in index) or ('date' in index) or ('data_processing' in index) or ('Hash' in index) or ('Date' in index) or ('library' in index):\n",
    "        unneeded_rows.append(index)\n",
    "        \n",
    "# remove unnecessary roles from count_matrix\n",
    "metadata_df.drop(unneeded_rows, axis = 0)"
   ]
  },
  {
   "cell_type": "code",
   "execution_count": null,
   "id": "5cab20d5",
   "metadata": {},
   "outputs": [],
   "source": [
    "print(type(metadata))"
   ]
  },
  {
   "cell_type": "code",
   "execution_count": null,
   "id": "b031d146",
   "metadata": {},
   "outputs": [],
   "source": [
    "print(type(description))"
   ]
  },
  {
   "cell_type": "code",
   "execution_count": null,
   "id": "056e13b8",
   "metadata": {},
   "outputs": [],
   "source": [
    "print(count_matrix_df)"
   ]
  },
  {
   "cell_type": "code",
   "execution_count": null,
   "id": "2b543432",
   "metadata": {},
   "outputs": [],
   "source": [
    "print(count_matrix)"
   ]
  }
 ],
 "metadata": {
  "kernelspec": {
   "display_name": "Python 3 (ipykernel)",
   "language": "python",
   "name": "python3"
  },
  "language_info": {
   "codemirror_mode": {
    "name": "ipython",
    "version": 3
   },
   "file_extension": ".py",
   "mimetype": "text/x-python",
   "name": "python",
   "nbconvert_exporter": "python",
   "pygments_lexer": "ipython3",
   "version": "3.12.4"
  }
 },
 "nbformat": 4,
 "nbformat_minor": 5
}
