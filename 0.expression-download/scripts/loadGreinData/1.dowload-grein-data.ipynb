{
 "cells": [
  {
   "cell_type": "code",
   "execution_count": 24,
   "id": "331a0f21",
   "metadata": {
    "ExecuteTime": {
     "end_time": "2024-07-22T15:25:43.202322Z",
     "start_time": "2024-07-22T15:25:43.198147Z"
    }
   },
   "outputs": [],
   "source": [
    "import grein_loader as loader\n",
    "import pandas as pd\n",
    "import os\n",
    "import time\n",
    "import json"
   ]
  },
  {
   "cell_type": "code",
   "execution_count": 66,
   "outputs": [],
   "source": [
    "os.getcwd()\n",
    "number_of_datasets = 2"
   ],
   "metadata": {
    "collapsed": false,
    "ExecuteTime": {
     "end_time": "2024-07-22T22:10:31.812329Z",
     "start_time": "2024-07-22T22:10:31.806050Z"
    }
   },
   "id": "964b2eb2db3eaf0d"
  },
  {
   "cell_type": "code",
   "execution_count": 10,
   "id": "269899538ef2705f",
   "metadata": {
    "ExecuteTime": {
     "end_time": "2024-07-22T14:59:08.315610Z",
     "start_time": "2024-07-22T14:59:08.309944Z"
    }
   },
   "outputs": [],
   "source": [
    "# Load log file from disk to see if this data has already been added\n",
    "def load_log(logFile):\n",
    "    log = pd.read_csv(logFile, names=[\"GSE\", \"status\"])\n",
    "    log = log[log[\"status\"] == \"end\"]\n",
    "    return set(log[\"GSE\"].unique())\n"
   ]
  },
  {
   "cell_type": "code",
   "execution_count": 27,
   "outputs": [
    {
     "name": "stdout",
     "output_type": "stream",
     "text": [
      "human\n",
      "...loading existing human data\n",
      "{'geo_accession': 'GSE100007', 'no_samples': 40, 'species': 'Homo sapiens', 'title': 'Widespread translational remodeling during human neuronal differentiation', 'study_summary': 'Faithful cellular differentiation requires precise coordination of changes in gene expression. However, the relative contributions of transcriptional and translational regulation during human cellular differentiation are unclear. Here, we induced forebrain neuronal differentiation of human embryonic stem cells (hESCs) and characterized genome-wide RNA and translation levels during neurogenesis. We find that thousands of genes change at the translation level across differentiation without a corresponding change in RNA level. Specifically, we identify mTOR complex 1 signaling as a key driver for elevated translation of translation-related genes in hESCs. In contrast, translational repression in active neurons is mediated by transcript 3′ UTRs, through regulatory sequences. Together, our findings identify a functional role for the dramatic 3′ UTR extensions that occur during brain development, and provide insights to interpret genetic variants in post-transcriptional control factors that influence neurodevelopmental disorders and diseases.'}\n",
      "{'geo_accession': 'GSE100027', 'no_samples': 9, 'species': 'Homo sapiens', 'title': 'Hit-and-run epigenetic editing prevents senescence entry in primary breast cells from healthy donors [RNA-seq]', 'study_summary': 'Aberrant promoter DNA hypermethylation is a hallmark of cancer; however, whether this is sufficient to drive cellular transformation in the absence of genetic mutations is not clear. To investigate this question, we use a CRISPR/dCas9 based epigenetic editing tool, where an inactive form of Cas9 is fused to DNMT3A and its regulator DNMT3L. Using this system, we show simultaneous de novo DNA methylation of genes commonly methylated in cancer, CDKN2A, RASSF1, HIC1 and PTEN in primary myoepithelial cells isolated from healthy human breast tissue. We find that promoter methylation is maintained in this system, even in the absence of the fusion construct and results in sustained repression of CDKN2A and RASSF1 transcripts which prevents cells from entering senescence. The phenotype is associated with retuned expression of a subset of genes to levels in early passage cells; however, the outgrowing myoepithelial cells are not immortal but proliferate for 18-20 population doublings before cell cycle arrest. Finally, we show that the key driver of this phenotype is repression of CDKN2A transcript p16, but prolonged proliferation is enhanced by combined hypermethylation and repression of both CDKN2A transcripts p16 and p14. This work demonstrates that hit-and-run epigenetic events can prevent senescence entry, a potential first step in the disease process.'}\n",
      "mouse\n",
      "starting mouse download from scratch\n"
     ]
    }
   ],
   "source": [
    "os.listdir(\"./\")"
   ],
   "metadata": {
    "collapsed": false,
    "ExecuteTime": {
     "end_time": "2024-07-22T15:27:11.027672Z",
     "start_time": "2024-07-22T15:27:10.499101Z"
    }
   },
   "id": "f3c39d5e756da185"
  },
  {
   "cell_type": "code",
   "execution_count": 41,
   "id": "3237f570",
   "metadata": {
    "ExecuteTime": {
     "end_time": "2024-07-22T20:25:30.626900Z",
     "start_time": "2024-07-22T20:25:30.623757Z"
    }
   },
   "outputs": [
    {
     "data": {
      "text/plain": "dict_keys(['GSE100007', 'GSE100027'])"
     },
     "execution_count": 41,
     "metadata": {},
     "output_type": "execute_result"
    }
   ],
   "source": [
    "# Prepare workspace for download\n",
    "reset = False\n",
    "\n",
    "filenames = dict()\n",
    "data = dict()\n",
    "fout = dict()\n",
    "for species in [\"human\", \"mouse\"]:\n",
    "    print(species)\n",
    "    # Check if there is already expression data downloaded or whether we are starting fresh\n",
    "    filenames[species] = dict()\n",
    "    filenames[species][\"log\"] = \"greinLoad_{0}.log\".format(species)\n",
    "    filenames[species][\"data\"]= \"../../download/grein_count_matrix_{0}.pkl\".format(species)\n",
    "    filenames[species][\"metadata\"] = \"../../download/grein_metadata_{0}.json\".format(species)\n",
    "    filenames[species][\"description\"] = \"../../download/grein_descriptions_{0}.json\".format(species)\n",
    "    \n",
    "    data[species] = dict()\n",
    "    if reset == False and os.path.exists(filenames[species][\"log\"]) and os.path.exists(filenames[species][\"data\"]) and os.path.exists(filenames[species][\"metadata\"]): \n",
    "        print(\"...loading existing {0} data\".format(species))\n",
    "        print(data[species])\n",
    "        data[species][\"count_matrix\"] = pd.read_pickle(filenames[species][\"data\"])\n",
    "        data[species][\"sample_data\"] = json.load(open(filenames[species][\"metadata\"], \"r\"))\n",
    "        data[species][\"study_desc\"] = json.load(open(filenames[species][\"description\"], \"r\"))\n",
    "        data[species][\"completed\"] = load_log(filenames[species][\"log\"])\n",
    "    else:\n",
    "        print(\"starting {0} download from scratch\".format(species))\n",
    "        ! rm {filenames[species][\"log\"]}\n",
    "        data[species][\"count_matrix\"] = pd.DataFrame()\n",
    "        data[species][\"sample_data\"] = dict()\n",
    "        data[species][\"completed\"] = set()\n",
    "        for ftype in [\"log\", \"metadata\", \"description\"]:\n",
    "            fname = filenames[species][ftype]\n",
    "            !touch {fname}\n",
    "    \n",
    "    fout[species] = dict()\n",
    "    fout[species][\"sample_data\"] = open(filenames[species][\"metadata\"], \"a\")\n",
    "    fout[species][\"descriptions\"] = open(filenames[species][\"description\"], \"a\")"
   ]
  },
  {
   "cell_type": "code",
   "execution_count": 71,
   "outputs": [
    {
     "name": "stdout",
     "output_type": "stream",
     "text": [
      "GSE100040\n",
      "{'geo_accession': 'GSE100040', 'no_samples': 6, 'species': 'Homo sapiens', 'title': 'Human TFIIH kinase CDK7 regulates transcription-associated epigenetic modification', 'study_summary': 'CDK7 phosphorylates the RNA polymerase II (pol II) CTD and activates the P-TEFb- associated kinase, CDK9, but its regulatory roles remain obscure. Using human CDK7 analog-sensitive (CDK7as) cells, we observed reduced capping enzyme recruitment, increased pol II promoter-proximal pausing, and defective termination at gene 3\\'-ends upon CDK7 inhibition. We also found that CDK7 regulates chromatin modifications downstream of transcription start sites. H3K4me3 spreading was restricted at gene 5\\'-ends and H3K36me3 was displaced toward gene 3\\'-ends in CDK7as cells. Together, these results implicate a CDK7-dependent \"CTD code\" that regulates epigenetic marks in addition to RNA processing and pol II pausing.'}\n",
      "GSE100075\n",
      "{'geo_accession': 'GSE100075', 'no_samples': 15, 'species': 'Homo sapiens', 'title': 'Discovery of naturally occurring ESR1 mutations during acquisition of resistance to endocrine therapy in widely used estrogen receptor positive breast cancer cell lines [RNA-Seq]', 'study_summary': 'We report the first discovery of naturally occurring ESR1Y537C and ESR1Y537S mutations in MCF7 and SUM44 ESR1-positive cell-lines after acquisition of resistance to long-term-estrogen-deprivation (LTED) and subsequent resistance to fulvestrant (ICIR).'}\n"
     ]
    }
   ],
   "source": [
    "# Accessing the geo_accession ID and study species from overview\n",
    "geo_accession_ids = []\n",
    "species_list = []\n",
    " \n",
    "overview = loader.load_overview(number_of_datasets)\n",
    "for i in range(number_of_datasets):\n",
    "    geo_accession_ids = overview[i]['geo_accession']\n",
    "    species = overview[i]['species']\n",
    "    fout[species][\"descriptions\"].write(overview)\n",
    "# saving the species in each GSE\n",
    "GSE_species = {'geo_accession_id': geo_accession_ids, 'species': species}\n",
    "GSE_species_df = pd.DataFrame.from_dict(GSE_species)"
   ],
   "metadata": {
    "collapsed": false,
    "ExecuteTime": {
     "end_time": "2024-07-22T22:13:07.888794Z",
     "start_time": "2024-07-22T22:13:03.118625Z"
    }
   },
   "id": "d7c098d1"
  },
  {
   "cell_type": "code",
   "execution_count": 69,
   "outputs": [
    {
     "data": {
      "text/plain": "{'GSE100007': 'human',\n 'GSE100027': 'human',\n 'GSE100040': 'human',\n 'GSE100075': 'human'}"
     },
     "execution_count": 69,
     "metadata": {},
     "output_type": "execute_result"
    }
   ],
   "source": [
    "def load_data(geo_accession, count_matrix_df, greinMetadata):\n",
    "    description, metadata, count_matrix = loader.load_dataset(geo_accession)\n",
    "    print(description)\n",
    "    for gsm, valDict in metadata.items():\n",
    "        valDict.drop(\" \")\n",
    "        valDict.drop(\"geo_accession\")\n",
    "    # Merge in to existing count matrix DF\n",
    "    if count_matrix_df.empty:\n",
    "        return count_matrix, {geo_accession: metadata}\n",
    "    else:\n",
    "        greinMetadata[geo_accession] = metadata\n",
    "        return pd.merge(count_matrix_human_df, count_matrix,  how='left', on=[\"gene\", \"gene_symbol\"]), greinMetadata"
   ],
   "metadata": {
    "collapsed": false,
    "ExecuteTime": {
     "end_time": "2024-07-22T22:11:49.242238Z",
     "start_time": "2024-07-22T22:11:49.239050Z"
    }
   },
   "id": "19c8219892618b53"
  },
  {
   "cell_type": "code",
   "execution_count": 70,
   "id": "d7e11f7f",
   "metadata": {
    "ExecuteTime": {
     "end_time": "2024-07-22T22:11:49.350162Z",
     "start_time": "2024-07-22T22:11:49.345607Z"
    }
   },
   "outputs": [],
   "source": [
    "# Saving human gene expression data\n",
    "    \n",
    "\n",
    "# Check if this data was logged as loaded\n",
    "if geo_accession in completed:\n",
    "    print(\"Already done: {0}\".format(geo_accession))\n",
    "    continue\n",
    "    \n",
    "# If new data, download data and add to df\n",
    "print(\"********* |\", geo_accession, \"| ***********\")\n",
    "logfile.write(geo_accession + \",start\\n\")\n",
    "\n",
    "count_matrix_human_df, sample_data_human = load_data(geo_accession, count_matrix_human_df, sample_data_human)\n",
    "\n",
    "logfile.write(geo_accession + \",write\\n\")\n",
    "count_matrix_human_df.to_pickle(humanData)\n",
    "json.dump(sample_data_human, open(humanMetaData, \"w\"))\n",
    "logfile.write(geo_accession + \",end\\n\")"
   ]
  },
  {
   "cell_type": "code",
   "execution_count": 28,
   "outputs": [
    {
     "data": {
      "text/plain": "                  gene   gene_symbol  GSM2667747  GSM2667748  GSM2667749  \\\n0      ENSG00000000003        TSPAN6   1766.0677    420.8206    300.8009   \n1      ENSG00000000005          TNMD     43.9280     18.0091      0.0000   \n2      ENSG00000000419          DPM1   1097.7855    367.2333    316.5226   \n3      ENSG00000000457         SCYL3    601.4702    270.9239    163.6869   \n4      ENSG00000000460      C1orf112   1040.8861    349.1418    298.1800   \n...                ...           ...         ...         ...         ...   \n27985  ENSG00000283688      MIR6715B      0.0000      0.0000      0.0000   \n27986  ENSG00000283690     MIR3116-2      0.0000      0.0000      0.0000   \n27987  ENSG00000283694     MIR3202-2      0.0000      0.0000      0.0000   \n27988  ENSG00000283697  LOC101928917      1.7315      0.0000      0.0000   \n27989  ENSG00000283699       MIR4481      0.0000      1.1301      0.0000   \n\n       GSM2667750  GSM2667751  GSM2667752  GSM2667753  GSM2667754  ...  \\\n0       3142.8439   2207.8392   4367.5056    228.5759    650.3287  ...   \n1        115.8917     63.5936     39.7803     11.7588      1.0153  ...   \n2       3895.0588   1536.1375   1084.5276    127.7205    245.1014  ...   \n3       1177.2241    873.9074    845.1423    229.8548    134.4694  ...   \n4       1967.3975   2115.2425    980.9359    253.4457    145.7038  ...   \n...           ...         ...         ...         ...         ...  ...   \n27985      0.0000      0.0000      0.0000      0.0000      0.0000  ...   \n27986      0.0000      0.0000      0.0000      0.0000      0.0000  ...   \n27987      0.0000      0.0000      0.0000      0.0000      0.0000  ...   \n27988      0.0000      2.0039      3.9899      2.5184      4.1298  ...   \n27989      1.3192      0.0000      0.0000      0.0000      0.0000  ...   \n\n       GSM2668086  GSM2668087  GSM2668088  GSM2668089  GSM2671001  GSM2671002  \\\n0        254.7605    143.2263    174.3319    202.3253   1053.8788   2405.3001   \n1          0.0000      0.0000      0.0000      0.0000      3.9978     11.0025   \n2        613.1214    374.0965    302.6622    454.0570   1227.1084   2980.0756   \n3        196.5995    185.3106    260.9485    183.7584    586.7993   1504.0115   \n4        204.1681    186.2225    127.6457    172.0572    441.0758   1258.3932   \n...           ...         ...         ...         ...         ...         ...   \n27985      0.0000      0.0000      0.0000      0.0000      0.0000      0.0000   \n27986      0.0000      0.0000      0.0000      0.0000      0.0000      0.0000   \n27987      0.0000      0.0000      0.0000      0.0000      0.0000      0.0000   \n27988         NaN         NaN         NaN         NaN         NaN         NaN   \n27989      0.0000      0.0000      0.0000      0.0000      0.9935      0.0000   \n\n       GSM2671003  GSM2671004  GSM2671005  GSM2671006  \n0        940.5770    973.7475    760.0100   1472.2712  \n1          4.9979      8.0054      3.9978     11.0011  \n2       1045.8061   1098.7163    759.7729   1398.8077  \n3        619.3764    661.9514    469.5312   1113.1412  \n4        466.5542    450.2848    289.2767    467.7875  \n...           ...         ...         ...         ...  \n27985      0.0000      0.0000      0.0000      0.0000  \n27986      0.0000      0.0000      0.0000      0.0000  \n27987      0.0000      0.0000      0.0000      0.0000  \n27988         NaN         NaN         NaN         NaN  \n27989      0.0000      3.0216      1.0072      0.0000  \n\n[27990 rows x 57 columns]",
      "text/html": "<div>\n<style scoped>\n    .dataframe tbody tr th:only-of-type {\n        vertical-align: middle;\n    }\n\n    .dataframe tbody tr th {\n        vertical-align: top;\n    }\n\n    .dataframe thead th {\n        text-align: right;\n    }\n</style>\n<table border=\"1\" class=\"dataframe\">\n  <thead>\n    <tr style=\"text-align: right;\">\n      <th></th>\n      <th>gene</th>\n      <th>gene_symbol</th>\n      <th>GSM2667747</th>\n      <th>GSM2667748</th>\n      <th>GSM2667749</th>\n      <th>GSM2667750</th>\n      <th>GSM2667751</th>\n      <th>GSM2667752</th>\n      <th>GSM2667753</th>\n      <th>GSM2667754</th>\n      <th>...</th>\n      <th>GSM2668086</th>\n      <th>GSM2668087</th>\n      <th>GSM2668088</th>\n      <th>GSM2668089</th>\n      <th>GSM2671001</th>\n      <th>GSM2671002</th>\n      <th>GSM2671003</th>\n      <th>GSM2671004</th>\n      <th>GSM2671005</th>\n      <th>GSM2671006</th>\n    </tr>\n  </thead>\n  <tbody>\n    <tr>\n      <th>0</th>\n      <td>ENSG00000000003</td>\n      <td>TSPAN6</td>\n      <td>1766.0677</td>\n      <td>420.8206</td>\n      <td>300.8009</td>\n      <td>3142.8439</td>\n      <td>2207.8392</td>\n      <td>4367.5056</td>\n      <td>228.5759</td>\n      <td>650.3287</td>\n      <td>...</td>\n      <td>254.7605</td>\n      <td>143.2263</td>\n      <td>174.3319</td>\n      <td>202.3253</td>\n      <td>1053.8788</td>\n      <td>2405.3001</td>\n      <td>940.5770</td>\n      <td>973.7475</td>\n      <td>760.0100</td>\n      <td>1472.2712</td>\n    </tr>\n    <tr>\n      <th>1</th>\n      <td>ENSG00000000005</td>\n      <td>TNMD</td>\n      <td>43.9280</td>\n      <td>18.0091</td>\n      <td>0.0000</td>\n      <td>115.8917</td>\n      <td>63.5936</td>\n      <td>39.7803</td>\n      <td>11.7588</td>\n      <td>1.0153</td>\n      <td>...</td>\n      <td>0.0000</td>\n      <td>0.0000</td>\n      <td>0.0000</td>\n      <td>0.0000</td>\n      <td>3.9978</td>\n      <td>11.0025</td>\n      <td>4.9979</td>\n      <td>8.0054</td>\n      <td>3.9978</td>\n      <td>11.0011</td>\n    </tr>\n    <tr>\n      <th>2</th>\n      <td>ENSG00000000419</td>\n      <td>DPM1</td>\n      <td>1097.7855</td>\n      <td>367.2333</td>\n      <td>316.5226</td>\n      <td>3895.0588</td>\n      <td>1536.1375</td>\n      <td>1084.5276</td>\n      <td>127.7205</td>\n      <td>245.1014</td>\n      <td>...</td>\n      <td>613.1214</td>\n      <td>374.0965</td>\n      <td>302.6622</td>\n      <td>454.0570</td>\n      <td>1227.1084</td>\n      <td>2980.0756</td>\n      <td>1045.8061</td>\n      <td>1098.7163</td>\n      <td>759.7729</td>\n      <td>1398.8077</td>\n    </tr>\n    <tr>\n      <th>3</th>\n      <td>ENSG00000000457</td>\n      <td>SCYL3</td>\n      <td>601.4702</td>\n      <td>270.9239</td>\n      <td>163.6869</td>\n      <td>1177.2241</td>\n      <td>873.9074</td>\n      <td>845.1423</td>\n      <td>229.8548</td>\n      <td>134.4694</td>\n      <td>...</td>\n      <td>196.5995</td>\n      <td>185.3106</td>\n      <td>260.9485</td>\n      <td>183.7584</td>\n      <td>586.7993</td>\n      <td>1504.0115</td>\n      <td>619.3764</td>\n      <td>661.9514</td>\n      <td>469.5312</td>\n      <td>1113.1412</td>\n    </tr>\n    <tr>\n      <th>4</th>\n      <td>ENSG00000000460</td>\n      <td>C1orf112</td>\n      <td>1040.8861</td>\n      <td>349.1418</td>\n      <td>298.1800</td>\n      <td>1967.3975</td>\n      <td>2115.2425</td>\n      <td>980.9359</td>\n      <td>253.4457</td>\n      <td>145.7038</td>\n      <td>...</td>\n      <td>204.1681</td>\n      <td>186.2225</td>\n      <td>127.6457</td>\n      <td>172.0572</td>\n      <td>441.0758</td>\n      <td>1258.3932</td>\n      <td>466.5542</td>\n      <td>450.2848</td>\n      <td>289.2767</td>\n      <td>467.7875</td>\n    </tr>\n    <tr>\n      <th>...</th>\n      <td>...</td>\n      <td>...</td>\n      <td>...</td>\n      <td>...</td>\n      <td>...</td>\n      <td>...</td>\n      <td>...</td>\n      <td>...</td>\n      <td>...</td>\n      <td>...</td>\n      <td>...</td>\n      <td>...</td>\n      <td>...</td>\n      <td>...</td>\n      <td>...</td>\n      <td>...</td>\n      <td>...</td>\n      <td>...</td>\n      <td>...</td>\n      <td>...</td>\n      <td>...</td>\n    </tr>\n    <tr>\n      <th>27985</th>\n      <td>ENSG00000283688</td>\n      <td>MIR6715B</td>\n      <td>0.0000</td>\n      <td>0.0000</td>\n      <td>0.0000</td>\n      <td>0.0000</td>\n      <td>0.0000</td>\n      <td>0.0000</td>\n      <td>0.0000</td>\n      <td>0.0000</td>\n      <td>...</td>\n      <td>0.0000</td>\n      <td>0.0000</td>\n      <td>0.0000</td>\n      <td>0.0000</td>\n      <td>0.0000</td>\n      <td>0.0000</td>\n      <td>0.0000</td>\n      <td>0.0000</td>\n      <td>0.0000</td>\n      <td>0.0000</td>\n    </tr>\n    <tr>\n      <th>27986</th>\n      <td>ENSG00000283690</td>\n      <td>MIR3116-2</td>\n      <td>0.0000</td>\n      <td>0.0000</td>\n      <td>0.0000</td>\n      <td>0.0000</td>\n      <td>0.0000</td>\n      <td>0.0000</td>\n      <td>0.0000</td>\n      <td>0.0000</td>\n      <td>...</td>\n      <td>0.0000</td>\n      <td>0.0000</td>\n      <td>0.0000</td>\n      <td>0.0000</td>\n      <td>0.0000</td>\n      <td>0.0000</td>\n      <td>0.0000</td>\n      <td>0.0000</td>\n      <td>0.0000</td>\n      <td>0.0000</td>\n    </tr>\n    <tr>\n      <th>27987</th>\n      <td>ENSG00000283694</td>\n      <td>MIR3202-2</td>\n      <td>0.0000</td>\n      <td>0.0000</td>\n      <td>0.0000</td>\n      <td>0.0000</td>\n      <td>0.0000</td>\n      <td>0.0000</td>\n      <td>0.0000</td>\n      <td>0.0000</td>\n      <td>...</td>\n      <td>0.0000</td>\n      <td>0.0000</td>\n      <td>0.0000</td>\n      <td>0.0000</td>\n      <td>0.0000</td>\n      <td>0.0000</td>\n      <td>0.0000</td>\n      <td>0.0000</td>\n      <td>0.0000</td>\n      <td>0.0000</td>\n    </tr>\n    <tr>\n      <th>27988</th>\n      <td>ENSG00000283697</td>\n      <td>LOC101928917</td>\n      <td>1.7315</td>\n      <td>0.0000</td>\n      <td>0.0000</td>\n      <td>0.0000</td>\n      <td>2.0039</td>\n      <td>3.9899</td>\n      <td>2.5184</td>\n      <td>4.1298</td>\n      <td>...</td>\n      <td>NaN</td>\n      <td>NaN</td>\n      <td>NaN</td>\n      <td>NaN</td>\n      <td>NaN</td>\n      <td>NaN</td>\n      <td>NaN</td>\n      <td>NaN</td>\n      <td>NaN</td>\n      <td>NaN</td>\n    </tr>\n    <tr>\n      <th>27989</th>\n      <td>ENSG00000283699</td>\n      <td>MIR4481</td>\n      <td>0.0000</td>\n      <td>1.1301</td>\n      <td>0.0000</td>\n      <td>1.3192</td>\n      <td>0.0000</td>\n      <td>0.0000</td>\n      <td>0.0000</td>\n      <td>0.0000</td>\n      <td>...</td>\n      <td>0.0000</td>\n      <td>0.0000</td>\n      <td>0.0000</td>\n      <td>0.0000</td>\n      <td>0.9935</td>\n      <td>0.0000</td>\n      <td>0.0000</td>\n      <td>3.0216</td>\n      <td>1.0072</td>\n      <td>0.0000</td>\n    </tr>\n  </tbody>\n</table>\n<p>27990 rows × 57 columns</p>\n</div>"
     },
     "execution_count": 28,
     "metadata": {},
     "output_type": "execute_result"
    }
   ],
   "source": [
    "pd.read_pickle(humanData)"
   ],
   "metadata": {
    "collapsed": false,
    "ExecuteTime": {
     "end_time": "2024-07-12T17:12:04.989606Z",
     "start_time": "2024-07-12T17:12:04.931187Z"
    }
   },
   "id": "8035da339504313c"
  },
  {
   "cell_type": "code",
   "execution_count": null,
   "id": "2e20187b",
   "metadata": {},
   "outputs": [
    {
     "name": "stdout",
     "output_type": "stream",
     "text": [
      "********* | GSE100007 | ***********\n",
      "********* | GSE100027 | ***********\n",
      "********* | GSE100040 | ***********\n",
      "********* | GSE100075 | ***********\n",
      "********* | GSE100081 | ***********\n",
      "********* | GSE100092 | ***********\n",
      "********* | GSE100099 | ***********\n",
      "********* | GSE100118 | ***********\n",
      "********* | GSE100183 | ***********\n",
      "********* | GSE100206 | ***********\n",
      "********* | GSE100210 | ***********\n",
      "********* | GSE100223 | ***********\n",
      "********* | GSE100258 | ***********\n",
      "********* | GSE100266 | ***********\n",
      "********* | GSE100268 | ***********\n",
      "********* | GSE100291 | ***********\n",
      "********* | GSE100297 | ***********\n",
      "********* | GSE100327 | ***********\n",
      "********* | GSE100338 | ***********\n",
      "********* | GSE100359 | ***********\n",
      "********* | GSE100382 | ***********\n",
      "********* | GSE100392 | ***********\n",
      "********* | GSE100408 | ***********\n",
      "********* | GSE100417 | ***********\n",
      "********* | GSE100427 | ***********\n",
      "********* | GSE100501 | ***********\n",
      "********* | GSE100520 | ***********\n",
      "********* | GSE100530 | ***********\n",
      "********* | GSE100562 | ***********\n",
      "********* | GSE100568 | ***********\n"
     ]
    }
   ],
   "source": [
    "# Saving mice gene expression data\n",
    "\n",
    "# Check if there is already data downloaded or whether we are starting fresh\n",
    "if os.path.exists(\"greinLoadMice.log\") and os.path.exists(\"download/grein_count_matrix_mice.pkl\"): \n",
    "    count_matrix_human_df = pd.read_pickle(\"download/grein_count_matrix_mice.pkl\")\n",
    "    completed = load_log(\"Mice\")\n",
    "\n",
    "else:\n",
    "    count_matrix_mice_df = pd.DataFrame()\n",
    "    completed = set()\n",
    "    os.system(\"touch greinLoadMice.log\")\n",
    "\n",
    "with open(\"greinLoadMice.log\", \"a\") as logfile:\n",
    "    for geo_accession in geo_accession_ids:\n",
    "        \n",
    "        # Check if this data was succesfully pickled\n",
    "        if geo_accession in completed:\n",
    "            continue\n",
    "            \n",
    "        # If new data, download data and add to df\n",
    "        print(\"********* |\", geo_accession, \"| ***********\")\n",
    "        logfile.write(geo_accession + \",start\\n\")\n",
    "        description, metadata, count_matrix = loader.load_dataset(geo_accession)\n",
    "        # print(\"Description: \", description)\n",
    "        \n",
    "        # Merge in to existing count matrix DF\n",
    "        if count_matrix_human_df.empty:\n",
    "            count_matrix_human_df = count_matrix\n",
    "        else:\n",
    "            count_matrix_human_df = pd.merge(count_matrix_human_df, count_matrix,  how='left', on=[\"gene\", \"gene_symbol\"])\n",
    "        \n",
    "        logfile.write(geo_accession + \",write\\n\")\n",
    "        count_matrix_human_df.to_pickle(\"download/grein_count_matrix_human.pkl\")\n",
    "        logfile.write(geo_accession + \",end\\n\")"
   ]
  },
  {
   "cell_type": "code",
   "execution_count": null,
   "id": "f785e872",
   "metadata": {},
   "outputs": [],
   "source": [
    "pd.read_pickle(\"download/grein_count_matrix_human.pkl\")\n"
   ]
  },
  {
   "cell_type": "code",
   "execution_count": null,
   "id": "14c48bb9",
   "metadata": {},
   "outputs": [],
   "source": [
    "# Loading data from the data sets using the geo_accession IDs\n",
    "# NOTE this does not save/pickle the description or metadata at all\n",
    "\n",
    "with open(\"greinLoad.log\", \"a\") as logfile:\n",
    "    for geo_accession in geo_accession_ids:\n",
    "        \n",
    "        # Check if this data was succesfully pickled\n",
    "        if geo_accession in completed:\n",
    "            continue\n",
    "            \n",
    "        # If new data, download data and add to df\n",
    "        print(\"********* |\", geo_accession, \"| ***********\")\n",
    "        logfile.write(geo_accession + \",start\\n\")\n",
    "        description, metadata, count_matrix = loader.load_dataset(geo_accession)\n",
    "        # print(\"Description: \", description)\n",
    "        \n",
    "        # Merge in to existing count matrix DF\n",
    "        if count_matrix_df.empty:\n",
    "            count_matrix_df = count_matrix\n",
    "        else:\n",
    "            count_matrix_df = pd.merge(count_matrix_df, count_matrix,  how='left', on=[\"gene\", \"gene_symbol\"])\n",
    "        \n",
    "        logfile.write(geo_accession + \",write\\n\")\n",
    "        count_matrix_df.to_pickle(\"download/grein_count_matrix.pkl\")\n",
    "        logfile.write(geo_accession + \",end\\n\")\n",
    "        \n",
    "        break"
   ]
  },
  {
   "cell_type": "code",
   "execution_count": null,
   "id": "7ab50fdd-e162-4f5f-8382-7a96c93c5902",
   "metadata": {},
   "outputs": [],
   "source": [
    "# Timimg the loading of data sets\n",
    "start = time.time()\n",
    "print(loader.load_overview(10))\n",
    "end = time.time()\n",
    "print(end-start)"
   ]
  },
  {
   "cell_type": "markdown",
   "id": "07d59c22",
   "metadata": {},
   "source": [
    "## Save the data loaded above"
   ]
  },
  {
   "cell_type": "code",
   "execution_count": null,
   "id": "80d0f997",
   "metadata": {},
   "outputs": [],
   "source": [
    "import random\n",
    "from sklearn.model_selection import train_test_split\n",
    "import json\n",
    "import sys"
   ]
  },
  {
   "cell_type": "markdown",
   "id": "9ba973b3",
   "metadata": {},
   "source": [
    "**Count_matrix**"
   ]
  },
  {
   "cell_type": "code",
   "execution_count": null,
   "id": "d7dda5ce",
   "metadata": {},
   "outputs": [],
   "source": [
    "path = os.path.join(os.getcwd(), 'download', 'count_matrix.tsv')\n",
    "with open(path, 'w') as file:\n",
    "    count_matrix_df.to_csv(path, sep=\"\\t\") "
   ]
  },
  {
   "cell_type": "markdown",
   "id": "339e5023",
   "metadata": {},
   "source": [
    "**Description**"
   ]
  },
  {
   "cell_type": "code",
   "execution_count": null,
   "id": "f15f8b9a",
   "metadata": {},
   "outputs": [],
   "source": [
    "# Save description. Currently saves description for only one data set at a time\n",
    "path = os.path.join('download', 'description.json')\n",
    "with open(path, 'w') as file:\n",
    "    # Serialize and write the variable to the file\n",
    "    json.dump(description, file)"
   ]
  },
  {
   "cell_type": "markdown",
   "id": "724557b3",
   "metadata": {},
   "source": [
    "**Metadata**"
   ]
  },
  {
   "cell_type": "code",
   "execution_count": null,
   "id": "eec21cf5",
   "metadata": {},
   "outputs": [],
   "source": [
    "# Create a dataframe from metadata\n",
    "metadata_df = pd.DataFrame.from_dict(metadata)\n",
    "\n",
    "# list of row names in metadata_df\n",
    "row_names = list(metadata_df.index)\n",
    "\n",
    "# Creating a list of rows that we do not require to process this data set\n",
    "unneeded_rows = ['Consent', ' ', 'channel_count', 'organism_ch1', 'relation', 'status']\n",
    "for index in row_names:\n",
    "    if ('contact' in index) or ('date' in index) or ('data_processing' in index) or ('Hash' in index) or ('Date' in index) or ('library' in index):\n",
    "        unneeded_rows.append(index)\n",
    "        \n",
    "# remove unnecessary roles from count_matrix\n",
    "metadata_df.drop(unneeded_rows, axis = 0)"
   ]
  },
  {
   "cell_type": "code",
   "execution_count": null,
   "id": "5cab20d5",
   "metadata": {},
   "outputs": [],
   "source": [
    "print(type(metadata))"
   ]
  },
  {
   "cell_type": "code",
   "execution_count": null,
   "id": "b031d146",
   "metadata": {},
   "outputs": [],
   "source": [
    "print(type(description))"
   ]
  },
  {
   "cell_type": "code",
   "execution_count": null,
   "id": "056e13b8",
   "metadata": {},
   "outputs": [],
   "source": [
    "print(count_matrix_df)"
   ]
  },
  {
   "cell_type": "code",
   "execution_count": null,
   "id": "2b543432",
   "metadata": {},
   "outputs": [],
   "source": [
    "print(count_matrix)"
   ]
  }
 ],
 "metadata": {
  "kernelspec": {
   "display_name": "Python 3 (ipykernel)",
   "language": "python",
   "name": "python3"
  },
  "language_info": {
   "codemirror_mode": {
    "name": "ipython",
    "version": 3
   },
   "file_extension": ".py",
   "mimetype": "text/x-python",
   "name": "python",
   "nbconvert_exporter": "python",
   "pygments_lexer": "ipython3",
   "version": "3.12.4"
  }
 },
 "nbformat": 4,
 "nbformat_minor": 5
}
