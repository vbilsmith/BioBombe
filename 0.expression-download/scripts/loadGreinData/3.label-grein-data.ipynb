{
 "cells": [
  {
   "cell_type": "code",
   "execution_count": 1,
   "id": "initial_id",
   "metadata": {
    "collapsed": true,
    "ExecuteTime": {
     "end_time": "2024-07-16T21:32:44.884295Z",
     "start_time": "2024-07-16T21:32:44.549555Z"
    }
   },
   "outputs": [],
   "source": [
    "import pandas as pd"
   ]
  },
  {
   "cell_type": "code",
   "execution_count": 2,
   "outputs": [],
   "source": [
    "def load_log(logFile):\n",
    "    log = pd.read_csv(logFile, names=[\"GSE\", \"status\"])\n",
    "    log = log[log[\"status\"] == \"end\"]\n",
    "    return set(log[\"GSE\"].unique())"
   ],
   "metadata": {
    "collapsed": false,
    "ExecuteTime": {
     "end_time": "2024-07-16T21:33:24.929401Z",
     "start_time": "2024-07-16T21:33:24.918189Z"
    }
   },
   "id": "e557b9665a1aedca"
  },
  {
   "cell_type": "code",
   "execution_count": 4,
   "outputs": [],
   "source": [
    "log = load_log(\"greinLoadHuman.log\")"
   ],
   "metadata": {
    "collapsed": false,
    "ExecuteTime": {
     "end_time": "2024-07-16T21:33:43.991268Z",
     "start_time": "2024-07-16T21:33:43.973176Z"
    }
   },
   "id": "f9b3f32adc45993d"
  },
  {
   "cell_type": "code",
   "execution_count": null,
   "outputs": [],
   "source": [
    "def loadMetadata(geo_accession):\n",
    "       \n",
    "    # If new data, download data and add to df\n",
    "    print(\"********* |\", geo_accession, \"| ***********\")\n",
    "    \n",
    "        \n",
    "      count_matrix_human_df = load_data(geo_accession, count_matrix_human_df)\n",
    "        \n",
    "        logfile.write(geo_accession + \",write\\n\")\n",
    "        count_matrix_human_df.to_pickle(humanData)\n",
    "        logfile.write(geo_accession + \",end\\n\")\n",
    "        "
   ],
   "metadata": {
    "collapsed": false
   },
   "id": "73fc375e1af02f2f"
  },
  {
   "cell_type": "code",
   "execution_count": 5,
   "outputs": [
    {
     "name": "stdout",
     "output_type": "stream",
     "text": [
      "{'GSE100007', 'GSE100081', 'GSE100040', 'GSE100027', 'GSE100075'}\n"
     ]
    }
   ],
   "source": [
    "print(log)"
   ],
   "metadata": {
    "collapsed": false,
    "ExecuteTime": {
     "end_time": "2024-07-16T21:34:01.295617Z",
     "start_time": "2024-07-16T21:34:01.290524Z"
    }
   },
   "id": "b6fa64d16c26ee06"
  },
  {
   "cell_type": "code",
   "execution_count": null,
   "outputs": [],
   "source": [],
   "metadata": {
    "collapsed": false
   },
   "id": "fbabfac8f4f9a953"
  }
 ],
 "metadata": {
  "kernelspec": {
   "display_name": "Python 3",
   "language": "python",
   "name": "python3"
  },
  "language_info": {
   "codemirror_mode": {
    "name": "ipython",
    "version": 2
   },
   "file_extension": ".py",
   "mimetype": "text/x-python",
   "name": "python",
   "nbconvert_exporter": "python",
   "pygments_lexer": "ipython2",
   "version": "2.7.6"
  }
 },
 "nbformat": 4,
 "nbformat_minor": 5
}
