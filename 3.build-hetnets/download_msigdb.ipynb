{
 "cells": [
  {
   "cell_type": "markdown",
   "metadata": {},
   "source": [
    "# Download MSigDB Gene Sets\n",
    "\n",
    "**Gregory Way 2018**\n",
    "\n",
    "**Modified scripts originally written by Daniel Himmelstein (@dhimmel)**\n",
    "\n",
    "_Most_ MSigDB gene sets (_version 6.1_) are now `CC BY 4.0` (except KEGG, BioCarta, and AAAS/STKE). Download and process."
   ]
  },
  {
   "cell_type": "code",
   "execution_count": 23,
   "metadata": {
    "jupyter": {
     "is_executing": true
    }
   },
   "outputs": [],
   "source": [
    "import csv\n",
    "import pandas as pd"
   ]
  },
  {
   "cell_type": "code",
   "execution_count": 24,
   "metadata": {
    "jupyter": {
     "is_executing": true
    }
   },
   "outputs": [
    {
     "name": "stdout",
     "output_type": "stream",
     "text": [
      "\u001b[33mhint: Using 'master' as the name for the initial branch. This default branch name\u001b[m\n",
      "\u001b[33mhint: is subject to change. To configure the initial branch name to use in all\u001b[m\n",
      "\u001b[33mhint: of your new repositories, which will suppress this warning, call:\u001b[m\n",
      "\u001b[33mhint:\u001b[m\n",
      "\u001b[33mhint: \tgit config --global init.defaultBranch <name>\u001b[m\n",
      "\u001b[33mhint:\u001b[m\n",
      "\u001b[33mhint: Names commonly chosen instead of 'master' are 'main', 'trunk' and\u001b[m\n",
      "\u001b[33mhint: 'development'. The just-created branch can be renamed via this command:\u001b[m\n",
      "\u001b[33mhint:\u001b[m\n",
      "\u001b[33mhint: \tgit branch -m <name>\u001b[m\n",
      "Initialized empty Git repository in /usr/local/Homebrew/.git/\n",
      "fatal: not in a git directory\n",
      "\u001b[33mWarning:\u001b[0m wget 1.24.5 is already installed and up-to-date.\n",
      "To reinstall 1.24.5, run:\n",
      "  brew reinstall wget\n"
     ]
    }
   ],
   "source": [
    "# Added by Halie to let the code run in vscode\n",
    "#!pip3 install pandas\n",
    "# !brew install wget"
   ]
  },
  {
   "cell_type": "code",
   "execution_count": 25,
   "metadata": {},
   "outputs": [],
   "source": [
    "# MSigDB version\n",
    "version = '6.1'\n",
    "gene_id = 'entrez'"
   ]
  },
  {
   "cell_type": "code",
   "execution_count": 26,
   "metadata": {},
   "outputs": [
    {
     "name": "stdout",
     "output_type": "stream",
     "text": [
      "Last-modified header missing -- time-stamps turned off.\n",
      "2024-06-21 09:02:23 URL:https://www.gsea-msigdb.org/gsea/login.jsp [4435/4435] -> \"data/msigdb.v6.1.entrez.gmt\" [1]\n"
     ]
    }
   ],
   "source": [
    "# Download full MSigDB matrix\n",
    "# NOTE - This fill is not added to the repository because it contains\n",
    "# gene sets with restrictive licenses\n",
    "url_prefix = 'https://www.broadinstitute.org/gsea/resources/msigdb/'\n",
    "url = '{}{}/msigdb.v{}.{}.gmt'.format(url_prefix, version, version, gene_id)\n",
    "! wget --timestamping --no-verbose --directory-prefix 'data' $url"
   ]
  },
  {
   "cell_type": "code",
   "execution_count": 27,
   "metadata": {},
   "outputs": [
    {
     "name": "stdout",
     "output_type": "stream",
     "text": [
      "Last-modified header missing -- time-stamps turned off.\n",
      "2024-06-21 09:02:24 URL:https://www.gsea-msigdb.org/gsea/login.jsp [4435/4435] -> \"data2/c1.all.v6.1.entrez.gmt\" [1]\n",
      "Last-modified header missing -- time-stamps turned off.\n",
      "2024-06-21 09:02:24 URL:https://www.gsea-msigdb.org/gsea/login.jsp [4435/4435] -> \"data2/c2.cgp.v6.1.entrez.gmt\" [1]\n",
      "Last-modified header missing -- time-stamps turned off.\n",
      "2024-06-21 09:02:25 URL:https://www.gsea-msigdb.org/gsea/login.jsp [4435/4435] -> \"data2/c2.cp.reactome.v6.1.entrez.gmt\" [1]\n",
      "Last-modified header missing -- time-stamps turned off.\n",
      "2024-06-21 09:02:25 URL:https://www.gsea-msigdb.org/gsea/login.jsp [4435/4435] -> \"data2/c3.mir.v6.1.entrez.gmt\" [1]\n",
      "Last-modified header missing -- time-stamps turned off.\n",
      "2024-06-21 09:02:26 URL:https://www.gsea-msigdb.org/gsea/login.jsp [4435/4435] -> \"data2/c3.tft.v6.1.entrez.gmt\" [1]\n",
      "Last-modified header missing -- time-stamps turned off.\n",
      "2024-06-21 09:02:27 URL:https://www.gsea-msigdb.org/gsea/login.jsp [4435/4435] -> \"data2/c4.cgn.v6.1.entrez.gmt\" [1]\n",
      "Last-modified header missing -- time-stamps turned off.\n",
      "2024-06-21 09:02:27 URL:https://www.gsea-msigdb.org/gsea/login.jsp [4435/4435] -> \"data2/c4.cm.v6.1.entrez.gmt\" [1]\n",
      "Last-modified header missing -- time-stamps turned off.\n",
      "2024-06-21 09:02:28 URL:https://www.gsea-msigdb.org/gsea/login.jsp [4435/4435] -> \"data2/c5.bp.v6.1.entrez.gmt\" [1]\n",
      "Last-modified header missing -- time-stamps turned off.\n",
      "2024-06-21 09:02:28 URL:https://www.gsea-msigdb.org/gsea/login.jsp [4435/4435] -> \"data2/c5.cc.v6.1.entrez.gmt\" [1]\n",
      "Last-modified header missing -- time-stamps turned off.\n",
      "2024-06-21 09:02:29 URL:https://www.gsea-msigdb.org/gsea/login.jsp [4435/4435] -> \"data2/c5.mf.v6.1.entrez.gmt\" [1]\n",
      "Last-modified header missing -- time-stamps turned off.\n",
      "2024-06-21 09:02:29 URL:https://www.gsea-msigdb.org/gsea/login.jsp [4435/4435] -> \"data2/c6.all.v6.1.entrez.gmt\" [1]\n",
      "Last-modified header missing -- time-stamps turned off.\n",
      "2024-06-21 09:02:30 URL:https://www.gsea-msigdb.org/gsea/login.jsp [4435/4435] -> \"data2/c7.all.v6.1.entrez.gmt\" [1]\n"
     ]
    }
   ],
   "source": [
    "# Many of the genesets have sub gene sets - process these as well\n",
    "msigdb_dict = {\n",
    "    'c1.all': 'positional gene sets',\n",
    "    'c2.cgp': 'chemical and genetic perturbations',\n",
    "    'c2.cp.reactome': 'Reactome gene sets',\n",
    "    'c3.mir': 'microRNA targets',\n",
    "    'c3.tft': 'transcription factor targets',\n",
    "    'c4.cgn': 'cancer gene neighborhoods',\n",
    "    'c4.cm': 'cancer modules',\n",
    "    'c5.bp': 'GO biological processes',\n",
    "    'c5.cc': 'GO cellular components',\n",
    "    'c5.mf': 'GO molecular functions',\n",
    "    'c6.all': 'oncogenic signatures',\n",
    "    'c7.all': 'immunologic signatrues'\n",
    "}\n",
    "\n",
    "for gene_set in msigdb_dict:\n",
    "    url = '{}{}/{}.v{}.{}.gmt'.format(url_prefix, version, gene_set, version, gene_id)\n",
    "    ! wget --timestamping --no-verbose --directory-prefix 'data2' $url"
   ]
  },
  {
   "cell_type": "code",
   "execution_count": 28,
   "metadata": {},
   "outputs": [
    {
     "name": "stdout",
     "output_type": "stream",
     "text": [
      "credential.helper=osxkeychain\n",
      "init.defaultbranch=main\n",
      "filter.lfs.clean=git-lfs clean -- %f\n",
      "filter.lfs.smudge=git-lfs smudge -- %f\n",
      "filter.lfs.process=git-lfs filter-process\n",
      "filter.lfs.required=true\n",
      "user.name=Chioma-Opara\n",
      "user.email=copara@smith.edu\n",
      "core.repositoryformatversion=0\n",
      "core.filemode=true\n",
      "core.bare=false\n",
      "core.logallrefupdates=true\n",
      "core.ignorecase=true\n",
      "core.precomposeunicode=true\n",
      "lfs.repositoryformatversion=0\n",
      "remote.origin.url=https://github.com/vbilsmith/BioBombe.git\n",
      "remote.origin.fetch=+refs/heads/*:refs/remotes/origin/*\n",
      "lfs.https://github.com/vbilsmith/BioBombe.git/info/lfs.access=basic\n"
     ]
    }
   ],
   "source": [
    "!git config --list"
   ]
  }
 ],
 "metadata": {
  "kernelspec": {
   "display_name": "Python 3",
   "language": "python",
   "name": "python3"
  },
  "language_info": {
   "codemirror_mode": {
    "name": "ipython",
    "version": 3
   },
   "file_extension": ".py",
   "mimetype": "text/x-python",
   "name": "python",
   "nbconvert_exporter": "python",
   "pygments_lexer": "ipython3",
   "version": "3.9.6"
  }
 },
 "nbformat": 4,
 "nbformat_minor": 2
}
