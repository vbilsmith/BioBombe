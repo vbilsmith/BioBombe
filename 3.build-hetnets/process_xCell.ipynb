{
 "cells": [
  {
   "cell_type": "markdown",
   "metadata": {},
   "source": [
    "# Process xCell cell-type genesets\n",
    "\n",
    "The genesets were extracted from additional file 3 in [Aran et al. 2017](https://doi.org/10.1186/s13059-017-1349-1 \"xCell: digitally portraying the tissue cellular heterogeneity landscape\"). The data consist of 489 gene signatures. Many of these signatures represent redundant cell-types with different evidence."
   ]
  },
  {
   "cell_type": "code",
   "execution_count": 4,
   "metadata": {},
   "outputs": [],
   "source": [
    "import os\n",
    "from datetime import datetime\n",
    "import csv\n",
    "import pandas as pd"
   ]
  },
  {
   "cell_type": "code",
   "execution_count": 2,
   "metadata": {},
   "outputs": [],
   "source": [
    "%matplotlib inline"
   ]
  },
  {
   "cell_type": "code",
   "execution_count": 5,
   "metadata": {},
   "outputs": [
    {
     "name": "stdout",
     "output_type": "stream",
     "text": [
      "(489, 201)\n"
     ]
    },
    {
     "name": "stderr",
     "output_type": "stream",
     "text": [
      "/Users/randolab/Library/Python/3.9/lib/python/site-packages/openpyxl/worksheet/_reader.py:329: UserWarning: Unknown extension is not supported and will be removed\n",
      "  warn(msg)\n"
     ]
    },
    {
     "data": {
      "text/html": [
       "<div>\n",
       "<style scoped>\n",
       "    .dataframe tbody tr th:only-of-type {\n",
       "        vertical-align: middle;\n",
       "    }\n",
       "\n",
       "    .dataframe tbody tr th {\n",
       "        vertical-align: top;\n",
       "    }\n",
       "\n",
       "    .dataframe thead th {\n",
       "        text-align: right;\n",
       "    }\n",
       "</style>\n",
       "<table border=\"1\" class=\"dataframe\">\n",
       "  <thead>\n",
       "    <tr style=\"text-align: right;\">\n",
       "      <th></th>\n",
       "      <th># of genes</th>\n",
       "      <th>Unnamed: 2</th>\n",
       "      <th>Unnamed: 3</th>\n",
       "      <th>Unnamed: 4</th>\n",
       "      <th>Unnamed: 5</th>\n",
       "      <th>Unnamed: 6</th>\n",
       "      <th>Unnamed: 7</th>\n",
       "      <th>Unnamed: 8</th>\n",
       "      <th>Unnamed: 9</th>\n",
       "      <th>Unnamed: 10</th>\n",
       "      <th>...</th>\n",
       "      <th>Unnamed: 192</th>\n",
       "      <th>Unnamed: 193</th>\n",
       "      <th>Unnamed: 194</th>\n",
       "      <th>Unnamed: 195</th>\n",
       "      <th>Unnamed: 196</th>\n",
       "      <th>Unnamed: 197</th>\n",
       "      <th>Unnamed: 198</th>\n",
       "      <th>Unnamed: 199</th>\n",
       "      <th>Unnamed: 200</th>\n",
       "      <th>Unnamed: 201</th>\n",
       "    </tr>\n",
       "    <tr>\n",
       "      <th>Celltype_Source_ID</th>\n",
       "      <th></th>\n",
       "      <th></th>\n",
       "      <th></th>\n",
       "      <th></th>\n",
       "      <th></th>\n",
       "      <th></th>\n",
       "      <th></th>\n",
       "      <th></th>\n",
       "      <th></th>\n",
       "      <th></th>\n",
       "      <th></th>\n",
       "      <th></th>\n",
       "      <th></th>\n",
       "      <th></th>\n",
       "      <th></th>\n",
       "      <th></th>\n",
       "      <th></th>\n",
       "      <th></th>\n",
       "      <th></th>\n",
       "      <th></th>\n",
       "      <th></th>\n",
       "    </tr>\n",
       "  </thead>\n",
       "  <tbody>\n",
       "    <tr>\n",
       "      <th>aDC_HPCA_1</th>\n",
       "      <td>8</td>\n",
       "      <td>C1QA</td>\n",
       "      <td>C1QB</td>\n",
       "      <td>CD80</td>\n",
       "      <td>IL12B</td>\n",
       "      <td>CCL13</td>\n",
       "      <td>CCL17</td>\n",
       "      <td>CCL19</td>\n",
       "      <td>CCL22</td>\n",
       "      <td>NaN</td>\n",
       "      <td>...</td>\n",
       "      <td>NaN</td>\n",
       "      <td>NaN</td>\n",
       "      <td>NaN</td>\n",
       "      <td>NaN</td>\n",
       "      <td>NaN</td>\n",
       "      <td>NaN</td>\n",
       "      <td>NaN</td>\n",
       "      <td>NaN</td>\n",
       "      <td>NaN</td>\n",
       "      <td>NaN</td>\n",
       "    </tr>\n",
       "    <tr>\n",
       "      <th>aDC_HPCA_2</th>\n",
       "      <td>10</td>\n",
       "      <td>C1QA</td>\n",
       "      <td>C1QB</td>\n",
       "      <td>CD80</td>\n",
       "      <td>FPR3</td>\n",
       "      <td>HLA-DQA1</td>\n",
       "      <td>IL12B</td>\n",
       "      <td>CCL13</td>\n",
       "      <td>CCL17</td>\n",
       "      <td>CCL19</td>\n",
       "      <td>...</td>\n",
       "      <td>NaN</td>\n",
       "      <td>NaN</td>\n",
       "      <td>NaN</td>\n",
       "      <td>NaN</td>\n",
       "      <td>NaN</td>\n",
       "      <td>NaN</td>\n",
       "      <td>NaN</td>\n",
       "      <td>NaN</td>\n",
       "      <td>NaN</td>\n",
       "      <td>NaN</td>\n",
       "    </tr>\n",
       "    <tr>\n",
       "      <th>aDC_HPCA_3</th>\n",
       "      <td>10</td>\n",
       "      <td>C1QA</td>\n",
       "      <td>C1QB</td>\n",
       "      <td>CD80</td>\n",
       "      <td>FPR3</td>\n",
       "      <td>HLA-DQA1</td>\n",
       "      <td>IL12B</td>\n",
       "      <td>CCL13</td>\n",
       "      <td>CCL17</td>\n",
       "      <td>CCL19</td>\n",
       "      <td>...</td>\n",
       "      <td>NaN</td>\n",
       "      <td>NaN</td>\n",
       "      <td>NaN</td>\n",
       "      <td>NaN</td>\n",
       "      <td>NaN</td>\n",
       "      <td>NaN</td>\n",
       "      <td>NaN</td>\n",
       "      <td>NaN</td>\n",
       "      <td>NaN</td>\n",
       "      <td>NaN</td>\n",
       "    </tr>\n",
       "    <tr>\n",
       "      <th>aDC_IRIS_1</th>\n",
       "      <td>19</td>\n",
       "      <td>CD80</td>\n",
       "      <td>IL3RA</td>\n",
       "      <td>IL12B</td>\n",
       "      <td>CXCL9</td>\n",
       "      <td>PTGIR</td>\n",
       "      <td>CCL8</td>\n",
       "      <td>CCL13</td>\n",
       "      <td>CCL17</td>\n",
       "      <td>CCL19</td>\n",
       "      <td>...</td>\n",
       "      <td>NaN</td>\n",
       "      <td>NaN</td>\n",
       "      <td>NaN</td>\n",
       "      <td>NaN</td>\n",
       "      <td>NaN</td>\n",
       "      <td>NaN</td>\n",
       "      <td>NaN</td>\n",
       "      <td>NaN</td>\n",
       "      <td>NaN</td>\n",
       "      <td>NaN</td>\n",
       "    </tr>\n",
       "    <tr>\n",
       "      <th>aDC_IRIS_2</th>\n",
       "      <td>173</td>\n",
       "      <td>ACHE</td>\n",
       "      <td>ADPRH</td>\n",
       "      <td>ALOX15B</td>\n",
       "      <td>ANXA5</td>\n",
       "      <td>XIAP</td>\n",
       "      <td>ARF3</td>\n",
       "      <td>RHOG</td>\n",
       "      <td>ATP1B3</td>\n",
       "      <td>BLVRA</td>\n",
       "      <td>...</td>\n",
       "      <td>NaN</td>\n",
       "      <td>NaN</td>\n",
       "      <td>NaN</td>\n",
       "      <td>NaN</td>\n",
       "      <td>NaN</td>\n",
       "      <td>NaN</td>\n",
       "      <td>NaN</td>\n",
       "      <td>NaN</td>\n",
       "      <td>NaN</td>\n",
       "      <td>NaN</td>\n",
       "    </tr>\n",
       "  </tbody>\n",
       "</table>\n",
       "<p>5 rows × 201 columns</p>\n",
       "</div>"
      ],
      "text/plain": [
       "                    # of genes Unnamed: 2 Unnamed: 3 Unnamed: 4 Unnamed: 5  \\\n",
       "Celltype_Source_ID                                                           \n",
       "aDC_HPCA_1                   8       C1QA       C1QB       CD80      IL12B   \n",
       "aDC_HPCA_2                  10       C1QA       C1QB       CD80       FPR3   \n",
       "aDC_HPCA_3                  10       C1QA       C1QB       CD80       FPR3   \n",
       "aDC_IRIS_1                  19       CD80      IL3RA      IL12B      CXCL9   \n",
       "aDC_IRIS_2                 173       ACHE      ADPRH    ALOX15B      ANXA5   \n",
       "\n",
       "                   Unnamed: 6 Unnamed: 7 Unnamed: 8 Unnamed: 9 Unnamed: 10  \\\n",
       "Celltype_Source_ID                                                           \n",
       "aDC_HPCA_1              CCL13      CCL17      CCL19      CCL22         NaN   \n",
       "aDC_HPCA_2           HLA-DQA1      IL12B      CCL13      CCL17       CCL19   \n",
       "aDC_HPCA_3           HLA-DQA1      IL12B      CCL13      CCL17       CCL19   \n",
       "aDC_IRIS_1              PTGIR       CCL8      CCL13      CCL17       CCL19   \n",
       "aDC_IRIS_2               XIAP       ARF3       RHOG     ATP1B3       BLVRA   \n",
       "\n",
       "                    ... Unnamed: 192 Unnamed: 193 Unnamed: 194 Unnamed: 195  \\\n",
       "Celltype_Source_ID  ...                                                       \n",
       "aDC_HPCA_1          ...          NaN          NaN          NaN          NaN   \n",
       "aDC_HPCA_2          ...          NaN          NaN          NaN          NaN   \n",
       "aDC_HPCA_3          ...          NaN          NaN          NaN          NaN   \n",
       "aDC_IRIS_1          ...          NaN          NaN          NaN          NaN   \n",
       "aDC_IRIS_2          ...          NaN          NaN          NaN          NaN   \n",
       "\n",
       "                   Unnamed: 196 Unnamed: 197 Unnamed: 198 Unnamed: 199  \\\n",
       "Celltype_Source_ID                                                       \n",
       "aDC_HPCA_1                  NaN          NaN          NaN          NaN   \n",
       "aDC_HPCA_2                  NaN          NaN          NaN          NaN   \n",
       "aDC_HPCA_3                  NaN          NaN          NaN          NaN   \n",
       "aDC_IRIS_1                  NaN          NaN          NaN          NaN   \n",
       "aDC_IRIS_2                  NaN          NaN          NaN          NaN   \n",
       "\n",
       "                   Unnamed: 200 Unnamed: 201  \n",
       "Celltype_Source_ID                            \n",
       "aDC_HPCA_1                  NaN          NaN  \n",
       "aDC_HPCA_2                  NaN          NaN  \n",
       "aDC_HPCA_3                  NaN          NaN  \n",
       "aDC_IRIS_1                  NaN          NaN  \n",
       "aDC_IRIS_2                  NaN          NaN  \n",
       "\n",
       "[5 rows x 201 columns]"
      ]
     },
     "execution_count": 5,
     "metadata": {},
     "output_type": "execute_result"
    }
   ],
   "source": [
    "# Load Additional File 3\n",
    "xcell_file = os.path.join('data', '13059_2017_1349_MOESM3_ESM.xlsx')\n",
    "xcell_df = pd.read_excel(xcell_file, index_col=0)\n",
    "print(xcell_df.shape)\n",
    "xcell_df.head()"
   ]
  },
  {
   "cell_type": "code",
   "execution_count": 6,
   "metadata": {},
   "outputs": [
    {
     "data": {
      "text/plain": [
       "Monocytes             15\n",
       "CD8+ T-cells          15\n",
       "NK cells              15\n",
       "Macrophages           12\n",
       "Neutrophils           12\n",
       "Erythrocytes          12\n",
       "MPP                   12\n",
       "DC                    12\n",
       "Endothelial cells     12\n",
       "CD4+ naive T-cells    12\n",
       "Name: count, dtype: int64"
      ]
     },
     "execution_count": 6,
     "metadata": {},
     "output_type": "execute_result"
    }
   ],
   "source": [
    "# Distribution of number of cell types\n",
    "cell_types = pd.Series([x.split('_')[0] for x in xcell_df.index])\n",
    "cell_types.value_counts().head(10)"
   ]
  },
  {
   "cell_type": "code",
   "execution_count": 7,
   "metadata": {},
   "outputs": [
    {
     "data": {
      "image/png": "[encoded data removed]",
      "text/plain": [
       "<Figure size 640x480 with 1 Axes>"
      ]
     },
     "metadata": {},
     "output_type": "display_data"
    }
   ],
   "source": [
    "# Distribution of number of cell types\n",
    "cell_types.value_counts().hist(bins=10);"
   ]
  },
  {
   "cell_type": "code",
   "execution_count": 8,
   "metadata": {},
   "outputs": [],
   "source": [
    "# Load curated gene names from versioned resource \n",
    "commit = '721204091a96e55de6dcad165d6d8265e67e2a48'\n",
    "url = 'https://raw.githubusercontent.com/cognoma/genes/{}/data/genes.tsv'.format(commit)\n",
    "gene_df = pd.read_table(url)\n",
    "\n",
    "# Only consider protein-coding genes\n",
    "gene_df = (\n",
    "    gene_df.query(\"gene_type == 'protein-coding'\")\n",
    ")\n",
    "\n",
    "symbol_to_entrez = dict(zip(gene_df.symbol,\n",
    "                            gene_df.entrez_gene_id))"
   ]
  },
  {
   "cell_type": "code",
   "execution_count": 9,
   "metadata": {},
   "outputs": [],
   "source": [
    "# Add alternative symbols to entrez mapping dictionary\n",
    "gene_df = gene_df.dropna(axis='rows', subset=['synonyms'])\n",
    "gene_df.synonyms = gene_df.synonyms.str.split('|')\n",
    "\n",
    "all_syn = (\n",
    "    gene_df.apply(lambda x: pd.Series(x.synonyms), axis=1)\n",
    "    .stack()\n",
    "    .reset_index(level=1, drop=True)\n",
    ")\n",
    "\n",
    "# Name the synonym series and join with rest of genes\n",
    "all_syn.name = 'all_synonyms'\n",
    "gene_with_syn_df = gene_df.join(all_syn)\n",
    "\n",
    "# Remove rows that have redundant symbols in all_synonyms\n",
    "gene_with_syn_df = (\n",
    "    gene_with_syn_df\n",
    "    \n",
    "    # Drop synonyms that are duplicated - can't be sure of mapping\n",
    "    .drop_duplicates(['all_synonyms'], keep=False)\n",
    "\n",
    "    # Drop rows in which the symbol appears in the list of synonyms\n",
    "    .query('symbol not in all_synonyms')\n",
    ")"
   ]
  },
  {
   "cell_type": "code",
   "execution_count": 10,
   "metadata": {},
   "outputs": [],
   "source": [
    "# Create a synonym to entrez mapping and add to dictionary\n",
    "synonym_to_entrez = dict(zip(gene_with_syn_df.all_synonyms,\n",
    "                             gene_with_syn_df.entrez_gene_id))\n",
    "\n",
    "symbol_to_entrez.update(synonym_to_entrez)"
   ]
  },
  {
   "cell_type": "code",
   "execution_count": 11,
   "metadata": {},
   "outputs": [
    {
     "data": {
      "text/plain": [
       "<Axes: >"
      ]
     },
     "execution_count": 11,
     "metadata": {},
     "output_type": "execute_result"
    },
    {
     "data": {
      "image/png": "[encoded data removed]",
      "text/plain": [
       "<Figure size 640x480 with 1 Axes>"
      ]
     },
     "metadata": {},
     "output_type": "display_data"
    }
   ],
   "source": [
    "# How many entrez genes match to duplicate symbols\n",
    "pd.DataFrame.from_dict(symbol_to_entrez, orient='index').loc[:, 0].value_counts().hist(bins=30)"
   ]
  },
  {
   "cell_type": "code",
   "execution_count": 10,
   "metadata": {},
   "outputs": [],
   "source": [
    "# Load gene updater\n",
    "url = 'https://raw.githubusercontent.com/cognoma/genes/{}/data/updater.tsv'.format(commit)\n",
    "updater_df = pd.read_table(url)\n",
    "old_to_new_entrez = dict(zip(updater_df.old_entrez_gene_id,\n",
    "                             updater_df.new_entrez_gene_id))"
   ]
  },
  {
   "cell_type": "code",
   "execution_count": 11,
   "metadata": {},
   "outputs": [],
   "source": [
    "geneset_url = 'https://doi.org/10.1186/s13059-017-1349-1'\n",
    "xcell_gmt_file = os.path.join('data', 'xcell_all_entrez.gmt')\n",
    "\n",
    "with open(xcell_gmt_file, 'w') as csvfile:\n",
    "    xcell_writer = csv.writer(csvfile, delimiter='\\t')\n",
    "    for row in xcell_df.iterrows():\n",
    "        geneset_name = row[0].replace(' ', '-')\n",
    "        genes = row[1][2:].dropna().tolist()\n",
    "\n",
    "        # There are data issues of input datetime types\n",
    "        # Ignore these genes for now\n",
    "        # See https://doi.org/10.1186/s13059-016-1044-7\n",
    "        genes = [x for x in genes if not type(x) == datetime.date]\n",
    "\n",
    "        # Convert genes to entrez IDs (considering alternate mappings)\n",
    "        genes = [symbol_to_entrez[x] for x in genes if x in symbol_to_entrez]\n",
    "\n",
    "        # Remove empty cells in the cell file\n",
    "        #genes = [x for x in genes if x != '']\n",
    "        row_to_write = [geneset_name, geneset_url] + list(set(genes))\n",
    "        xcell_writer.writerow(row_to_write)"
   ]
  }
 ],
 "metadata": {
  "kernelspec": {
   "display_name": "Python 3",
   "language": "python",
   "name": "python3"
  },
  "language_info": {
   "codemirror_mode": {
    "name": "ipython",
    "version": 3
   },
   "file_extension": ".py",
   "mimetype": "text/x-python",
   "name": "python",
   "nbconvert_exporter": "python",
   "pygments_lexer": "ipython3",
   "version": "3.9.6"
  }
 },
 "nbformat": 4,
 "nbformat_minor": 2
}
