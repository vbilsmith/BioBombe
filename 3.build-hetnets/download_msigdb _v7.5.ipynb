{
 "cells": [
  {
   "cell_type": "markdown",
   "metadata": {},
   "source": [
    "# Download MSigDB Gene Sets\n",
    "\n",
    "**Gregory Way 2018**\n",
    "\n",
    "**Modified scripts originally written by Daniel Himmelstein (@dhimmel)**\n",
    "\n",
    "_Most_ MSigDB gene sets (_version 6.1_) are now `CC BY 4.0` (except KEGG, BioCarta, and AAAS/STKE). Download and process."
   ]
  },
  {
   "cell_type": "markdown",
   "metadata": {},
   "source": [
    "This file is a test to download the most current version of the msigdb file (v7.5)"
   ]
  },
  {
   "cell_type": "code",
   "execution_count": 6,
   "metadata": {
    "jupyter": {
     "is_executing": true
    }
   },
   "outputs": [],
   "source": [
    "import csv\n",
    "import pandas as pd"
   ]
  },
  {
   "cell_type": "code",
   "execution_count": 7,
   "metadata": {
    "jupyter": {
     "is_executing": true
    }
   },
   "outputs": [
    {
     "name": "stdout",
     "output_type": "stream",
     "text": [
      "Defaulting to user installation because normal site-packages is not writeable\n",
      "Requirement already satisfied: pandas in /Users/randolab/Library/Python/3.9/lib/python/site-packages (2.2.2)\n",
      "Requirement already satisfied: tzdata>=2022.7 in /Users/randolab/Library/Python/3.9/lib/python/site-packages (from pandas) (2024.1)\n",
      "Requirement already satisfied: pytz>=2020.1 in /Users/randolab/Library/Python/3.9/lib/python/site-packages (from pandas) (2024.1)\n",
      "Requirement already satisfied: python-dateutil>=2.8.2 in /Users/randolab/Library/Python/3.9/lib/python/site-packages (from pandas) (2.9.0.post0)\n",
      "Requirement already satisfied: numpy>=1.22.4 in /Users/randolab/Library/Python/3.9/lib/python/site-packages (from pandas) (2.0.0)\n",
      "Requirement already satisfied: six>=1.5 in /Library/Developer/CommandLineTools/Library/Frameworks/Python3.framework/Versions/3.9/lib/python3.9/site-packages (from python-dateutil>=2.8.2->pandas) (1.15.0)\n",
      "\u001b[33mWARNING: You are using pip version 21.2.4; however, version 24.0 is available.\n",
      "You should consider upgrading via the '/Library/Developer/CommandLineTools/usr/bin/python3 -m pip install --upgrade pip' command.\u001b[0m\n",
      "\u001b[33mhint: Using 'master' as the name for the initial branch. This default branch name\u001b[m\n",
      "\u001b[33mhint: is subject to change. To configure the initial branch name to use in all\u001b[m\n",
      "\u001b[33mhint: of your new repositories, which will suppress this warning, call:\u001b[m\n",
      "\u001b[33mhint:\u001b[m\n",
      "\u001b[33mhint: \tgit config --global init.defaultBranch <name>\u001b[m\n",
      "\u001b[33mhint:\u001b[m\n",
      "\u001b[33mhint: Names commonly chosen instead of 'master' are 'main', 'trunk' and\u001b[m\n",
      "\u001b[33mhint: 'development'. The just-created branch can be renamed via this command:\u001b[m\n",
      "\u001b[33mhint:\u001b[m\n",
      "\u001b[33mhint: \tgit branch -m <name>\u001b[m\n",
      "Initialized empty Git repository in /usr/local/Homebrew/.git/\n",
      "fatal: not in a git directory\n",
      "\u001b[34m==>\u001b[0m \u001b[1mDownloading https://formulae.brew.sh/api/formula.jws.json\u001b[0m\n",
      "######################################################################### 100.0%\n",
      "\u001b[34m==>\u001b[0m \u001b[1mDownloading https://formulae.brew.sh/api/cask.jws.json\u001b[0m\n",
      "######################################################################### 100.0%\n",
      "\u001b[33mWarning:\u001b[0m wget 1.24.5 is already installed and up-to-date.\n",
      "To reinstall 1.24.5, run:\n",
      "  brew reinstall wget\n"
     ]
    }
   ],
   "source": [
    "# Added by Halie to let the code run in vscode\n",
    "!pip3 install pandas\n",
    "!brew install wget"
   ]
  },
  {
   "cell_type": "code",
   "execution_count": 8,
   "metadata": {},
   "outputs": [],
   "source": [
    "# MSigDB version\n",
    "version = '7.5'\n",
    "gene_id = 'entrez'"
   ]
  },
  {
   "cell_type": "code",
   "execution_count": 9,
   "metadata": {},
   "outputs": [],
   "source": [
    "# Download full MSigDB matrix\n",
    "# NOTE - This fill is not added to the repository because it contains\n",
    "# gene sets with restrictive licenses\n",
    "\n",
    "# Ignore comments above. Fore reproduceability, delete 7.5 from the prefix and replace with \n",
    "# version you wish to download\n",
    "\n",
    "url_prefix = 'https://data.broadinstitute.org/gsea-msigdb/msigdb/release/7.5/'\n",
    "url = '{}/msigdb.v{}.{}.gmt'.format(url_prefix, version, gene_id)\n",
    "! wget --timestamping --no-verbose --directory-prefix 'data' $url\n"
   ]
  },
  {
   "cell_type": "code",
   "execution_count": 13,
   "metadata": {},
   "outputs": [],
   "source": [
    "# Many of the genesets have sub gene sets - process these as well\n",
    "msigdb_dict = {\n",
    "    'c1.all': 'positional gene sets',\n",
    "    'c2.cgp': 'chemical and genetic perturbations',\n",
    "    'c2.cp.reactome': 'Reactome gene sets',\n",
    "    'c3.mir': 'microRNA targets',\n",
    "    'c3.tft': 'transcription factor targets',\n",
    "    'c4.cgn': 'cancer gene neighborhoods',\n",
    "    'c4.cm': 'cancer modules',\n",
    "    'c5.go.bp': 'GO biological processes',\n",
    "    'c5.go.cc': 'GO cellular components',\n",
    "    'c5.go.mf': 'GO molecular functions',\n",
    "    'c6.all': 'oncogenic signatures',\n",
    "    'c7.all': 'immunologic signatrues',\n",
    "    'c8.all': 'cell type signature',\n",
    "    'h.all' : 'hall mark genes'\n",
    "}\n",
    "\n",
    "for gene_set in msigdb_dict:\n",
    "    url = '{}/{}.v{}.{}.gmt'.format(url_prefix, gene_set, version, gene_id)\n",
    "    ! wget --timestamping --no-verbose --directory-prefix 'data' $url\n",
    "    "
   ]
  },
  {
   "cell_type": "code",
   "execution_count": 11,
   "metadata": {},
   "outputs": [],
   "source": [
    "# url = '{}/{}.v{}.{}.gmt'.format(url_prefix, gene_set, version, gene_id)\n",
    "#     ! wget --timestamping --no-verbose --directory-prefix 'data_test' $url"
   ]
  },
  {
   "cell_type": "code",
   "execution_count": 14,
   "metadata": {},
   "outputs": [
    {
     "name": "stdout",
     "output_type": "stream",
     "text": [
      "credential.helper=osxkeychain\n",
      "init.defaultbranch=main\n",
      "filter.lfs.clean=git-lfs clean -- %f\n",
      "filter.lfs.smudge=git-lfs smudge -- %f\n",
      "filter.lfs.process=git-lfs filter-process\n",
      "filter.lfs.required=true\n",
      "user.name=Chioma-Opara\n",
      "user.email=copara@smith.edu\n",
      "core.repositoryformatversion=0\n",
      "core.filemode=true\n",
      "core.bare=false\n",
      "core.logallrefupdates=true\n",
      "core.ignorecase=true\n",
      "core.precomposeunicode=true\n",
      "lfs.repositoryformatversion=0\n",
      "remote.origin.url=https://github.com/vbilsmith/BioBombe.git\n",
      "remote.origin.fetch=+refs/heads/*:refs/remotes/origin/*\n",
      "lfs.https://github.com/vbilsmith/BioBombe.git/info/lfs.access=basic\n",
      "branch.Testin_BioBombe_vscode.remote=origin\n",
      "branch.Testin_BioBombe_vscode.merge=refs/heads/Testin_BioBombe_vscode\n"
     ]
    }
   ],
   "source": [
    "!git config --list"
   ]
  }
 ],
 "metadata": {
  "kernelspec": {
   "display_name": "Python 3",
   "language": "python",
   "name": "python3"
  },
  "language_info": {
   "codemirror_mode": {
    "name": "ipython",
    "version": 3
   },
   "file_extension": ".py",
   "mimetype": "text/x-python",
   "name": "python",
   "nbconvert_exporter": "python",
   "pygments_lexer": "ipython3",
   "version": "3.9.6"
  }
 },
 "nbformat": 4,
 "nbformat_minor": 2
}
