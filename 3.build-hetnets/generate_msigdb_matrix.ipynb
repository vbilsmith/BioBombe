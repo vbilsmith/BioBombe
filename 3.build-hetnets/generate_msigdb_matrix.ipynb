{
 "cells": [
  {
   "cell_type": "markdown",
   "metadata": {},
   "source": [
    "# Processing MSigDB Gene Sets into Binary Matrix\n",
    "\n",
    "This notebook loads the full MSigDB gene set `.gmt` file (version 6.1) and outputs a binary, gene by gene set matrix indicating gene membership in the given gene set.\n",
    "\n",
    "**Note that we exclude gene sets with restrictive licences (KEGG, Biocarta, and The AAAS/STKE Cell Signaling Database)**"
   ]
  },
  {
   "cell_type": "code",
   "execution_count": 8,
   "metadata": {},
   "outputs": [],
   "source": [
    "import os\n",
    "import csv\n",
    "import numpy as np\n",
    "import pandas as pd\n"
   ]
  },
  {
   "cell_type": "code",
   "execution_count": 12,
   "metadata": {},
   "outputs": [],
   "source": [
    "def make_template_matrix(msigdb_file, blacklist, checkblacklist=True):\n",
    "    \"\"\"\n",
    "    Retrieve all genes and pathways from given msigdb .gmt file\n",
    "    \n",
    "    Output:\n",
    "    sorted gene by pathways pandas dataframe. Entries indicate membership\n",
    "    \"\"\"\n",
    "    all_db_pathways = []\n",
    "    all_db_genes = []\n",
    "\n",
    "    # Get a set of all genes and all pathways in MSigDB (not blacklisted)\n",
    "    with open(msigdb_file, 'r') as msigdb_fh:\n",
    "        msigdb_reader = csv.reader(msigdb_fh, delimiter='\\t')\n",
    "\n",
    "        for row in msigdb_reader:\n",
    "            print(row)\n",
    "            signature_name = row[0]\n",
    "            signature_genes = row[2:]\n",
    "            \n",
    "            if checkblacklist:\n",
    "                if signature_name.startswith(blacklist):\n",
    "                    continue\n",
    "\n",
    "            all_db_pathways.append(signature_name)\n",
    "            all_db_genes += signature_genes\n",
    "        \n",
    "    big_msigdb_df = pd.DataFrame(0, index=set(all_db_genes), columns=all_db_pathways)\n",
    "    big_msigdb_df = big_msigdb_df.sort_index()\n",
    "    big_msigdb_df = big_msigdb_df.T.sort_index().T\n",
    "    \n",
    "    # Loop through file again to populate dataframe. This is a fast implementation\n",
    "    with open(msigdb_file, 'r') as msigdb_fh:\n",
    "        msigdb_reader = csv.reader(msigdb_fh, delimiter='\\t')\n",
    "        for row in msigdb_reader:\n",
    "            signature_name = row[0]\n",
    "            signature_genes = row[2:]\n",
    "            if checkblacklist:\n",
    "                if signature_name.startswith(blacklist):\n",
    "                    continue\n",
    "\n",
    "            for gene in signature_genes:\n",
    "                big_msigdb_df.at[gene, signature_name] = 1\n",
    "\n",
    "    return big_msigdb_df"
   ]
  },
  {
   "cell_type": "code",
   "execution_count": 13,
   "metadata": {},
   "outputs": [],
   "source": [
    "# Store .gmt files\n",
    "full_msigdb_file = os.path.join('data', 'msigdb.v6.1.entrez.gmt')\n",
    "\n",
    "# Resources with restrictive licenses\n",
    "blacklist = ('KEGG', 'BIOCARTA', 'ST_')"
   ]
  },
  {
   "cell_type": "markdown",
   "metadata": {},
   "source": [
    "## Process MSigDB gmt files into large matrix"
   ]
  },
  {
   "cell_type": "code",
   "execution_count": 14,
   "metadata": {},
   "outputs": [
    {
     "name": "stdout",
     "output_type": "stream",
     "text": [
      "[]\n"
     ]
    },
    {
     "ename": "IndexError",
     "evalue": "list index out of range",
     "output_type": "error",
     "traceback": [
      "\u001b[0;31m---------------------------------------------------------------------------\u001b[0m",
      "\u001b[0;31mIndexError\u001b[0m                                Traceback (most recent call last)",
      "File \u001b[0;32m<timed exec>:1\u001b[0m\n",
      "Cell \u001b[0;32mIn[12], line 17\u001b[0m, in \u001b[0;36mmake_template_matrix\u001b[0;34m(msigdb_file, blacklist, checkblacklist)\u001b[0m\n\u001b[1;32m     15\u001b[0m \u001b[39mfor\u001b[39;00m row \u001b[39min\u001b[39;00m msigdb_reader:\n\u001b[1;32m     16\u001b[0m     \u001b[39mprint\u001b[39m(row)\n\u001b[0;32m---> 17\u001b[0m     signature_name \u001b[39m=\u001b[39m row[\u001b[39m0\u001b[39;49m]\n\u001b[1;32m     18\u001b[0m     signature_genes \u001b[39m=\u001b[39m row[\u001b[39m2\u001b[39m:]\n\u001b[1;32m     20\u001b[0m     \u001b[39mif\u001b[39;00m checkblacklist:\n",
      "\u001b[0;31mIndexError\u001b[0m: list index out of range"
     ]
    }
   ],
   "source": [
    "%%time\n",
    "full_msigdb_df = make_template_matrix(full_msigdb_file, blacklist, checkblacklist=True)\n",
    "print(full_msigdb_df.shape)"
   ]
  },
  {
   "cell_type": "code",
   "execution_count": 5,
   "metadata": {},
   "outputs": [
    {
     "name": "stdout",
     "output_type": "stream",
     "text": [
      "CPU times: user 10min 18s, sys: 52 ms, total: 10min 18s\n",
      "Wall time: 10min 16s\n"
     ]
    }
   ],
   "source": [
    "%%time\n",
    "full_msigdb_file = os.path.join('data', 'full_msigdb_binary_matrix.tsv.bz2')\n",
    "full_msigdb_df.to_csv(full_msigdb_file, sep='\\t', compression='bz2')"
   ]
  }
 ],
 "metadata": {
  "kernelspec": {
   "display_name": "Python 3",
   "language": "python",
   "name": "python3"
  },
  "language_info": {
   "codemirror_mode": {
    "name": "ipython",
    "version": 3
   },
   "file_extension": ".py",
   "mimetype": "text/x-python",
   "name": "python",
   "nbconvert_exporter": "python",
   "pygments_lexer": "ipython3",
   "version": "3.9.6"
  }
 },
 "nbformat": 4,
 "nbformat_minor": 2
}
